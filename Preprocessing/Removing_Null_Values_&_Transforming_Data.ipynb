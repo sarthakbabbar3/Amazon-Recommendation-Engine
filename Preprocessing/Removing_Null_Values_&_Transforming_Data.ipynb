{
 "cells": [
  {
   "cell_type": "code",
   "execution_count": 1,
   "id": "8509b7f5",
   "metadata": {},
   "outputs": [],
   "source": [
    "import pandas as pd"
   ]
  },
  {
   "cell_type": "code",
   "execution_count": 2,
   "id": "40c004a0",
   "metadata": {},
   "outputs": [],
   "source": [
    "data = pd.read_pickle('/Users/sarthakbabbar/Desktop/DataSet/relevant_reviewer_modified_also_buy.pkl')"
   ]
  },
  {
   "cell_type": "code",
   "execution_count": 3,
   "id": "e5663dd9",
   "metadata": {},
   "outputs": [
    {
     "data": {
      "text/plain": [
       "3368235"
      ]
     },
     "execution_count": 3,
     "metadata": {},
     "output_type": "execute_result"
    }
   ],
   "source": [
    "len(data)"
   ]
  },
  {
   "cell_type": "code",
   "execution_count": 4,
   "id": "e799d576",
   "metadata": {},
   "outputs": [
    {
     "data": {
      "text/html": [
       "<div>\n",
       "<style scoped>\n",
       "    .dataframe tbody tr th:only-of-type {\n",
       "        vertical-align: middle;\n",
       "    }\n",
       "\n",
       "    .dataframe tbody tr th {\n",
       "        vertical-align: top;\n",
       "    }\n",
       "\n",
       "    .dataframe thead th {\n",
       "        text-align: right;\n",
       "    }\n",
       "</style>\n",
       "<table border=\"1\" class=\"dataframe\">\n",
       "  <thead>\n",
       "    <tr style=\"text-align: right;\">\n",
       "      <th></th>\n",
       "      <th>overall</th>\n",
       "      <th>verified</th>\n",
       "      <th>reviewTime</th>\n",
       "      <th>reviewerID</th>\n",
       "      <th>asin</th>\n",
       "      <th>reviewerName</th>\n",
       "      <th>reviewText</th>\n",
       "      <th>summary</th>\n",
       "      <th>unixReviewTime</th>\n",
       "      <th>vote</th>\n",
       "      <th>...</th>\n",
       "      <th>brand</th>\n",
       "      <th>feature</th>\n",
       "      <th>rank</th>\n",
       "      <th>also_view</th>\n",
       "      <th>main_cat</th>\n",
       "      <th>similar_item</th>\n",
       "      <th>date</th>\n",
       "      <th>price</th>\n",
       "      <th>imageURL</th>\n",
       "      <th>imageURLHighRes</th>\n",
       "    </tr>\n",
       "  </thead>\n",
       "  <tbody>\n",
       "    <tr>\n",
       "      <th>0</th>\n",
       "      <td>5.0</td>\n",
       "      <td>True</td>\n",
       "      <td>04 14, 2014</td>\n",
       "      <td>A1QGNMC6O1VW39</td>\n",
       "      <td>0511189877</td>\n",
       "      <td>CK</td>\n",
       "      <td>Dog got the old remote and destroyed it.  Didn...</td>\n",
       "      <td>Works Great with my TWC box</td>\n",
       "      <td>1397433600</td>\n",
       "      <td>8</td>\n",
       "      <td>...</td>\n",
       "      <td>URC</td>\n",
       "      <td>[Instruction manual included]</td>\n",
       "      <td>[&gt;#4,971 in Electronics &amp;gt; Accessories &amp;amp;...</td>\n",
       "      <td>[B06VTZK822, B00OSI6O7S, B00KUL8O0W, B01BHEQQY...</td>\n",
       "      <td>All Electronics</td>\n",
       "      <td>class=\"a-bordered a-horizontal-stripes  a-spa...</td>\n",
       "      <td>January 31, 2013</td>\n",
       "      <td></td>\n",
       "      <td>[https://images-na.ssl-images-amazon.com/image...</td>\n",
       "      <td>[https://images-na.ssl-images-amazon.com/image...</td>\n",
       "    </tr>\n",
       "    <tr>\n",
       "      <th>1</th>\n",
       "      <td>5.0</td>\n",
       "      <td>True</td>\n",
       "      <td>03 27, 2014</td>\n",
       "      <td>A2TY0BTJOTENPG</td>\n",
       "      <td>0511189877</td>\n",
       "      <td>Goblinthrasher</td>\n",
       "      <td>We had an old Time Warner Cable remote that wa...</td>\n",
       "      <td>Excellent replacement to Time Warner Cable remote</td>\n",
       "      <td>1395878400</td>\n",
       "      <td>NaN</td>\n",
       "      <td>...</td>\n",
       "      <td>URC</td>\n",
       "      <td>[Instruction manual included]</td>\n",
       "      <td>[&gt;#4,971 in Electronics &amp;gt; Accessories &amp;amp;...</td>\n",
       "      <td>[B06VTZK822, B00OSI6O7S, B00KUL8O0W, B01BHEQQY...</td>\n",
       "      <td>All Electronics</td>\n",
       "      <td>class=\"a-bordered a-horizontal-stripes  a-spa...</td>\n",
       "      <td>January 31, 2013</td>\n",
       "      <td></td>\n",
       "      <td>[https://images-na.ssl-images-amazon.com/image...</td>\n",
       "      <td>[https://images-na.ssl-images-amazon.com/image...</td>\n",
       "    </tr>\n",
       "    <tr>\n",
       "      <th>2</th>\n",
       "      <td>5.0</td>\n",
       "      <td>True</td>\n",
       "      <td>03 23, 2014</td>\n",
       "      <td>A34ATBPOK6HCHY</td>\n",
       "      <td>0511189877</td>\n",
       "      <td>Nancy C. Johnson</td>\n",
       "      <td>This unit works just like the TEC unit only be...</td>\n",
       "      <td>Great piece</td>\n",
       "      <td>1395532800</td>\n",
       "      <td>3</td>\n",
       "      <td>...</td>\n",
       "      <td>URC</td>\n",
       "      <td>[Instruction manual included]</td>\n",
       "      <td>[&gt;#4,971 in Electronics &amp;gt; Accessories &amp;amp;...</td>\n",
       "      <td>[B06VTZK822, B00OSI6O7S, B00KUL8O0W, B01BHEQQY...</td>\n",
       "      <td>All Electronics</td>\n",
       "      <td>class=\"a-bordered a-horizontal-stripes  a-spa...</td>\n",
       "      <td>January 31, 2013</td>\n",
       "      <td></td>\n",
       "      <td>[https://images-na.ssl-images-amazon.com/image...</td>\n",
       "      <td>[https://images-na.ssl-images-amazon.com/image...</td>\n",
       "    </tr>\n",
       "    <tr>\n",
       "      <th>3</th>\n",
       "      <td>5.0</td>\n",
       "      <td>True</td>\n",
       "      <td>03 22, 2014</td>\n",
       "      <td>A89DO69P0XZ27</td>\n",
       "      <td>0511189877</td>\n",
       "      <td>Stephen Schultz</td>\n",
       "      <td>It is an exact duplicate of my Time warner rem...</td>\n",
       "      <td>Time Warner cable remote</td>\n",
       "      <td>1395446400</td>\n",
       "      <td>NaN</td>\n",
       "      <td>...</td>\n",
       "      <td>URC</td>\n",
       "      <td>[Instruction manual included]</td>\n",
       "      <td>[&gt;#4,971 in Electronics &amp;gt; Accessories &amp;amp;...</td>\n",
       "      <td>[B06VTZK822, B00OSI6O7S, B00KUL8O0W, B01BHEQQY...</td>\n",
       "      <td>All Electronics</td>\n",
       "      <td>class=\"a-bordered a-horizontal-stripes  a-spa...</td>\n",
       "      <td>January 31, 2013</td>\n",
       "      <td></td>\n",
       "      <td>[https://images-na.ssl-images-amazon.com/image...</td>\n",
       "      <td>[https://images-na.ssl-images-amazon.com/image...</td>\n",
       "    </tr>\n",
       "    <tr>\n",
       "      <th>4</th>\n",
       "      <td>5.0</td>\n",
       "      <td>True</td>\n",
       "      <td>06 18, 2017</td>\n",
       "      <td>A2QQBWLL6S609V</td>\n",
       "      <td>0511189877</td>\n",
       "      <td>Kenny</td>\n",
       "      <td>Exactly what I needed and what I ordered.</td>\n",
       "      <td>Five Stars</td>\n",
       "      <td>1497744000</td>\n",
       "      <td>NaN</td>\n",
       "      <td>...</td>\n",
       "      <td>URC</td>\n",
       "      <td>[Instruction manual included]</td>\n",
       "      <td>[&gt;#4,971 in Electronics &amp;gt; Accessories &amp;amp;...</td>\n",
       "      <td>[B06VTZK822, B00OSI6O7S, B00KUL8O0W, B01BHEQQY...</td>\n",
       "      <td>All Electronics</td>\n",
       "      <td>class=\"a-bordered a-horizontal-stripes  a-spa...</td>\n",
       "      <td>January 31, 2013</td>\n",
       "      <td></td>\n",
       "      <td>[https://images-na.ssl-images-amazon.com/image...</td>\n",
       "      <td>[https://images-na.ssl-images-amazon.com/image...</td>\n",
       "    </tr>\n",
       "    <tr>\n",
       "      <th>5</th>\n",
       "      <td>5.0</td>\n",
       "      <td>True</td>\n",
       "      <td>06 17, 2017</td>\n",
       "      <td>A1W4R6JIKHHYRP</td>\n",
       "      <td>0511189877</td>\n",
       "      <td>Is</td>\n",
       "      <td>works fine, needs no programming</td>\n",
       "      <td>Five Stars</td>\n",
       "      <td>1497657600</td>\n",
       "      <td>NaN</td>\n",
       "      <td>...</td>\n",
       "      <td>URC</td>\n",
       "      <td>[Instruction manual included]</td>\n",
       "      <td>[&gt;#4,971 in Electronics &amp;gt; Accessories &amp;amp;...</td>\n",
       "      <td>[B06VTZK822, B00OSI6O7S, B00KUL8O0W, B01BHEQQY...</td>\n",
       "      <td>All Electronics</td>\n",
       "      <td>class=\"a-bordered a-horizontal-stripes  a-spa...</td>\n",
       "      <td>January 31, 2013</td>\n",
       "      <td></td>\n",
       "      <td>[https://images-na.ssl-images-amazon.com/image...</td>\n",
       "      <td>[https://images-na.ssl-images-amazon.com/image...</td>\n",
       "    </tr>\n",
       "    <tr>\n",
       "      <th>6</th>\n",
       "      <td>5.0</td>\n",
       "      <td>True</td>\n",
       "      <td>05 31, 2017</td>\n",
       "      <td>A7362LXMQEM6W</td>\n",
       "      <td>0511189877</td>\n",
       "      <td>Online shopper</td>\n",
       "      <td>Worked out of the box with my cable box in nor...</td>\n",
       "      <td>Paid full price</td>\n",
       "      <td>1496188800</td>\n",
       "      <td>NaN</td>\n",
       "      <td>...</td>\n",
       "      <td>URC</td>\n",
       "      <td>[Instruction manual included]</td>\n",
       "      <td>[&gt;#4,971 in Electronics &amp;gt; Accessories &amp;amp;...</td>\n",
       "      <td>[B06VTZK822, B00OSI6O7S, B00KUL8O0W, B01BHEQQY...</td>\n",
       "      <td>All Electronics</td>\n",
       "      <td>class=\"a-bordered a-horizontal-stripes  a-spa...</td>\n",
       "      <td>January 31, 2013</td>\n",
       "      <td></td>\n",
       "      <td>[https://images-na.ssl-images-amazon.com/image...</td>\n",
       "      <td>[https://images-na.ssl-images-amazon.com/image...</td>\n",
       "    </tr>\n",
       "    <tr>\n",
       "      <th>7</th>\n",
       "      <td>5.0</td>\n",
       "      <td>True</td>\n",
       "      <td>05 14, 2017</td>\n",
       "      <td>A2ZGMHYM8G0YEI</td>\n",
       "      <td>0511189877</td>\n",
       "      <td>Kindle Customer</td>\n",
       "      <td>I was able to program this device with no help...</td>\n",
       "      <td>Great product!</td>\n",
       "      <td>1494720000</td>\n",
       "      <td>NaN</td>\n",
       "      <td>...</td>\n",
       "      <td>URC</td>\n",
       "      <td>[Instruction manual included]</td>\n",
       "      <td>[&gt;#4,971 in Electronics &amp;gt; Accessories &amp;amp;...</td>\n",
       "      <td>[B06VTZK822, B00OSI6O7S, B00KUL8O0W, B01BHEQQY...</td>\n",
       "      <td>All Electronics</td>\n",
       "      <td>class=\"a-bordered a-horizontal-stripes  a-spa...</td>\n",
       "      <td>January 31, 2013</td>\n",
       "      <td></td>\n",
       "      <td>[https://images-na.ssl-images-amazon.com/image...</td>\n",
       "      <td>[https://images-na.ssl-images-amazon.com/image...</td>\n",
       "    </tr>\n",
       "    <tr>\n",
       "      <th>8</th>\n",
       "      <td>5.0</td>\n",
       "      <td>True</td>\n",
       "      <td>04 30, 2017</td>\n",
       "      <td>A1RPSIU7ED8T3R</td>\n",
       "      <td>0511189877</td>\n",
       "      <td>D. Carter</td>\n",
       "      <td>Exactly as it was described. Works perfect wit...</td>\n",
       "      <td>Works perfect with our Cisco DVR</td>\n",
       "      <td>1493510400</td>\n",
       "      <td>NaN</td>\n",
       "      <td>...</td>\n",
       "      <td>URC</td>\n",
       "      <td>[Instruction manual included]</td>\n",
       "      <td>[&gt;#4,971 in Electronics &amp;gt; Accessories &amp;amp;...</td>\n",
       "      <td>[B06VTZK822, B00OSI6O7S, B00KUL8O0W, B01BHEQQY...</td>\n",
       "      <td>All Electronics</td>\n",
       "      <td>class=\"a-bordered a-horizontal-stripes  a-spa...</td>\n",
       "      <td>January 31, 2013</td>\n",
       "      <td></td>\n",
       "      <td>[https://images-na.ssl-images-amazon.com/image...</td>\n",
       "      <td>[https://images-na.ssl-images-amazon.com/image...</td>\n",
       "    </tr>\n",
       "    <tr>\n",
       "      <th>9</th>\n",
       "      <td>5.0</td>\n",
       "      <td>True</td>\n",
       "      <td>04 25, 2017</td>\n",
       "      <td>AN9GDJ0WIJAMQ</td>\n",
       "      <td>0511189877</td>\n",
       "      <td>NICK R.</td>\n",
       "      <td>Needed a spare and this did the trick.. works ...</td>\n",
       "      <td>Five Stars</td>\n",
       "      <td>1493078400</td>\n",
       "      <td>NaN</td>\n",
       "      <td>...</td>\n",
       "      <td>URC</td>\n",
       "      <td>[Instruction manual included]</td>\n",
       "      <td>[&gt;#4,971 in Electronics &amp;gt; Accessories &amp;amp;...</td>\n",
       "      <td>[B06VTZK822, B00OSI6O7S, B00KUL8O0W, B01BHEQQY...</td>\n",
       "      <td>All Electronics</td>\n",
       "      <td>class=\"a-bordered a-horizontal-stripes  a-spa...</td>\n",
       "      <td>January 31, 2013</td>\n",
       "      <td></td>\n",
       "      <td>[https://images-na.ssl-images-amazon.com/image...</td>\n",
       "      <td>[https://images-na.ssl-images-amazon.com/image...</td>\n",
       "    </tr>\n",
       "  </tbody>\n",
       "</table>\n",
       "<p>10 rows × 25 columns</p>\n",
       "</div>"
      ],
      "text/plain": [
       "   overall  verified   reviewTime      reviewerID        asin  \\\n",
       "0      5.0      True  04 14, 2014  A1QGNMC6O1VW39  0511189877   \n",
       "1      5.0      True  03 27, 2014  A2TY0BTJOTENPG  0511189877   \n",
       "2      5.0      True  03 23, 2014  A34ATBPOK6HCHY  0511189877   \n",
       "3      5.0      True  03 22, 2014   A89DO69P0XZ27  0511189877   \n",
       "4      5.0      True  06 18, 2017  A2QQBWLL6S609V  0511189877   \n",
       "5      5.0      True  06 17, 2017  A1W4R6JIKHHYRP  0511189877   \n",
       "6      5.0      True  05 31, 2017   A7362LXMQEM6W  0511189877   \n",
       "7      5.0      True  05 14, 2017  A2ZGMHYM8G0YEI  0511189877   \n",
       "8      5.0      True  04 30, 2017  A1RPSIU7ED8T3R  0511189877   \n",
       "9      5.0      True  04 25, 2017   AN9GDJ0WIJAMQ  0511189877   \n",
       "\n",
       "       reviewerName                                         reviewText  \\\n",
       "0                CK  Dog got the old remote and destroyed it.  Didn...   \n",
       "1    Goblinthrasher  We had an old Time Warner Cable remote that wa...   \n",
       "2  Nancy C. Johnson  This unit works just like the TEC unit only be...   \n",
       "3   Stephen Schultz  It is an exact duplicate of my Time warner rem...   \n",
       "4             Kenny          Exactly what I needed and what I ordered.   \n",
       "5                Is                   works fine, needs no programming   \n",
       "6    Online shopper  Worked out of the box with my cable box in nor...   \n",
       "7   Kindle Customer  I was able to program this device with no help...   \n",
       "8         D. Carter  Exactly as it was described. Works perfect wit...   \n",
       "9           NICK R.  Needed a spare and this did the trick.. works ...   \n",
       "\n",
       "                                             summary  unixReviewTime vote  \\\n",
       "0                        Works Great with my TWC box      1397433600    8   \n",
       "1  Excellent replacement to Time Warner Cable remote      1395878400  NaN   \n",
       "2                                        Great piece      1395532800    3   \n",
       "3                           Time Warner cable remote      1395446400  NaN   \n",
       "4                                         Five Stars      1497744000  NaN   \n",
       "5                                         Five Stars      1497657600  NaN   \n",
       "6                                    Paid full price      1496188800  NaN   \n",
       "7                                     Great product!      1494720000  NaN   \n",
       "8                   Works perfect with our Cisco DVR      1493510400  NaN   \n",
       "9                                         Five Stars      1493078400  NaN   \n",
       "\n",
       "   ... brand                        feature  \\\n",
       "0  ...   URC  [Instruction manual included]   \n",
       "1  ...   URC  [Instruction manual included]   \n",
       "2  ...   URC  [Instruction manual included]   \n",
       "3  ...   URC  [Instruction manual included]   \n",
       "4  ...   URC  [Instruction manual included]   \n",
       "5  ...   URC  [Instruction manual included]   \n",
       "6  ...   URC  [Instruction manual included]   \n",
       "7  ...   URC  [Instruction manual included]   \n",
       "8  ...   URC  [Instruction manual included]   \n",
       "9  ...   URC  [Instruction manual included]   \n",
       "\n",
       "                                                rank  \\\n",
       "0  [>#4,971 in Electronics &gt; Accessories &amp;...   \n",
       "1  [>#4,971 in Electronics &gt; Accessories &amp;...   \n",
       "2  [>#4,971 in Electronics &gt; Accessories &amp;...   \n",
       "3  [>#4,971 in Electronics &gt; Accessories &amp;...   \n",
       "4  [>#4,971 in Electronics &gt; Accessories &amp;...   \n",
       "5  [>#4,971 in Electronics &gt; Accessories &amp;...   \n",
       "6  [>#4,971 in Electronics &gt; Accessories &amp;...   \n",
       "7  [>#4,971 in Electronics &gt; Accessories &amp;...   \n",
       "8  [>#4,971 in Electronics &gt; Accessories &amp;...   \n",
       "9  [>#4,971 in Electronics &gt; Accessories &amp;...   \n",
       "\n",
       "                                           also_view         main_cat  \\\n",
       "0  [B06VTZK822, B00OSI6O7S, B00KUL8O0W, B01BHEQQY...  All Electronics   \n",
       "1  [B06VTZK822, B00OSI6O7S, B00KUL8O0W, B01BHEQQY...  All Electronics   \n",
       "2  [B06VTZK822, B00OSI6O7S, B00KUL8O0W, B01BHEQQY...  All Electronics   \n",
       "3  [B06VTZK822, B00OSI6O7S, B00KUL8O0W, B01BHEQQY...  All Electronics   \n",
       "4  [B06VTZK822, B00OSI6O7S, B00KUL8O0W, B01BHEQQY...  All Electronics   \n",
       "5  [B06VTZK822, B00OSI6O7S, B00KUL8O0W, B01BHEQQY...  All Electronics   \n",
       "6  [B06VTZK822, B00OSI6O7S, B00KUL8O0W, B01BHEQQY...  All Electronics   \n",
       "7  [B06VTZK822, B00OSI6O7S, B00KUL8O0W, B01BHEQQY...  All Electronics   \n",
       "8  [B06VTZK822, B00OSI6O7S, B00KUL8O0W, B01BHEQQY...  All Electronics   \n",
       "9  [B06VTZK822, B00OSI6O7S, B00KUL8O0W, B01BHEQQY...  All Electronics   \n",
       "\n",
       "                                        similar_item              date price  \\\n",
       "0   class=\"a-bordered a-horizontal-stripes  a-spa...  January 31, 2013         \n",
       "1   class=\"a-bordered a-horizontal-stripes  a-spa...  January 31, 2013         \n",
       "2   class=\"a-bordered a-horizontal-stripes  a-spa...  January 31, 2013         \n",
       "3   class=\"a-bordered a-horizontal-stripes  a-spa...  January 31, 2013         \n",
       "4   class=\"a-bordered a-horizontal-stripes  a-spa...  January 31, 2013         \n",
       "5   class=\"a-bordered a-horizontal-stripes  a-spa...  January 31, 2013         \n",
       "6   class=\"a-bordered a-horizontal-stripes  a-spa...  January 31, 2013         \n",
       "7   class=\"a-bordered a-horizontal-stripes  a-spa...  January 31, 2013         \n",
       "8   class=\"a-bordered a-horizontal-stripes  a-spa...  January 31, 2013         \n",
       "9   class=\"a-bordered a-horizontal-stripes  a-spa...  January 31, 2013         \n",
       "\n",
       "                                            imageURL  \\\n",
       "0  [https://images-na.ssl-images-amazon.com/image...   \n",
       "1  [https://images-na.ssl-images-amazon.com/image...   \n",
       "2  [https://images-na.ssl-images-amazon.com/image...   \n",
       "3  [https://images-na.ssl-images-amazon.com/image...   \n",
       "4  [https://images-na.ssl-images-amazon.com/image...   \n",
       "5  [https://images-na.ssl-images-amazon.com/image...   \n",
       "6  [https://images-na.ssl-images-amazon.com/image...   \n",
       "7  [https://images-na.ssl-images-amazon.com/image...   \n",
       "8  [https://images-na.ssl-images-amazon.com/image...   \n",
       "9  [https://images-na.ssl-images-amazon.com/image...   \n",
       "\n",
       "                                     imageURLHighRes  \n",
       "0  [https://images-na.ssl-images-amazon.com/image...  \n",
       "1  [https://images-na.ssl-images-amazon.com/image...  \n",
       "2  [https://images-na.ssl-images-amazon.com/image...  \n",
       "3  [https://images-na.ssl-images-amazon.com/image...  \n",
       "4  [https://images-na.ssl-images-amazon.com/image...  \n",
       "5  [https://images-na.ssl-images-amazon.com/image...  \n",
       "6  [https://images-na.ssl-images-amazon.com/image...  \n",
       "7  [https://images-na.ssl-images-amazon.com/image...  \n",
       "8  [https://images-na.ssl-images-amazon.com/image...  \n",
       "9  [https://images-na.ssl-images-amazon.com/image...  \n",
       "\n",
       "[10 rows x 25 columns]"
      ]
     },
     "execution_count": 4,
     "metadata": {},
     "output_type": "execute_result"
    }
   ],
   "source": [
    "data.head(10)"
   ]
  },
  {
   "cell_type": "markdown",
   "id": "ef13d0c7",
   "metadata": {},
   "source": [
    "### Handling Missing Data"
   ]
  },
  {
   "cell_type": "code",
   "execution_count": 5,
   "id": "e5e59f73",
   "metadata": {
    "scrolled": false
   },
   "outputs": [
    {
     "data": {
      "text/plain": [
       "overall                  0\n",
       "verified                 0\n",
       "reviewTime               0\n",
       "reviewerID               0\n",
       "asin                     0\n",
       "reviewerName           236\n",
       "reviewText            1172\n",
       "summary                621\n",
       "unixReviewTime           0\n",
       "vote               2975595\n",
       "image              3332886\n",
       "category                 0\n",
       "description              0\n",
       "title                    0\n",
       "also_buy                 0\n",
       "brand                    0\n",
       "feature                  0\n",
       "rank                     0\n",
       "also_view                0\n",
       "main_cat                 0\n",
       "similar_item             0\n",
       "date                     0\n",
       "price                    0\n",
       "imageURL                 0\n",
       "imageURLHighRes          0\n",
       "dtype: int64"
      ]
     },
     "execution_count": 5,
     "metadata": {},
     "output_type": "execute_result"
    }
   ],
   "source": [
    "data.isnull().sum()"
   ]
  },
  {
   "cell_type": "code",
   "execution_count": 6,
   "id": "42978ce8",
   "metadata": {
    "scrolled": false
   },
   "outputs": [
    {
     "name": "stdout",
     "output_type": "stream",
     "text": [
      "overall 0.0 %\n",
      "verified 0.0 %\n",
      "reviewTime 0.0 %\n",
      "reviewerID 0.0 %\n",
      "asin 0.0 %\n",
      "reviewerName 0.003117359685413874 %\n",
      "reviewText 0.0 %\n",
      "summary 0.0 %\n",
      "unixReviewTime 0.0 %\n",
      "vote 0.0 %\n",
      "image 0.0 %\n",
      "category 0.0 %\n",
      "description 11.750634976478779 %\n",
      "title 0.0 %\n",
      "also_buy 51.574192418284355 %\n",
      "brand 0.057953201008836976 %\n",
      "feature 5.06639233901435 %\n",
      "rank 1.1552341211346595 %\n",
      "also_view 50.09659361653804 %\n",
      "main_cat 0.0 %\n",
      "similar_item 27.43220113798473 %\n",
      "date 5.228554420935594 %\n",
      "price 40.34092039302483 %\n",
      "imageURL 16.11511667089737 %\n",
      "imageURLHighRes 16.11511667089737 %\n"
     ]
    }
   ],
   "source": [
    "index = []\n",
    "\n",
    "for col in data.columns:\n",
    "    count = 0\n",
    "    for idx,value in enumerate(data[col]):\n",
    "        if value in ['', [], 'Nan', 'NaN', 'nan'] or value is None:\n",
    "            count += 1\n",
    "            index.append(idx)\n",
    "    print(col, count*100/3368235,\"%\")"
   ]
  },
  {
   "cell_type": "code",
   "execution_count": 7,
   "id": "d3f50ac8",
   "metadata": {},
   "outputs": [
    {
     "data": {
      "text/plain": [
       "3104743"
      ]
     },
     "execution_count": 7,
     "metadata": {},
     "output_type": "execute_result"
    }
   ],
   "source": [
    "len(set(index))"
   ]
  },
  {
   "cell_type": "code",
   "execution_count": 8,
   "id": "2842580c",
   "metadata": {},
   "outputs": [
    {
     "data": {
      "text/plain": [
       "0              URC\n",
       "1              URC\n",
       "2              URC\n",
       "3              URC\n",
       "4              URC\n",
       "            ...   \n",
       "3368230     ZZcell\n",
       "3368231    HiMedia\n",
       "3368232    Costech\n",
       "3368233    Costech\n",
       "3368234    Costech\n",
       "Name: brand, Length: 3368235, dtype: object"
      ]
     },
     "execution_count": 8,
     "metadata": {},
     "output_type": "execute_result"
    }
   ],
   "source": [
    "data['brand']"
   ]
  },
  {
   "cell_type": "markdown",
   "id": "12d11368",
   "metadata": {},
   "source": [
    "####  Dropping rows where brand is empty string"
   ]
  },
  {
   "cell_type": "code",
   "execution_count": 9,
   "id": "5468afd5",
   "metadata": {
    "scrolled": true
   },
   "outputs": [],
   "source": [
    "data = data[data.brand != '']"
   ]
  },
  {
   "cell_type": "code",
   "execution_count": 10,
   "id": "2e4fb849",
   "metadata": {},
   "outputs": [
    {
     "data": {
      "text/plain": [
       "3366283"
      ]
     },
     "execution_count": 10,
     "metadata": {},
     "output_type": "execute_result"
    }
   ],
   "source": [
    "len(data)"
   ]
  },
  {
   "cell_type": "markdown",
   "id": "731d9c66",
   "metadata": {},
   "source": [
    "#### Drop Reviewer Names since we have ReviewerID. Also dropping Vote, Image Columns, also_view since majority of there rows are empty."
   ]
  },
  {
   "cell_type": "code",
   "execution_count": 11,
   "id": "d8146bb7",
   "metadata": {},
   "outputs": [],
   "source": [
    "data.drop(['reviewerName'],axis = 1,inplace = True)"
   ]
  },
  {
   "cell_type": "code",
   "execution_count": 12,
   "id": "dd270477",
   "metadata": {},
   "outputs": [],
   "source": [
    "data.drop(['image','vote'],axis = 1,inplace = True)"
   ]
  },
  {
   "cell_type": "code",
   "execution_count": 13,
   "id": "7988df90",
   "metadata": {},
   "outputs": [],
   "source": [
    "data.drop(['imageURL','imageURLHighRes'],axis = 1,inplace = True)"
   ]
  },
  {
   "cell_type": "code",
   "execution_count": 14,
   "id": "cd823c79",
   "metadata": {},
   "outputs": [],
   "source": [
    "data.drop(['also_view'],axis = 1,inplace = True)"
   ]
  },
  {
   "cell_type": "code",
   "execution_count": 15,
   "id": "5d16b158",
   "metadata": {},
   "outputs": [
    {
     "data": {
      "text/plain": [
       "Index(['overall', 'verified', 'reviewTime', 'reviewerID', 'asin', 'reviewText',\n",
       "       'summary', 'unixReviewTime', 'category', 'description', 'title',\n",
       "       'also_buy', 'brand', 'feature', 'rank', 'main_cat', 'similar_item',\n",
       "       'date', 'price'],\n",
       "      dtype='object')"
      ]
     },
     "execution_count": 15,
     "metadata": {},
     "output_type": "execute_result"
    }
   ],
   "source": [
    "data.columns"
   ]
  },
  {
   "cell_type": "markdown",
   "id": "51636e5d",
   "metadata": {},
   "source": [
    "#### Dropping verified since all reviews are verified"
   ]
  },
  {
   "cell_type": "code",
   "execution_count": 16,
   "id": "c867f8a6",
   "metadata": {},
   "outputs": [],
   "source": [
    "data.drop(['verified'],axis = 1,inplace = True)"
   ]
  },
  {
   "cell_type": "code",
   "execution_count": 17,
   "id": "98a578d5",
   "metadata": {},
   "outputs": [],
   "source": [
    "data.drop(['similar_item'],axis = 1,inplace = True)"
   ]
  },
  {
   "cell_type": "code",
   "execution_count": 18,
   "id": "010297c7",
   "metadata": {},
   "outputs": [],
   "source": [
    "data.drop(['rank'],axis = 1,inplace = True)"
   ]
  },
  {
   "cell_type": "markdown",
   "id": "74abb4dd",
   "metadata": {},
   "source": [
    "#### Dropping Rows with missing values in price, description, review text, sales rank. Decided not to drop price column since price is an important factor."
   ]
  },
  {
   "cell_type": "code",
   "execution_count": 19,
   "id": "fac8c55e",
   "metadata": {},
   "outputs": [],
   "source": [
    "def drop_rows_by_values(df, col, values):\n",
    "    return df[~df[col].isin(values)]"
   ]
  },
  {
   "cell_type": "code",
   "execution_count": 20,
   "id": "7b9fe033",
   "metadata": {},
   "outputs": [],
   "source": [
    "data = drop_rows_by_values(data,'price',['', [], 'Nan', 'NaN', 'nan',None])"
   ]
  },
  {
   "cell_type": "code",
   "execution_count": 21,
   "id": "a1e8ae85",
   "metadata": {},
   "outputs": [
    {
     "data": {
      "text/plain": [
       "2009312"
      ]
     },
     "execution_count": 21,
     "metadata": {},
     "output_type": "execute_result"
    }
   ],
   "source": [
    "len(data)"
   ]
  },
  {
   "cell_type": "code",
   "execution_count": 22,
   "id": "c62a5582",
   "metadata": {},
   "outputs": [],
   "source": [
    "data = drop_rows_by_values(data,'reviewText',['', [], 'Nan', 'NaN', 'nan',None])"
   ]
  },
  {
   "cell_type": "code",
   "execution_count": 23,
   "id": "66cd6290",
   "metadata": {},
   "outputs": [
    {
     "data": {
      "text/plain": [
       "2009312"
      ]
     },
     "execution_count": 23,
     "metadata": {},
     "output_type": "execute_result"
    }
   ],
   "source": [
    "len(data)"
   ]
  },
  {
   "cell_type": "code",
   "execution_count": 24,
   "id": "a8a8392e",
   "metadata": {},
   "outputs": [],
   "source": [
    "data = drop_rows_by_values(data,'description',['', [], 'Nan', 'NaN', 'nan',None])"
   ]
  },
  {
   "cell_type": "code",
   "execution_count": 25,
   "id": "1cbdd56a",
   "metadata": {},
   "outputs": [
    {
     "data": {
      "text/plain": [
       "1764788"
      ]
     },
     "execution_count": 25,
     "metadata": {},
     "output_type": "execute_result"
    }
   ],
   "source": [
    "len(data)"
   ]
  },
  {
   "cell_type": "code",
   "execution_count": 26,
   "id": "1453c332",
   "metadata": {},
   "outputs": [],
   "source": [
    "data.dropna(subset=['reviewText'],inplace = True)"
   ]
  },
  {
   "cell_type": "code",
   "execution_count": 28,
   "id": "ae27010f",
   "metadata": {},
   "outputs": [],
   "source": [
    "data = drop_rows_by_values(data,'also_buy',['', [], 'Nan', 'NaN', 'nan',None])"
   ]
  },
  {
   "cell_type": "code",
   "execution_count": 29,
   "id": "5749ace6",
   "metadata": {},
   "outputs": [],
   "source": [
    "# data = drop_rows_by_values(data,'similar_item',['', [], 'Nan', 'NaN', 'nan',None])"
   ]
  },
  {
   "cell_type": "code",
   "execution_count": 30,
   "id": "02c678d2",
   "metadata": {},
   "outputs": [],
   "source": [
    "data = drop_rows_by_values(data,'feature',['', [], 'Nan', 'NaN', 'nan',None])"
   ]
  },
  {
   "cell_type": "code",
   "execution_count": 31,
   "id": "8bb2d8b2",
   "metadata": {},
   "outputs": [],
   "source": [
    "data = drop_rows_by_values(data,'date',['', [], 'Nan', 'NaN', 'nan',None])"
   ]
  },
  {
   "cell_type": "code",
   "execution_count": 32,
   "id": "0c471ece",
   "metadata": {
    "scrolled": true
   },
   "outputs": [
    {
     "data": {
      "text/plain": [
       "overall             0\n",
       "reviewTime          0\n",
       "reviewerID          0\n",
       "asin                0\n",
       "reviewText          0\n",
       "summary           174\n",
       "unixReviewTime      0\n",
       "category            0\n",
       "description         0\n",
       "title               0\n",
       "also_buy            0\n",
       "brand               0\n",
       "feature             0\n",
       "main_cat            0\n",
       "date                0\n",
       "price               0\n",
       "dtype: int64"
      ]
     },
     "execution_count": 32,
     "metadata": {},
     "output_type": "execute_result"
    }
   ],
   "source": [
    "data.isnull().sum()"
   ]
  },
  {
   "cell_type": "code",
   "execution_count": 33,
   "id": "36b364b8",
   "metadata": {},
   "outputs": [
    {
     "data": {
      "text/plain": [
       "1075986"
      ]
     },
     "execution_count": 33,
     "metadata": {},
     "output_type": "execute_result"
    }
   ],
   "source": [
    "len(data)"
   ]
  },
  {
   "cell_type": "code",
   "execution_count": 34,
   "id": "40b2a969",
   "metadata": {
    "scrolled": false
   },
   "outputs": [
    {
     "name": "stdout",
     "output_type": "stream",
     "text": [
      "overall 0.0 %\n",
      "reviewTime 0.0 %\n",
      "reviewerID 0.0 %\n",
      "asin 0.0 %\n",
      "reviewText 0.0 %\n",
      "summary 0.0 %\n",
      "unixReviewTime 0.0 %\n",
      "category 0.0 %\n",
      "description 0.0 %\n",
      "title 0.0 %\n",
      "also_buy 0.0 %\n",
      "brand 0.0 %\n",
      "feature 0.0 %\n",
      "main_cat 0.0 %\n",
      "date 0.0 %\n",
      "price 0.0 %\n"
     ]
    }
   ],
   "source": [
    "index = []\n",
    "data_len = len(data)\n",
    "\n",
    "for col in data.columns:\n",
    "    count = 0\n",
    "    for idx,value in enumerate(data[col]):\n",
    "        if value in ['', [], 'Nan', 'NaN', 'nan'] or value is None:\n",
    "            count += 1\n",
    "            index.append(idx)\n",
    "    print(col, count*100/data_len,\"%\")"
   ]
  },
  {
   "cell_type": "markdown",
   "id": "b19012bc",
   "metadata": {},
   "source": [
    "#### Merge Review and Summary Columns"
   ]
  },
  {
   "cell_type": "code",
   "execution_count": null,
   "id": "81476f20",
   "metadata": {},
   "outputs": [],
   "source": [
    "data.summary.iloc[0]"
   ]
  },
  {
   "cell_type": "code",
   "execution_count": null,
   "id": "91876868",
   "metadata": {},
   "outputs": [],
   "source": [
    "data.reviewText.iloc[0]"
   ]
  },
  {
   "cell_type": "code",
   "execution_count": null,
   "id": "6a41e6ad",
   "metadata": {},
   "outputs": [],
   "source": [
    "data['review_summary_combined'] = data['summary'] + ' ' + data['reviewText']"
   ]
  },
  {
   "cell_type": "code",
   "execution_count": null,
   "id": "051014ec",
   "metadata": {},
   "outputs": [],
   "source": [
    "data.review_summary_combined.iloc[0]"
   ]
  },
  {
   "cell_type": "markdown",
   "id": "b87a8528",
   "metadata": {},
   "source": [
    "#### Drop review and summary"
   ]
  },
  {
   "cell_type": "code",
   "execution_count": null,
   "id": "b1ad6c5f",
   "metadata": {},
   "outputs": [],
   "source": [
    "data.drop(['reviewText'],axis = 1,inplace = True)"
   ]
  },
  {
   "cell_type": "code",
   "execution_count": null,
   "id": "b02a7623",
   "metadata": {},
   "outputs": [],
   "source": [
    "data.drop(['summary'],axis = 1,inplace = True)"
   ]
  },
  {
   "cell_type": "code",
   "execution_count": null,
   "id": "22767f2d",
   "metadata": {},
   "outputs": [],
   "source": [
    "data.head(2)"
   ]
  },
  {
   "cell_type": "markdown",
   "id": "76a11e44",
   "metadata": {},
   "source": [
    "#### Categorize ratings as positive, negative, and neutral"
   ]
  },
  {
   "cell_type": "code",
   "execution_count": null,
   "id": "39c97fc4",
   "metadata": {},
   "outputs": [],
   "source": [
    "categorize = []\n",
    "\n",
    "for rating in data.overall:\n",
    "    \n",
    "    if rating < 3:\n",
    "        categorize.append('negative')\n",
    "        \n",
    "    \n",
    "    if rating == 3:\n",
    "        categorize.append('neutral')\n",
    "        \n",
    "    \n",
    "    if rating > 3:\n",
    "        categorize.append('positive')"
   ]
  },
  {
   "cell_type": "code",
   "execution_count": null,
   "id": "6d6cd575",
   "metadata": {},
   "outputs": [],
   "source": [
    "data['rating_category'] = categorize"
   ]
  },
  {
   "cell_type": "code",
   "execution_count": null,
   "id": "b744c312",
   "metadata": {},
   "outputs": [],
   "source": [
    "data.head(2)"
   ]
  },
  {
   "cell_type": "markdown",
   "id": "9c3873cc",
   "metadata": {},
   "source": [
    "#### Transform Review Time Column to datetime format"
   ]
  },
  {
   "cell_type": "code",
   "execution_count": null,
   "id": "6b85c91d",
   "metadata": {},
   "outputs": [],
   "source": [
    "data.reviewTime.iloc[0]"
   ]
  },
  {
   "cell_type": "code",
   "execution_count": null,
   "id": "4fc098a8",
   "metadata": {},
   "outputs": [],
   "source": [
    "data['time'] = data.reviewTime.str.replace(',', \"\")"
   ]
  },
  {
   "cell_type": "code",
   "execution_count": null,
   "id": "697dc515",
   "metadata": {},
   "outputs": [],
   "source": [
    "data.time.iloc[0]"
   ]
  },
  {
   "cell_type": "code",
   "execution_count": null,
   "id": "d5766cc6",
   "metadata": {},
   "outputs": [],
   "source": [
    "data['time'] = pd.to_datetime(data['time'], format = '%m %d %Y')"
   ]
  },
  {
   "cell_type": "code",
   "execution_count": null,
   "id": "8bb3fa09",
   "metadata": {},
   "outputs": [],
   "source": [
    "data.time.iloc[0]"
   ]
  },
  {
   "cell_type": "code",
   "execution_count": null,
   "id": "30bcc4d7",
   "metadata": {},
   "outputs": [],
   "source": [
    "data.drop(['reviewTime'],axis = 1,inplace = True)"
   ]
  },
  {
   "cell_type": "code",
   "execution_count": 28,
   "id": "e66aec21",
   "metadata": {},
   "outputs": [
    {
     "data": {
      "text/plain": [
       "1764207"
      ]
     },
     "execution_count": 28,
     "metadata": {},
     "output_type": "execute_result"
    }
   ],
   "source": [
    "data.head(5)\n",
    "len(data)"
   ]
  },
  {
   "cell_type": "code",
   "execution_count": null,
   "id": "92824a73",
   "metadata": {},
   "outputs": [],
   "source": [
    "data.to_pickle('data_nov_8.pkl')"
   ]
  },
  {
   "cell_type": "code",
   "execution_count": null,
   "id": "2a11d166",
   "metadata": {},
   "outputs": [],
   "source": []
  }
 ],
 "metadata": {
  "kernelspec": {
   "display_name": "Python 3",
   "language": "python",
   "name": "python3"
  },
  "language_info": {
   "codemirror_mode": {
    "name": "ipython",
    "version": 3
   },
   "file_extension": ".py",
   "mimetype": "text/x-python",
   "name": "python",
   "nbconvert_exporter": "python",
   "pygments_lexer": "ipython3",
   "version": "3.8.8"
  }
 },
 "nbformat": 4,
 "nbformat_minor": 5
}
