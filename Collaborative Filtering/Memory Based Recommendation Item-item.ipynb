{
 "cells": [
  {
   "cell_type": "code",
   "execution_count": 1,
   "id": "fbf53253",
   "metadata": {},
   "outputs": [],
   "source": [
    "import os\n",
    "import ujson\n",
    "import gzip\n",
    "import pandas as pd\n",
    "import gc\n",
    "from surprise import Reader\n",
    "from surprise import Dataset\n",
    "from surprise.model_selection import GridSearchCV\n",
    "from surprise import SVD\n",
    "from collections import defaultdict\n",
    "import operator\n",
    "from surprise.model_selection import KFold\n",
    "from surprise import accuracy\n",
    "from surprise import KNNWithMeans"
   ]
  },
  {
   "cell_type": "code",
   "execution_count": 2,
   "id": "a1c9a650",
   "metadata": {},
   "outputs": [],
   "source": [
    "data = pd.read_pickle(\"/Users/sidhantarora/work/ALDA/Project/data_nov_8.pkl\")"
   ]
  },
  {
   "cell_type": "code",
   "execution_count": 3,
   "id": "728ef4ba",
   "metadata": {},
   "outputs": [
    {
     "data": {
      "text/plain": [
       "Index(['overall', 'reviewerID', 'asin', 'unixReviewTime', 'category',\n",
       "       'description', 'title', 'also_buy', 'brand', 'feature', 'main_cat',\n",
       "       'date', 'price', 'review_summary_combined', 'rating_category', 'time'],\n",
       "      dtype='object')"
      ]
     },
     "execution_count": 3,
     "metadata": {},
     "output_type": "execute_result"
    }
   ],
   "source": [
    "data.columns"
   ]
  },
  {
   "cell_type": "code",
   "execution_count": 4,
   "id": "e38adcb1",
   "metadata": {},
   "outputs": [
    {
     "data": {
      "text/plain": [
       "['The videosecu TV mount is a mounting solution for most 22\"-47\" LCD LED Plasma TV and some LED up to 55\" with VESA 600x400mm (24\"x16\"), 400x400mm (16\"x16\"),600x300mm(24\"x12\"), 400x200mm (16\"x8\"),300x300mm (12\"x12\"),300x200mm(12\"x8\"),200x200mm (8\"x8\"),200x100mm (8\"x4\") mounting hole pattern .Heavy gauge steel construction provides safety loading up to 66lbs display .It can tilt 15 degree forward or backward and swivel 180 degree. The removable VESA plate can be taken off for easy installation. Post-installation level adjustment allows the TV to perfectly level. The on arm cable management ring system design, guides wires and prevent cable pinching. Standard hardware and user manual included. <br />Notice: This mount fits most 22-47\" TVs (VESA 200x200mm (8x8\")/200x100mm(8x4\")/100x100mm(4x4\") without extender, fits VESA 600x400(24x16\")/400x400mm(16x16\")/600x300mm(24x12\")/400x200mm(16x8\")/300x300mm(12x12\")/300x200mm(12x8\")with 4 plate extender), some up to 50 55 inch TVs manufactured in recent 3 years.']"
      ]
     },
     "execution_count": 4,
     "metadata": {},
     "output_type": "execute_result"
    }
   ],
   "source": [
    "data.description.iloc[0]"
   ]
  },
  {
   "cell_type": "code",
   "execution_count": 5,
   "id": "d958691b",
   "metadata": {},
   "outputs": [
    {
     "data": {
      "text/plain": [
       "['Fits most 22\" to 47\" HDTV and some up to 55\" LED TV (check VESA and weight)',\n",
       " 'Fits VESA (mounting hole patterns) 100x100/200x100/200x200mm without extender, and also fits VESA 600x400/400x400/600x300/400x200/300x300/300x200mm with 4 plate extender',\n",
       " 'Heavy-duty steel construction, loading capacity up to 66 lbs',\n",
       " 'Adjustable tilt +/-15 degrees, swivel 180 degrees, extends 24\" from the wall',\n",
       " 'VESA plate can be taken off, quick release design for easy installation; Post-installation level adjustment allows the TV to perfectly level']"
      ]
     },
     "execution_count": 5,
     "metadata": {},
     "output_type": "execute_result"
    }
   ],
   "source": [
    "data.feature.iloc[0]"
   ]
  },
  {
   "cell_type": "code",
   "execution_count": 6,
   "id": "232b82bb",
   "metadata": {},
   "outputs": [],
   "source": [
    "newData = data[['asin', 'reviewerID', 'overall']].copy()\n"
   ]
  },
  {
   "cell_type": "code",
   "execution_count": 7,
   "id": "5d5b181d",
   "metadata": {},
   "outputs": [
    {
     "data": {
      "text/html": [
       "<div>\n",
       "<style scoped>\n",
       "    .dataframe tbody tr th:only-of-type {\n",
       "        vertical-align: middle;\n",
       "    }\n",
       "\n",
       "    .dataframe tbody tr th {\n",
       "        vertical-align: top;\n",
       "    }\n",
       "\n",
       "    .dataframe thead th {\n",
       "        text-align: right;\n",
       "    }\n",
       "</style>\n",
       "<table border=\"1\" class=\"dataframe\">\n",
       "  <thead>\n",
       "    <tr style=\"text-align: right;\">\n",
       "      <th></th>\n",
       "      <th>asin</th>\n",
       "      <th>reviewerID</th>\n",
       "      <th>overall</th>\n",
       "    </tr>\n",
       "  </thead>\n",
       "  <tbody>\n",
       "    <tr>\n",
       "      <th>246</th>\n",
       "      <td>0972683275</td>\n",
       "      <td>A1KECIKIWDB4HH</td>\n",
       "      <td>4.0</td>\n",
       "    </tr>\n",
       "    <tr>\n",
       "      <th>247</th>\n",
       "      <td>0972683275</td>\n",
       "      <td>A2MQ47BBL7F6B6</td>\n",
       "      <td>5.0</td>\n",
       "    </tr>\n",
       "    <tr>\n",
       "      <th>248</th>\n",
       "      <td>0972683275</td>\n",
       "      <td>ANWW7PT6Z6MHD</td>\n",
       "      <td>5.0</td>\n",
       "    </tr>\n",
       "    <tr>\n",
       "      <th>249</th>\n",
       "      <td>0972683275</td>\n",
       "      <td>A2DEU0B3AUINV9</td>\n",
       "      <td>5.0</td>\n",
       "    </tr>\n",
       "    <tr>\n",
       "      <th>250</th>\n",
       "      <td>0972683275</td>\n",
       "      <td>AE8R1JSMJYIU</td>\n",
       "      <td>4.0</td>\n",
       "    </tr>\n",
       "  </tbody>\n",
       "</table>\n",
       "</div>"
      ],
      "text/plain": [
       "           asin      reviewerID  overall\n",
       "246  0972683275  A1KECIKIWDB4HH      4.0\n",
       "247  0972683275  A2MQ47BBL7F6B6      5.0\n",
       "248  0972683275   ANWW7PT6Z6MHD      5.0\n",
       "249  0972683275  A2DEU0B3AUINV9      5.0\n",
       "250  0972683275    AE8R1JSMJYIU      4.0"
      ]
     },
     "execution_count": 7,
     "metadata": {},
     "output_type": "execute_result"
    }
   ],
   "source": [
    "newData.head(5)"
   ]
  },
  {
   "cell_type": "code",
   "execution_count": 8,
   "id": "b770783e",
   "metadata": {},
   "outputs": [
    {
     "data": {
      "text/plain": [
       "{1.0, 2.0, 3.0, 4.0, 5.0}"
      ]
     },
     "execution_count": 8,
     "metadata": {},
     "output_type": "execute_result"
    }
   ],
   "source": [
    "set(list(newData.overall))"
   ]
  },
  {
   "cell_type": "code",
   "execution_count": 9,
   "id": "003eb3e5",
   "metadata": {},
   "outputs": [],
   "source": [
    "newData = newData.rename(columns={'asin': 'itemID', 'reviewerID': 'userID','overall': 'rating' })"
   ]
  },
  {
   "cell_type": "code",
   "execution_count": 10,
   "id": "c1cd0826",
   "metadata": {},
   "outputs": [
    {
     "data": {
      "text/html": [
       "<div>\n",
       "<style scoped>\n",
       "    .dataframe tbody tr th:only-of-type {\n",
       "        vertical-align: middle;\n",
       "    }\n",
       "\n",
       "    .dataframe tbody tr th {\n",
       "        vertical-align: top;\n",
       "    }\n",
       "\n",
       "    .dataframe thead th {\n",
       "        text-align: right;\n",
       "    }\n",
       "</style>\n",
       "<table border=\"1\" class=\"dataframe\">\n",
       "  <thead>\n",
       "    <tr style=\"text-align: right;\">\n",
       "      <th></th>\n",
       "      <th>itemID</th>\n",
       "      <th>userID</th>\n",
       "      <th>rating</th>\n",
       "    </tr>\n",
       "  </thead>\n",
       "  <tbody>\n",
       "    <tr>\n",
       "      <th>246</th>\n",
       "      <td>0972683275</td>\n",
       "      <td>A1KECIKIWDB4HH</td>\n",
       "      <td>4.0</td>\n",
       "    </tr>\n",
       "    <tr>\n",
       "      <th>247</th>\n",
       "      <td>0972683275</td>\n",
       "      <td>A2MQ47BBL7F6B6</td>\n",
       "      <td>5.0</td>\n",
       "    </tr>\n",
       "    <tr>\n",
       "      <th>248</th>\n",
       "      <td>0972683275</td>\n",
       "      <td>ANWW7PT6Z6MHD</td>\n",
       "      <td>5.0</td>\n",
       "    </tr>\n",
       "    <tr>\n",
       "      <th>249</th>\n",
       "      <td>0972683275</td>\n",
       "      <td>A2DEU0B3AUINV9</td>\n",
       "      <td>5.0</td>\n",
       "    </tr>\n",
       "    <tr>\n",
       "      <th>250</th>\n",
       "      <td>0972683275</td>\n",
       "      <td>AE8R1JSMJYIU</td>\n",
       "      <td>4.0</td>\n",
       "    </tr>\n",
       "    <tr>\n",
       "      <th>...</th>\n",
       "      <td>...</td>\n",
       "      <td>...</td>\n",
       "      <td>...</td>\n",
       "    </tr>\n",
       "    <tr>\n",
       "      <th>3368220</th>\n",
       "      <td>B01HISA452</td>\n",
       "      <td>AG8SMUXFYGYH8</td>\n",
       "      <td>4.0</td>\n",
       "    </tr>\n",
       "    <tr>\n",
       "      <th>3368221</th>\n",
       "      <td>B01HISA452</td>\n",
       "      <td>AB443G89K25H2</td>\n",
       "      <td>5.0</td>\n",
       "    </tr>\n",
       "    <tr>\n",
       "      <th>3368222</th>\n",
       "      <td>B01HISA452</td>\n",
       "      <td>A1X6MABURKFRQA</td>\n",
       "      <td>5.0</td>\n",
       "    </tr>\n",
       "    <tr>\n",
       "      <th>3368223</th>\n",
       "      <td>B01HISA452</td>\n",
       "      <td>A3NJEEYRMW3FJR</td>\n",
       "      <td>5.0</td>\n",
       "    </tr>\n",
       "    <tr>\n",
       "      <th>3368230</th>\n",
       "      <td>B01HIY64XM</td>\n",
       "      <td>A28T6TZRAJF7J5</td>\n",
       "      <td>5.0</td>\n",
       "    </tr>\n",
       "  </tbody>\n",
       "</table>\n",
       "<p>1071586 rows × 3 columns</p>\n",
       "</div>"
      ],
      "text/plain": [
       "             itemID          userID  rating\n",
       "246      0972683275  A1KECIKIWDB4HH     4.0\n",
       "247      0972683275  A2MQ47BBL7F6B6     5.0\n",
       "248      0972683275   ANWW7PT6Z6MHD     5.0\n",
       "249      0972683275  A2DEU0B3AUINV9     5.0\n",
       "250      0972683275    AE8R1JSMJYIU     4.0\n",
       "...             ...             ...     ...\n",
       "3368220  B01HISA452   AG8SMUXFYGYH8     4.0\n",
       "3368221  B01HISA452   AB443G89K25H2     5.0\n",
       "3368222  B01HISA452  A1X6MABURKFRQA     5.0\n",
       "3368223  B01HISA452  A3NJEEYRMW3FJR     5.0\n",
       "3368230  B01HIY64XM  A28T6TZRAJF7J5     5.0\n",
       "\n",
       "[1071586 rows x 3 columns]"
      ]
     },
     "execution_count": 10,
     "metadata": {},
     "output_type": "execute_result"
    }
   ],
   "source": [
    "newData"
   ]
  },
  {
   "cell_type": "code",
   "execution_count": 11,
   "id": "2b1848e8",
   "metadata": {},
   "outputs": [],
   "source": [
    "reader = Reader(rating_scale=(1, 5))\n",
    "\n",
    "# Loads Pandas dataframe\n",
    "surprise_data = Dataset.load_from_df(newData[[\"userID\", \"itemID\",\"rating\"]], reader)"
   ]
  },
  {
   "cell_type": "markdown",
   "id": "f343c902",
   "metadata": {},
   "source": [
    "### Finding the best model for item-item filtering"
   ]
  },
  {
   "cell_type": "code",
   "execution_count": 12,
   "id": "ea1abd49",
   "metadata": {},
   "outputs": [],
   "source": [
    "param = {\n",
    "    \"name\": [\"msd\",\"cosine\"],\n",
    "    \"min_support\": [3,6,9,12],\n",
    "    \"user_based\": [False],\n",
    "}\n",
    "param_grid = {\"sim_options\": param}"
   ]
  },
  {
   "cell_type": "code",
   "execution_count": 13,
   "id": "fef7d184",
   "metadata": {},
   "outputs": [],
   "source": [
    "memory_based = GridSearchCV(KNNWithMeans, param_grid, measures=[\"rmse\"], cv=5)"
   ]
  },
  {
   "cell_type": "code",
   "execution_count": 14,
   "id": "2b16d1bf",
   "metadata": {
    "scrolled": true
   },
   "outputs": [
    {
     "name": "stdout",
     "output_type": "stream",
     "text": [
      "Computing the msd similarity matrix...\n",
      "Done computing similarity matrix.\n",
      "Computing the msd similarity matrix...\n",
      "Done computing similarity matrix.\n",
      "Computing the msd similarity matrix...\n",
      "Done computing similarity matrix.\n",
      "Computing the msd similarity matrix...\n",
      "Done computing similarity matrix.\n",
      "Computing the msd similarity matrix...\n",
      "Done computing similarity matrix.\n",
      "Computing the msd similarity matrix...\n",
      "Done computing similarity matrix.\n",
      "Computing the msd similarity matrix...\n",
      "Done computing similarity matrix.\n",
      "Computing the msd similarity matrix...\n",
      "Done computing similarity matrix.\n",
      "Computing the msd similarity matrix...\n",
      "Done computing similarity matrix.\n",
      "Computing the msd similarity matrix...\n",
      "Done computing similarity matrix.\n",
      "Computing the msd similarity matrix...\n",
      "Done computing similarity matrix.\n",
      "Computing the msd similarity matrix...\n",
      "Done computing similarity matrix.\n",
      "Computing the msd similarity matrix...\n",
      "Done computing similarity matrix.\n",
      "Computing the msd similarity matrix...\n",
      "Done computing similarity matrix.\n",
      "Computing the msd similarity matrix...\n",
      "Done computing similarity matrix.\n",
      "Computing the msd similarity matrix...\n",
      "Done computing similarity matrix.\n",
      "Computing the msd similarity matrix...\n",
      "Done computing similarity matrix.\n",
      "Computing the msd similarity matrix...\n",
      "Done computing similarity matrix.\n",
      "Computing the msd similarity matrix...\n",
      "Done computing similarity matrix.\n",
      "Computing the msd similarity matrix...\n",
      "Done computing similarity matrix.\n",
      "Computing the cosine similarity matrix...\n",
      "Done computing similarity matrix.\n",
      "Computing the cosine similarity matrix...\n",
      "Done computing similarity matrix.\n",
      "Computing the cosine similarity matrix...\n",
      "Done computing similarity matrix.\n",
      "Computing the cosine similarity matrix...\n",
      "Done computing similarity matrix.\n",
      "Computing the cosine similarity matrix...\n",
      "Done computing similarity matrix.\n",
      "Computing the cosine similarity matrix...\n",
      "Done computing similarity matrix.\n",
      "Computing the cosine similarity matrix...\n",
      "Done computing similarity matrix.\n",
      "Computing the cosine similarity matrix...\n",
      "Done computing similarity matrix.\n",
      "Computing the cosine similarity matrix...\n",
      "Done computing similarity matrix.\n",
      "Computing the cosine similarity matrix...\n",
      "Done computing similarity matrix.\n",
      "Computing the cosine similarity matrix...\n",
      "Done computing similarity matrix.\n",
      "Computing the cosine similarity matrix...\n",
      "Done computing similarity matrix.\n",
      "Computing the cosine similarity matrix...\n",
      "Done computing similarity matrix.\n",
      "Computing the cosine similarity matrix...\n",
      "Done computing similarity matrix.\n",
      "Computing the cosine similarity matrix...\n",
      "Done computing similarity matrix.\n",
      "Computing the cosine similarity matrix...\n",
      "Done computing similarity matrix.\n",
      "Computing the cosine similarity matrix...\n",
      "Done computing similarity matrix.\n",
      "Computing the cosine similarity matrix...\n",
      "Done computing similarity matrix.\n",
      "Computing the cosine similarity matrix...\n",
      "Done computing similarity matrix.\n",
      "Computing the cosine similarity matrix...\n",
      "Done computing similarity matrix.\n"
     ]
    }
   ],
   "source": [
    "memory_based.fit(surprise_data)"
   ]
  },
  {
   "cell_type": "code",
   "execution_count": 17,
   "id": "23b215f6",
   "metadata": {
    "scrolled": true
   },
   "outputs": [
    {
     "name": "stdout",
     "output_type": "stream",
     "text": [
      "1.1674483770360704\n",
      "{'sim_options': {'name': 'msd', 'min_support': 12, 'user_based': False}}\n"
     ]
    }
   ],
   "source": [
    "print(memory_based.best_score[\"rmse\"])\n",
    "print(memory_based.best_params[\"rmse\"])"
   ]
  },
  {
   "cell_type": "code",
   "execution_count": 18,
   "id": "819ddccd",
   "metadata": {},
   "outputs": [],
   "source": [
    "evaluation = pd.DataFrame.from_dict(memory_based.cv_results)"
   ]
  },
  {
   "cell_type": "code",
   "execution_count": 19,
   "id": "23162b73",
   "metadata": {
    "scrolled": false
   },
   "outputs": [
    {
     "data": {
      "text/html": [
       "<div>\n",
       "<style scoped>\n",
       "    .dataframe tbody tr th:only-of-type {\n",
       "        vertical-align: middle;\n",
       "    }\n",
       "\n",
       "    .dataframe tbody tr th {\n",
       "        vertical-align: top;\n",
       "    }\n",
       "\n",
       "    .dataframe thead th {\n",
       "        text-align: right;\n",
       "    }\n",
       "</style>\n",
       "<table border=\"1\" class=\"dataframe\">\n",
       "  <thead>\n",
       "    <tr style=\"text-align: right;\">\n",
       "      <th></th>\n",
       "      <th>split0_test_rmse</th>\n",
       "      <th>split1_test_rmse</th>\n",
       "      <th>split2_test_rmse</th>\n",
       "      <th>split3_test_rmse</th>\n",
       "      <th>split4_test_rmse</th>\n",
       "      <th>mean_test_rmse</th>\n",
       "      <th>std_test_rmse</th>\n",
       "      <th>rank_test_rmse</th>\n",
       "      <th>mean_fit_time</th>\n",
       "      <th>std_fit_time</th>\n",
       "      <th>mean_test_time</th>\n",
       "      <th>std_test_time</th>\n",
       "      <th>params</th>\n",
       "      <th>param_sim_options</th>\n",
       "    </tr>\n",
       "  </thead>\n",
       "  <tbody>\n",
       "    <tr>\n",
       "      <th>0</th>\n",
       "      <td>1.174470</td>\n",
       "      <td>1.176033</td>\n",
       "      <td>1.174122</td>\n",
       "      <td>1.170940</td>\n",
       "      <td>1.174991</td>\n",
       "      <td>1.174111</td>\n",
       "      <td>0.001712</td>\n",
       "      <td>7</td>\n",
       "      <td>1.100323</td>\n",
       "      <td>0.008396</td>\n",
       "      <td>1.420710</td>\n",
       "      <td>0.301961</td>\n",
       "      <td>{'sim_options': {'name': 'msd', 'min_support':...</td>\n",
       "      <td>{'name': 'msd', 'min_support': 3, 'user_based'...</td>\n",
       "    </tr>\n",
       "    <tr>\n",
       "      <th>1</th>\n",
       "      <td>1.170822</td>\n",
       "      <td>1.172223</td>\n",
       "      <td>1.170400</td>\n",
       "      <td>1.166309</td>\n",
       "      <td>1.170790</td>\n",
       "      <td>1.170109</td>\n",
       "      <td>0.001998</td>\n",
       "      <td>5</td>\n",
       "      <td>1.086726</td>\n",
       "      <td>0.028467</td>\n",
       "      <td>1.060581</td>\n",
       "      <td>0.234371</td>\n",
       "      <td>{'sim_options': {'name': 'msd', 'min_support':...</td>\n",
       "      <td>{'name': 'msd', 'min_support': 6, 'user_based'...</td>\n",
       "    </tr>\n",
       "    <tr>\n",
       "      <th>2</th>\n",
       "      <td>1.169056</td>\n",
       "      <td>1.170800</td>\n",
       "      <td>1.168779</td>\n",
       "      <td>1.164748</td>\n",
       "      <td>1.168919</td>\n",
       "      <td>1.168460</td>\n",
       "      <td>0.001996</td>\n",
       "      <td>3</td>\n",
       "      <td>1.091813</td>\n",
       "      <td>0.029273</td>\n",
       "      <td>1.054139</td>\n",
       "      <td>0.233335</td>\n",
       "      <td>{'sim_options': {'name': 'msd', 'min_support':...</td>\n",
       "      <td>{'name': 'msd', 'min_support': 9, 'user_based'...</td>\n",
       "    </tr>\n",
       "    <tr>\n",
       "      <th>3</th>\n",
       "      <td>1.167550</td>\n",
       "      <td>1.170020</td>\n",
       "      <td>1.167677</td>\n",
       "      <td>1.163749</td>\n",
       "      <td>1.168247</td>\n",
       "      <td>1.167448</td>\n",
       "      <td>0.002049</td>\n",
       "      <td>1</td>\n",
       "      <td>1.081077</td>\n",
       "      <td>0.021934</td>\n",
       "      <td>1.058894</td>\n",
       "      <td>0.254803</td>\n",
       "      <td>{'sim_options': {'name': 'msd', 'min_support':...</td>\n",
       "      <td>{'name': 'msd', 'min_support': 12, 'user_based...</td>\n",
       "    </tr>\n",
       "    <tr>\n",
       "      <th>4</th>\n",
       "      <td>1.177301</td>\n",
       "      <td>1.178879</td>\n",
       "      <td>1.176987</td>\n",
       "      <td>1.174101</td>\n",
       "      <td>1.177883</td>\n",
       "      <td>1.177030</td>\n",
       "      <td>0.001600</td>\n",
       "      <td>8</td>\n",
       "      <td>1.326730</td>\n",
       "      <td>0.067824</td>\n",
       "      <td>1.105675</td>\n",
       "      <td>0.283655</td>\n",
       "      <td>{'sim_options': {'name': 'cosine', 'min_suppor...</td>\n",
       "      <td>{'name': 'cosine', 'min_support': 3, 'user_bas...</td>\n",
       "    </tr>\n",
       "    <tr>\n",
       "      <th>5</th>\n",
       "      <td>1.172453</td>\n",
       "      <td>1.174006</td>\n",
       "      <td>1.172163</td>\n",
       "      <td>1.168209</td>\n",
       "      <td>1.172575</td>\n",
       "      <td>1.171881</td>\n",
       "      <td>0.001944</td>\n",
       "      <td>6</td>\n",
       "      <td>1.272382</td>\n",
       "      <td>0.024872</td>\n",
       "      <td>1.208185</td>\n",
       "      <td>0.316198</td>\n",
       "      <td>{'sim_options': {'name': 'cosine', 'min_suppor...</td>\n",
       "      <td>{'name': 'cosine', 'min_support': 6, 'user_bas...</td>\n",
       "    </tr>\n",
       "    <tr>\n",
       "      <th>6</th>\n",
       "      <td>1.170174</td>\n",
       "      <td>1.171955</td>\n",
       "      <td>1.169978</td>\n",
       "      <td>1.166041</td>\n",
       "      <td>1.170074</td>\n",
       "      <td>1.169644</td>\n",
       "      <td>0.001944</td>\n",
       "      <td>4</td>\n",
       "      <td>1.234103</td>\n",
       "      <td>0.038445</td>\n",
       "      <td>1.072659</td>\n",
       "      <td>0.249411</td>\n",
       "      <td>{'sim_options': {'name': 'cosine', 'min_suppor...</td>\n",
       "      <td>{'name': 'cosine', 'min_support': 9, 'user_bas...</td>\n",
       "    </tr>\n",
       "    <tr>\n",
       "      <th>7</th>\n",
       "      <td>1.168410</td>\n",
       "      <td>1.170925</td>\n",
       "      <td>1.168567</td>\n",
       "      <td>1.164727</td>\n",
       "      <td>1.169140</td>\n",
       "      <td>1.168354</td>\n",
       "      <td>0.002021</td>\n",
       "      <td>2</td>\n",
       "      <td>1.235160</td>\n",
       "      <td>0.027785</td>\n",
       "      <td>1.076477</td>\n",
       "      <td>0.249897</td>\n",
       "      <td>{'sim_options': {'name': 'cosine', 'min_suppor...</td>\n",
       "      <td>{'name': 'cosine', 'min_support': 12, 'user_ba...</td>\n",
       "    </tr>\n",
       "  </tbody>\n",
       "</table>\n",
       "</div>"
      ],
      "text/plain": [
       "   split0_test_rmse  split1_test_rmse  split2_test_rmse  split3_test_rmse  \\\n",
       "0          1.174470          1.176033          1.174122          1.170940   \n",
       "1          1.170822          1.172223          1.170400          1.166309   \n",
       "2          1.169056          1.170800          1.168779          1.164748   \n",
       "3          1.167550          1.170020          1.167677          1.163749   \n",
       "4          1.177301          1.178879          1.176987          1.174101   \n",
       "5          1.172453          1.174006          1.172163          1.168209   \n",
       "6          1.170174          1.171955          1.169978          1.166041   \n",
       "7          1.168410          1.170925          1.168567          1.164727   \n",
       "\n",
       "   split4_test_rmse  mean_test_rmse  std_test_rmse  rank_test_rmse  \\\n",
       "0          1.174991        1.174111       0.001712               7   \n",
       "1          1.170790        1.170109       0.001998               5   \n",
       "2          1.168919        1.168460       0.001996               3   \n",
       "3          1.168247        1.167448       0.002049               1   \n",
       "4          1.177883        1.177030       0.001600               8   \n",
       "5          1.172575        1.171881       0.001944               6   \n",
       "6          1.170074        1.169644       0.001944               4   \n",
       "7          1.169140        1.168354       0.002021               2   \n",
       "\n",
       "   mean_fit_time  std_fit_time  mean_test_time  std_test_time  \\\n",
       "0       1.100323      0.008396        1.420710       0.301961   \n",
       "1       1.086726      0.028467        1.060581       0.234371   \n",
       "2       1.091813      0.029273        1.054139       0.233335   \n",
       "3       1.081077      0.021934        1.058894       0.254803   \n",
       "4       1.326730      0.067824        1.105675       0.283655   \n",
       "5       1.272382      0.024872        1.208185       0.316198   \n",
       "6       1.234103      0.038445        1.072659       0.249411   \n",
       "7       1.235160      0.027785        1.076477       0.249897   \n",
       "\n",
       "                                              params  \\\n",
       "0  {'sim_options': {'name': 'msd', 'min_support':...   \n",
       "1  {'sim_options': {'name': 'msd', 'min_support':...   \n",
       "2  {'sim_options': {'name': 'msd', 'min_support':...   \n",
       "3  {'sim_options': {'name': 'msd', 'min_support':...   \n",
       "4  {'sim_options': {'name': 'cosine', 'min_suppor...   \n",
       "5  {'sim_options': {'name': 'cosine', 'min_suppor...   \n",
       "6  {'sim_options': {'name': 'cosine', 'min_suppor...   \n",
       "7  {'sim_options': {'name': 'cosine', 'min_suppor...   \n",
       "\n",
       "                                   param_sim_options  \n",
       "0  {'name': 'msd', 'min_support': 3, 'user_based'...  \n",
       "1  {'name': 'msd', 'min_support': 6, 'user_based'...  \n",
       "2  {'name': 'msd', 'min_support': 9, 'user_based'...  \n",
       "3  {'name': 'msd', 'min_support': 12, 'user_based...  \n",
       "4  {'name': 'cosine', 'min_support': 3, 'user_bas...  \n",
       "5  {'name': 'cosine', 'min_support': 6, 'user_bas...  \n",
       "6  {'name': 'cosine', 'min_support': 9, 'user_bas...  \n",
       "7  {'name': 'cosine', 'min_support': 12, 'user_ba...  "
      ]
     },
     "execution_count": 19,
     "metadata": {},
     "output_type": "execute_result"
    }
   ],
   "source": [
    "evaluation"
   ]
  },
  {
   "cell_type": "markdown",
   "id": "444769fb",
   "metadata": {},
   "source": [
    "### Testing on Common Data"
   ]
  },
  {
   "cell_type": "code",
   "execution_count": 20,
   "id": "980b5154",
   "metadata": {},
   "outputs": [],
   "source": [
    "sim_options = {'name': 'msd', 'min_support': 12, 'user_based': False}"
   ]
  },
  {
   "cell_type": "code",
   "execution_count": 21,
   "id": "d917edf2",
   "metadata": {},
   "outputs": [],
   "source": [
    "test_model = KNNWithMeans(sim_options=sim_options)"
   ]
  },
  {
   "cell_type": "code",
   "execution_count": 22,
   "id": "0f36acbc",
   "metadata": {},
   "outputs": [
    {
     "name": "stdout",
     "output_type": "stream",
     "text": [
      "Computing the msd similarity matrix...\n",
      "Done computing similarity matrix.\n",
      "RMSE: 1.1631\n",
      "Computing the msd similarity matrix...\n",
      "Done computing similarity matrix.\n",
      "RMSE: 1.1658\n",
      "Computing the msd similarity matrix...\n",
      "Done computing similarity matrix.\n",
      "RMSE: 1.1650\n",
      "Computing the msd similarity matrix...\n",
      "Done computing similarity matrix.\n",
      "RMSE: 1.1725\n",
      "Computing the msd similarity matrix...\n",
      "Done computing similarity matrix.\n",
      "RMSE: 1.1714\n"
     ]
    }
   ],
   "source": [
    "kf = KFold(n_splits=5)\n",
    "\n",
    "for trainset, testset in kf.split(surprise_data):\n",
    "\n",
    "    # train and test algorithm.\n",
    "    test_model .fit(trainset)\n",
    "    predictions = test_model.test(testset)\n",
    "\n",
    "    # Compute and print Root Mean Squared Error\n",
    "    accuracy.rmse(predictions, verbose=True)"
   ]
  },
  {
   "cell_type": "markdown",
   "id": "73d8f21d",
   "metadata": {},
   "source": [
    "### Using Best Parameters"
   ]
  },
  {
   "cell_type": "code",
   "execution_count": 23,
   "id": "ae84f012",
   "metadata": {},
   "outputs": [],
   "source": [
    "best = memory_based.best_estimator['rmse']"
   ]
  },
  {
   "cell_type": "code",
   "execution_count": 24,
   "id": "caa8d957",
   "metadata": {},
   "outputs": [
    {
     "name": "stdout",
     "output_type": "stream",
     "text": [
      "Computing the msd similarity matrix...\n",
      "Done computing similarity matrix.\n"
     ]
    },
    {
     "data": {
      "text/plain": [
       "<surprise.prediction_algorithms.knns.KNNWithMeans at 0x7fdb6940a700>"
      ]
     },
     "execution_count": 24,
     "metadata": {},
     "output_type": "execute_result"
    }
   ],
   "source": [
    "best.fit(surprise_data.build_full_trainset())"
   ]
  },
  {
   "cell_type": "code",
   "execution_count": 25,
   "id": "4c8c4e75",
   "metadata": {},
   "outputs": [
    {
     "data": {
      "text/plain": [
       "Prediction(uid='A28T6TZRAJF7J5', iid='B01HIY64XM', r_ui=None, est=5, details={'actual_k': 1, 'was_impossible': False})"
      ]
     },
     "execution_count": 25,
     "metadata": {},
     "output_type": "execute_result"
    }
   ],
   "source": [
    "best.predict(\"A28T6TZRAJF7J5\",\"B01HIY64XM\")"
   ]
  },
  {
   "cell_type": "markdown",
   "id": "0ce3570d",
   "metadata": {},
   "source": [
    "### Generating Recommendation"
   ]
  },
  {
   "cell_type": "code",
   "execution_count": 26,
   "id": "3570ef10",
   "metadata": {},
   "outputs": [
    {
     "data": {
      "text/plain": [
       "6576"
      ]
     },
     "execution_count": 26,
     "metadata": {},
     "output_type": "execute_result"
    }
   ],
   "source": [
    "#No. of all unique items\n",
    "all_items = list(set(list(newData.itemID)))\n",
    "len(all_items)"
   ]
  },
  {
   "cell_type": "code",
   "execution_count": 27,
   "id": "4e522be6",
   "metadata": {},
   "outputs": [],
   "source": [
    "def get_rating_predictions(user_id):\n",
    "    \n",
    "    item_rating = defaultdict(int)\n",
    "    \n",
    "    for item in all_items:\n",
    "        item_rating[item] = best.predict(user_id, item).est\n",
    "        \n",
    "    return item_rating"
   ]
  },
  {
   "cell_type": "code",
   "execution_count": 28,
   "id": "3b2a5fa5",
   "metadata": {},
   "outputs": [
    {
     "data": {
      "text/plain": [
       "815053"
      ]
     },
     "execution_count": 28,
     "metadata": {},
     "output_type": "execute_result"
    }
   ],
   "source": [
    "len(set(list(data['reviewerID'])))"
   ]
  },
  {
   "cell_type": "code",
   "execution_count": 29,
   "id": "144af607",
   "metadata": {},
   "outputs": [
    {
     "data": {
      "text/plain": [
       "6576"
      ]
     },
     "execution_count": 29,
     "metadata": {},
     "output_type": "execute_result"
    }
   ],
   "source": [
    "len(set(list(data['asin'])))"
   ]
  },
  {
   "cell_type": "code",
   "execution_count": 30,
   "id": "33f74dc1",
   "metadata": {},
   "outputs": [
    {
     "data": {
      "text/plain": [
       "1071586"
      ]
     },
     "execution_count": 30,
     "metadata": {},
     "output_type": "execute_result"
    }
   ],
   "source": [
    "len(data)"
   ]
  },
  {
   "cell_type": "code",
   "execution_count": 31,
   "id": "8a4ba695",
   "metadata": {},
   "outputs": [],
   "source": [
    "def reviewed_items(user_id):\n",
    "    \n",
    "    items = set()\n",
    "    \n",
    "    for idx in range(len(data)):\n",
    "        if data.iloc[idx]['reviewerID'] == user_id:\n",
    "            items.add(data.iloc[idx]['asin'])\n",
    "            \n",
    "    return items"
   ]
  },
  {
   "cell_type": "code",
   "execution_count": null,
   "id": "1522362c",
   "metadata": {},
   "outputs": [],
   "source": [
    "reviewed_items(\"A28T6TZRAJF7J5\")"
   ]
  },
  {
   "cell_type": "markdown",
   "id": "83597396",
   "metadata": {},
   "source": [
    "###  Mapping Item id to Product Name"
   ]
  },
  {
   "cell_type": "code",
   "execution_count": 33,
   "id": "64704475",
   "metadata": {},
   "outputs": [],
   "source": [
    "itemID_to_name = defaultdict(str)\n",
    "\n",
    "for idx in range(len(data)):\n",
    "    itemID_to_name[data.iloc[idx]['asin']] = data.iloc[idx]['title']"
   ]
  },
  {
   "cell_type": "code",
   "execution_count": 35,
   "id": "c83d4c2b",
   "metadata": {},
   "outputs": [],
   "source": [
    "def get_recommendation(user_id):\n",
    "    item_rating = get_rating_predictions(user_id)\n",
    "    already_bought = reviewed_items(user_id)\n",
    "    sorted_items = sorted(item_rating.items(), key=operator.itemgetter(1), reverse = True)\n",
    "    print(sorted_items[:10])\n",
    "    \n",
    "    items_to_suggest = []\n",
    "    \n",
    "    #Removing already bought items\n",
    "    count = 0\n",
    "    for item in sorted_items:\n",
    "        \n",
    "        if count == 10:\n",
    "            break\n",
    "        \n",
    "        item_id = item[0]\n",
    "        \n",
    "        if item not in already_bought:\n",
    "            items_to_suggest.append(itemID_to_name[item[0]])\n",
    "            count += 1\n",
    "    \n",
    "    return items_to_suggest"
   ]
  },
  {
   "cell_type": "markdown",
   "id": "163c6e9e",
   "metadata": {},
   "source": [
    "####  Items purchased by user A3AKVALGT4Y02G"
   ]
  },
  {
   "cell_type": "code",
   "execution_count": 36,
   "id": "461fc140",
   "metadata": {},
   "outputs": [
    {
     "name": "stdout",
     "output_type": "stream",
     "text": [
      "  PTC Premium Gold Series HDMI hembra/hembra Coupler\n",
      "Panasonic KX-TCA60 Hands-Free Headset with Comfort Fit Headband for Use with Cordless Phones\n",
      "VideoSecu 24\" Long Arm TV Wall Mount Low Profile Articulating Full Motion Cantilever Swing Tilt wall bracket for most 22\" to 55\" LED LCD TV Monitor Flat Screen VESA 200x200 400x400 up to 600x400mm MAH\n",
      "Belkin N300 Pocket WiFi Adapter, 300Mbps Link Rate\n",
      "Mediabridge HDMI Cable (10 Feet) Supports 4K@60Hz, High Speed, Hand-Tested, HDMI 2.0 Ready - UHD, 18Gbps, Audio Return Channel\n",
      "Belkin N150 Wireless/WiFi N Router (Latest Generation)\n"
     ]
    }
   ],
   "source": [
    "bought_items = reviewed_items(\"A3AKVALGT4Y02G\")\n",
    "for i in bought_items:\n",
    "    print(itemID_to_name[i]) "
   ]
  },
  {
   "cell_type": "code",
   "execution_count": 37,
   "id": "274f28a1",
   "metadata": {
    "scrolled": false
   },
   "outputs": [
    {
     "name": "stdout",
     "output_type": "stream",
     "text": [
      "[('B000067SLV', 5), ('B00K6T1QIU', 5), ('B01F6KXSHK', 5), ('B0145MG480', 5), ('B00F3T2FQA', 5), ('B00IQYTTLS', 5), ('B004V1M412', 5), ('B01E7RL1SG', 5), ('B005FYNSUA', 5), ('B000MTWVMO', 5)]\n"
     ]
    },
    {
     "data": {
      "text/plain": [
       "['StarTech.com 6ft Standard Computer Power Cord - NEMA5-15P to C13 - PXT101',\n",
       " 'Smartbuy 25gb 6x Bd-r BDR Blu-ray Single Layer Logo Blank Data Recordable Media Disc Spindle Pack (50-Disc)',\n",
       " 'First2savvv XJD-XT1-D10 dark Brown Leather Half Camera Case Bag Cover base for FUJIFILM X-T1 XT1',\n",
       " 'NEC NP-V332W Multimedia Projector',\n",
       " 'UpBright 18V AC/DC Adapter For Cricut 14-0001 JOD-SWR-05758 JOD-SDU40A-6 J0D-SWR-05758 J0D-SDU40A-6 ALL Cutting Machine Cutter Expression Create KSAH1800250T1M2 KSAS0451800250M2 18VDC Power Supply',\n",
       " 'Projector Ceiling Mount for OPTOMA DH1014 DH1017 EH500 TH1060 TH1060P',\n",
       " '7x-45x Trinocular Stereo Zoom Microscope +3D Boom Stand',\n",
       " '36W 4.8Amp 3-Port USB Rapid Car Charger with Smart Detect for Amazon Kindle, DX, Fire, Fire HD 6, HD 7 8 10 - Fire HD 8.9, HD8, HD10, Kids Edition - Kindle Fire HDX, HDX 7, HDX 8.9',\n",
       " 'SanDisk Cruzer Fit 8GB USB 2.0 Low-Profile Flash Drive- SDCZ33-008G-B35',\n",
       " 'CRU DX115 Rugged Removable 6G SAS/SATA Drive Carrier']"
      ]
     },
     "execution_count": 37,
     "metadata": {},
     "output_type": "execute_result"
    }
   ],
   "source": [
    "get_recommendation(\"A3AKVALGT4Y02G\")"
   ]
  }
 ],
 "metadata": {
  "kernelspec": {
   "display_name": "Python 3 (ipykernel)",
   "language": "python",
   "name": "python3"
  },
  "language_info": {
   "codemirror_mode": {
    "name": "ipython",
    "version": 3
   },
   "file_extension": ".py",
   "mimetype": "text/x-python",
   "name": "python",
   "nbconvert_exporter": "python",
   "pygments_lexer": "ipython3",
   "version": "3.9.7"
  }
 },
 "nbformat": 4,
 "nbformat_minor": 5
}
