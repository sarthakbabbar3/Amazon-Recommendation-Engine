{
 "cells": [
  {
   "cell_type": "code",
   "execution_count": 1,
   "id": "fbf53253",
   "metadata": {},
   "outputs": [],
   "source": [
    "import os\n",
    "import ujson\n",
    "import gzip\n",
    "import pandas as pd\n",
    "import gc\n",
    "from surprise import Reader\n",
    "from surprise import Dataset\n",
    "from surprise.model_selection import GridSearchCV\n",
    "from surprise import SVD\n",
    "from collections import defaultdict\n",
    "import operator\n",
    "from surprise.model_selection import KFold\n",
    "from surprise import accuracy\n",
    "from surprise import KNNWithMeans"
   ]
  },
  {
   "cell_type": "code",
   "execution_count": 2,
   "id": "a1c9a650",
   "metadata": {},
   "outputs": [],
   "source": [
    "data = pd.read_pickle(\"/Users/sidhantarora/work/ALDA/Project/data_nov_8.pkl\")"
   ]
  },
  {
   "cell_type": "code",
   "execution_count": 3,
   "id": "728ef4ba",
   "metadata": {},
   "outputs": [
    {
     "data": {
      "text/plain": [
       "Index(['overall', 'reviewerID', 'asin', 'unixReviewTime', 'category',\n",
       "       'description', 'title', 'also_buy', 'brand', 'feature', 'main_cat',\n",
       "       'date', 'price', 'review_summary_combined', 'rating_category', 'time'],\n",
       "      dtype='object')"
      ]
     },
     "execution_count": 3,
     "metadata": {},
     "output_type": "execute_result"
    }
   ],
   "source": [
    "data.columns"
   ]
  },
  {
   "cell_type": "code",
   "execution_count": 4,
   "id": "e38adcb1",
   "metadata": {},
   "outputs": [
    {
     "data": {
      "text/plain": [
       "['The videosecu TV mount is a mounting solution for most 22\"-47\" LCD LED Plasma TV and some LED up to 55\" with VESA 600x400mm (24\"x16\"), 400x400mm (16\"x16\"),600x300mm(24\"x12\"), 400x200mm (16\"x8\"),300x300mm (12\"x12\"),300x200mm(12\"x8\"),200x200mm (8\"x8\"),200x100mm (8\"x4\") mounting hole pattern .Heavy gauge steel construction provides safety loading up to 66lbs display .It can tilt 15 degree forward or backward and swivel 180 degree. The removable VESA plate can be taken off for easy installation. Post-installation level adjustment allows the TV to perfectly level. The on arm cable management ring system design, guides wires and prevent cable pinching. Standard hardware and user manual included. <br />Notice: This mount fits most 22-47\" TVs (VESA 200x200mm (8x8\")/200x100mm(8x4\")/100x100mm(4x4\") without extender, fits VESA 600x400(24x16\")/400x400mm(16x16\")/600x300mm(24x12\")/400x200mm(16x8\")/300x300mm(12x12\")/300x200mm(12x8\")with 4 plate extender), some up to 50 55 inch TVs manufactured in recent 3 years.']"
      ]
     },
     "execution_count": 4,
     "metadata": {},
     "output_type": "execute_result"
    }
   ],
   "source": [
    "data.description.iloc[0]"
   ]
  },
  {
   "cell_type": "code",
   "execution_count": 5,
   "id": "d958691b",
   "metadata": {},
   "outputs": [
    {
     "data": {
      "text/plain": [
       "['Fits most 22\" to 47\" HDTV and some up to 55\" LED TV (check VESA and weight)',\n",
       " 'Fits VESA (mounting hole patterns) 100x100/200x100/200x200mm without extender, and also fits VESA 600x400/400x400/600x300/400x200/300x300/300x200mm with 4 plate extender',\n",
       " 'Heavy-duty steel construction, loading capacity up to 66 lbs',\n",
       " 'Adjustable tilt +/-15 degrees, swivel 180 degrees, extends 24\" from the wall',\n",
       " 'VESA plate can be taken off, quick release design for easy installation; Post-installation level adjustment allows the TV to perfectly level']"
      ]
     },
     "execution_count": 5,
     "metadata": {},
     "output_type": "execute_result"
    }
   ],
   "source": [
    "data.feature.iloc[0]"
   ]
  },
  {
   "cell_type": "code",
   "execution_count": 6,
   "id": "232b82bb",
   "metadata": {},
   "outputs": [],
   "source": [
    "newData = data[['asin', 'reviewerID', 'overall']].copy()\n"
   ]
  },
  {
   "cell_type": "code",
   "execution_count": 7,
   "id": "5d5b181d",
   "metadata": {},
   "outputs": [
    {
     "data": {
      "text/html": [
       "<div>\n",
       "<style scoped>\n",
       "    .dataframe tbody tr th:only-of-type {\n",
       "        vertical-align: middle;\n",
       "    }\n",
       "\n",
       "    .dataframe tbody tr th {\n",
       "        vertical-align: top;\n",
       "    }\n",
       "\n",
       "    .dataframe thead th {\n",
       "        text-align: right;\n",
       "    }\n",
       "</style>\n",
       "<table border=\"1\" class=\"dataframe\">\n",
       "  <thead>\n",
       "    <tr style=\"text-align: right;\">\n",
       "      <th></th>\n",
       "      <th>asin</th>\n",
       "      <th>reviewerID</th>\n",
       "      <th>overall</th>\n",
       "    </tr>\n",
       "  </thead>\n",
       "  <tbody>\n",
       "    <tr>\n",
       "      <th>246</th>\n",
       "      <td>0972683275</td>\n",
       "      <td>A1KECIKIWDB4HH</td>\n",
       "      <td>4.0</td>\n",
       "    </tr>\n",
       "    <tr>\n",
       "      <th>247</th>\n",
       "      <td>0972683275</td>\n",
       "      <td>A2MQ47BBL7F6B6</td>\n",
       "      <td>5.0</td>\n",
       "    </tr>\n",
       "    <tr>\n",
       "      <th>248</th>\n",
       "      <td>0972683275</td>\n",
       "      <td>ANWW7PT6Z6MHD</td>\n",
       "      <td>5.0</td>\n",
       "    </tr>\n",
       "    <tr>\n",
       "      <th>249</th>\n",
       "      <td>0972683275</td>\n",
       "      <td>A2DEU0B3AUINV9</td>\n",
       "      <td>5.0</td>\n",
       "    </tr>\n",
       "    <tr>\n",
       "      <th>250</th>\n",
       "      <td>0972683275</td>\n",
       "      <td>AE8R1JSMJYIU</td>\n",
       "      <td>4.0</td>\n",
       "    </tr>\n",
       "  </tbody>\n",
       "</table>\n",
       "</div>"
      ],
      "text/plain": [
       "           asin      reviewerID  overall\n",
       "246  0972683275  A1KECIKIWDB4HH      4.0\n",
       "247  0972683275  A2MQ47BBL7F6B6      5.0\n",
       "248  0972683275   ANWW7PT6Z6MHD      5.0\n",
       "249  0972683275  A2DEU0B3AUINV9      5.0\n",
       "250  0972683275    AE8R1JSMJYIU      4.0"
      ]
     },
     "execution_count": 7,
     "metadata": {},
     "output_type": "execute_result"
    }
   ],
   "source": [
    "newData.head(5)"
   ]
  },
  {
   "cell_type": "code",
   "execution_count": 8,
   "id": "b770783e",
   "metadata": {},
   "outputs": [
    {
     "data": {
      "text/plain": [
       "{1.0, 2.0, 3.0, 4.0, 5.0}"
      ]
     },
     "execution_count": 8,
     "metadata": {},
     "output_type": "execute_result"
    }
   ],
   "source": [
    "set(list(newData.overall))"
   ]
  },
  {
   "cell_type": "code",
   "execution_count": 9,
   "id": "003eb3e5",
   "metadata": {},
   "outputs": [],
   "source": [
    "newData = newData.rename(columns={'asin': 'itemID', 'reviewerID': 'userID','overall': 'rating' })"
   ]
  },
  {
   "cell_type": "code",
   "execution_count": 10,
   "id": "c1cd0826",
   "metadata": {},
   "outputs": [
    {
     "data": {
      "text/html": [
       "<div>\n",
       "<style scoped>\n",
       "    .dataframe tbody tr th:only-of-type {\n",
       "        vertical-align: middle;\n",
       "    }\n",
       "\n",
       "    .dataframe tbody tr th {\n",
       "        vertical-align: top;\n",
       "    }\n",
       "\n",
       "    .dataframe thead th {\n",
       "        text-align: right;\n",
       "    }\n",
       "</style>\n",
       "<table border=\"1\" class=\"dataframe\">\n",
       "  <thead>\n",
       "    <tr style=\"text-align: right;\">\n",
       "      <th></th>\n",
       "      <th>itemID</th>\n",
       "      <th>userID</th>\n",
       "      <th>rating</th>\n",
       "    </tr>\n",
       "  </thead>\n",
       "  <tbody>\n",
       "    <tr>\n",
       "      <th>246</th>\n",
       "      <td>0972683275</td>\n",
       "      <td>A1KECIKIWDB4HH</td>\n",
       "      <td>4.0</td>\n",
       "    </tr>\n",
       "    <tr>\n",
       "      <th>247</th>\n",
       "      <td>0972683275</td>\n",
       "      <td>A2MQ47BBL7F6B6</td>\n",
       "      <td>5.0</td>\n",
       "    </tr>\n",
       "    <tr>\n",
       "      <th>248</th>\n",
       "      <td>0972683275</td>\n",
       "      <td>ANWW7PT6Z6MHD</td>\n",
       "      <td>5.0</td>\n",
       "    </tr>\n",
       "    <tr>\n",
       "      <th>249</th>\n",
       "      <td>0972683275</td>\n",
       "      <td>A2DEU0B3AUINV9</td>\n",
       "      <td>5.0</td>\n",
       "    </tr>\n",
       "    <tr>\n",
       "      <th>250</th>\n",
       "      <td>0972683275</td>\n",
       "      <td>AE8R1JSMJYIU</td>\n",
       "      <td>4.0</td>\n",
       "    </tr>\n",
       "    <tr>\n",
       "      <th>...</th>\n",
       "      <td>...</td>\n",
       "      <td>...</td>\n",
       "      <td>...</td>\n",
       "    </tr>\n",
       "    <tr>\n",
       "      <th>3368220</th>\n",
       "      <td>B01HISA452</td>\n",
       "      <td>AG8SMUXFYGYH8</td>\n",
       "      <td>4.0</td>\n",
       "    </tr>\n",
       "    <tr>\n",
       "      <th>3368221</th>\n",
       "      <td>B01HISA452</td>\n",
       "      <td>AB443G89K25H2</td>\n",
       "      <td>5.0</td>\n",
       "    </tr>\n",
       "    <tr>\n",
       "      <th>3368222</th>\n",
       "      <td>B01HISA452</td>\n",
       "      <td>A1X6MABURKFRQA</td>\n",
       "      <td>5.0</td>\n",
       "    </tr>\n",
       "    <tr>\n",
       "      <th>3368223</th>\n",
       "      <td>B01HISA452</td>\n",
       "      <td>A3NJEEYRMW3FJR</td>\n",
       "      <td>5.0</td>\n",
       "    </tr>\n",
       "    <tr>\n",
       "      <th>3368230</th>\n",
       "      <td>B01HIY64XM</td>\n",
       "      <td>A28T6TZRAJF7J5</td>\n",
       "      <td>5.0</td>\n",
       "    </tr>\n",
       "  </tbody>\n",
       "</table>\n",
       "<p>1071586 rows × 3 columns</p>\n",
       "</div>"
      ],
      "text/plain": [
       "             itemID          userID  rating\n",
       "246      0972683275  A1KECIKIWDB4HH     4.0\n",
       "247      0972683275  A2MQ47BBL7F6B6     5.0\n",
       "248      0972683275   ANWW7PT6Z6MHD     5.0\n",
       "249      0972683275  A2DEU0B3AUINV9     5.0\n",
       "250      0972683275    AE8R1JSMJYIU     4.0\n",
       "...             ...             ...     ...\n",
       "3368220  B01HISA452   AG8SMUXFYGYH8     4.0\n",
       "3368221  B01HISA452   AB443G89K25H2     5.0\n",
       "3368222  B01HISA452  A1X6MABURKFRQA     5.0\n",
       "3368223  B01HISA452  A3NJEEYRMW3FJR     5.0\n",
       "3368230  B01HIY64XM  A28T6TZRAJF7J5     5.0\n",
       "\n",
       "[1071586 rows x 3 columns]"
      ]
     },
     "execution_count": 10,
     "metadata": {},
     "output_type": "execute_result"
    }
   ],
   "source": [
    "newData"
   ]
  },
  {
   "cell_type": "code",
   "execution_count": 11,
   "id": "2b1848e8",
   "metadata": {},
   "outputs": [],
   "source": [
    "reader = Reader(rating_scale=(1, 5))\n",
    "\n",
    "# Loads Pandas dataframe\n",
    "surprise_data = Dataset.load_from_df(newData[[\"userID\", \"itemID\",\"rating\"]], reader)"
   ]
  },
  {
   "cell_type": "markdown",
   "id": "f343c902",
   "metadata": {},
   "source": [
    "### Finding the best model for item-item filtering"
   ]
  },
  {
   "cell_type": "code",
   "execution_count": 12,
   "id": "ea1abd49",
   "metadata": {},
   "outputs": [],
   "source": [
    "param = {\n",
    "    \"name\": [\"cosine\"],\n",
    "    \"min_support\": [3],\n",
    "    \"user_based\": [True],\n",
    "}\n",
    "param_grid = {\"sim_options\": param}"
   ]
  },
  {
   "cell_type": "code",
   "execution_count": 13,
   "id": "fef7d184",
   "metadata": {},
   "outputs": [],
   "source": [
    "memory_based = GridSearchCV(KNNWithMeans, param_grid, measures=[\"rmse\"], cv=5)"
   ]
  },
  {
   "cell_type": "code",
   "execution_count": null,
   "id": "2b16d1bf",
   "metadata": {
    "scrolled": true
   },
   "outputs": [],
   "source": [
    "memory_based.fit(surprise_data)"
   ]
  },
  {
   "cell_type": "code",
   "execution_count": null,
   "id": "23b215f6",
   "metadata": {
    "scrolled": true
   },
   "outputs": [],
   "source": [
    "print(memory_based.best_score[\"rmse\"])\n",
    "print(memory_based.best_params[\"rmse\"])"
   ]
  },
  {
   "cell_type": "code",
   "execution_count": null,
   "id": "819ddccd",
   "metadata": {},
   "outputs": [],
   "source": [
    "evaluation = pd.DataFrame.from_dict(memory_based.cv_results)"
   ]
  },
  {
   "cell_type": "code",
   "execution_count": null,
   "id": "23162b73",
   "metadata": {
    "scrolled": false
   },
   "outputs": [],
   "source": [
    "evaluation"
   ]
  },
  {
   "cell_type": "markdown",
   "id": "444769fb",
   "metadata": {},
   "source": [
    "### Testing on Common Data"
   ]
  },
  {
   "cell_type": "code",
   "execution_count": null,
   "id": "980b5154",
   "metadata": {},
   "outputs": [],
   "source": [
    "sim_options = {'name': 'msd', 'min_support': 12, 'user_based': False}"
   ]
  },
  {
   "cell_type": "code",
   "execution_count": null,
   "id": "d917edf2",
   "metadata": {},
   "outputs": [],
   "source": [
    "test_model = KNNWithMeans(sim_options=sim_options)"
   ]
  },
  {
   "cell_type": "code",
   "execution_count": null,
   "id": "0f36acbc",
   "metadata": {},
   "outputs": [],
   "source": [
    "kf = KFold(n_splits=5)\n",
    "\n",
    "for trainset, testset in kf.split(surprise_data):\n",
    "\n",
    "    # train and test algorithm.\n",
    "    test_model .fit(trainset)\n",
    "    predictions = test_model.test(testset)\n",
    "\n",
    "    # Compute and print Root Mean Squared Error\n",
    "    accuracy.rmse(predictions, verbose=True)"
   ]
  },
  {
   "cell_type": "markdown",
   "id": "73d8f21d",
   "metadata": {},
   "source": [
    "### Using Best Parameters"
   ]
  },
  {
   "cell_type": "code",
   "execution_count": null,
   "id": "ae84f012",
   "metadata": {},
   "outputs": [],
   "source": [
    "best = memory_based.best_estimator['rmse']"
   ]
  },
  {
   "cell_type": "code",
   "execution_count": null,
   "id": "caa8d957",
   "metadata": {},
   "outputs": [],
   "source": [
    "best.fit(surprise_data.build_full_trainset())"
   ]
  },
  {
   "cell_type": "code",
   "execution_count": null,
   "id": "4c8c4e75",
   "metadata": {},
   "outputs": [],
   "source": [
    "best.predict(\"A28T6TZRAJF7J5\",\"B01HIY64XM\")"
   ]
  },
  {
   "cell_type": "markdown",
   "id": "0ce3570d",
   "metadata": {},
   "source": [
    "### Generating Recommendation"
   ]
  },
  {
   "cell_type": "code",
   "execution_count": null,
   "id": "3570ef10",
   "metadata": {},
   "outputs": [],
   "source": [
    "#No. of all unique items\n",
    "all_items = list(set(list(newData.itemID)))\n",
    "len(all_items)"
   ]
  },
  {
   "cell_type": "code",
   "execution_count": null,
   "id": "4e522be6",
   "metadata": {},
   "outputs": [],
   "source": [
    "def get_rating_predictions(user_id):\n",
    "    \n",
    "    item_rating = defaultdict(int)\n",
    "    \n",
    "    for item in all_items:\n",
    "        item_rating[item] = best.predict(user_id, item).est\n",
    "        \n",
    "    return item_rating"
   ]
  },
  {
   "cell_type": "code",
   "execution_count": null,
   "id": "3b2a5fa5",
   "metadata": {},
   "outputs": [],
   "source": [
    "len(set(list(data['reviewerID'])))"
   ]
  },
  {
   "cell_type": "code",
   "execution_count": null,
   "id": "144af607",
   "metadata": {},
   "outputs": [],
   "source": [
    "len(set(list(data['asin'])))"
   ]
  },
  {
   "cell_type": "code",
   "execution_count": null,
   "id": "33f74dc1",
   "metadata": {},
   "outputs": [],
   "source": [
    "len(data)"
   ]
  },
  {
   "cell_type": "code",
   "execution_count": null,
   "id": "8a4ba695",
   "metadata": {},
   "outputs": [],
   "source": [
    "def reviewed_items(user_id):\n",
    "    \n",
    "    items = set()\n",
    "    \n",
    "    for idx in range(len(data)):\n",
    "        if data.iloc[idx]['reviewerID'] == user_id:\n",
    "            items.add(data.iloc[idx]['asin'])\n",
    "            \n",
    "    return items"
   ]
  },
  {
   "cell_type": "code",
   "execution_count": null,
   "id": "1522362c",
   "metadata": {},
   "outputs": [],
   "source": [
    "reviewed_items(\"A28T6TZRAJF7J5\")"
   ]
  },
  {
   "cell_type": "markdown",
   "id": "83597396",
   "metadata": {},
   "source": [
    "###  Mapping Item id to Product Name"
   ]
  },
  {
   "cell_type": "code",
   "execution_count": null,
   "id": "64704475",
   "metadata": {},
   "outputs": [],
   "source": [
    "itemID_to_name = defaultdict(str)\n",
    "\n",
    "for idx in range(len(data)):\n",
    "    itemID_to_name[data.iloc[idx]['asin']] = data.iloc[idx]['title']"
   ]
  },
  {
   "cell_type": "code",
   "execution_count": null,
   "id": "c83d4c2b",
   "metadata": {},
   "outputs": [],
   "source": [
    "def get_recommendation(user_id):\n",
    "    item_rating = get_rating_predictions(user_id)\n",
    "    already_bought = reviewed_items(user_id)\n",
    "    sorted_items = sorted(item_rating.items(), key=operator.itemgetter(1), reverse = True)\n",
    "    print(sorted_items[:10])\n",
    "    \n",
    "    items_to_suggest = []\n",
    "    \n",
    "    #Removing already bought items\n",
    "    count = 0\n",
    "    for item in sorted_items:\n",
    "        \n",
    "        if count == 10:\n",
    "            break\n",
    "        \n",
    "        item_id = item[0]\n",
    "        \n",
    "        if item not in already_bought:\n",
    "            items_to_suggest.append(itemID_to_name[item[0]])\n",
    "            count += 1\n",
    "    \n",
    "    return items_to_suggest"
   ]
  },
  {
   "cell_type": "markdown",
   "id": "163c6e9e",
   "metadata": {},
   "source": [
    "####  Items purchased by user A3AKVALGT4Y02G"
   ]
  },
  {
   "cell_type": "code",
   "execution_count": null,
   "id": "461fc140",
   "metadata": {},
   "outputs": [],
   "source": [
    "bought_items = reviewed_items(\"A3AKVALGT4Y02G\")\n",
    "for i in bought_items:\n",
    "    print(itemID_to_name[i]) "
   ]
  },
  {
   "cell_type": "code",
   "execution_count": null,
   "id": "274f28a1",
   "metadata": {
    "scrolled": false
   },
   "outputs": [],
   "source": [
    "get_recommendation(\"A3AKVALGT4Y02G\")"
   ]
  }
 ],
 "metadata": {
  "kernelspec": {
   "display_name": "Python 3 (ipykernel)",
   "language": "python",
   "name": "python3"
  },
  "language_info": {
   "codemirror_mode": {
    "name": "ipython",
    "version": 3
   },
   "file_extension": ".py",
   "mimetype": "text/x-python",
   "name": "python",
   "nbconvert_exporter": "python",
   "pygments_lexer": "ipython3",
   "version": "3.9.7"
  }
 },
 "nbformat": 4,
 "nbformat_minor": 5
}
