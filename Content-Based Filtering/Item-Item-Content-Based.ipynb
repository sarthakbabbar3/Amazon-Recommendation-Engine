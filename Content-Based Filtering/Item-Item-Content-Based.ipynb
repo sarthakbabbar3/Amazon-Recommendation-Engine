{
 "cells": [
  {
   "cell_type": "markdown",
   "id": "f63b8499",
   "metadata": {},
   "source": [
    "# Content-Based Recommendation Using Description of Content"
   ]
  },
  {
   "cell_type": "code",
   "execution_count": 1,
   "id": "3cf96149",
   "metadata": {},
   "outputs": [],
   "source": [
    "import pandas as pd\n",
    "import pickle as pickle\n",
    "import numpy as np\n",
    "import matplotlib as plt\n",
    "from bs4 import BeautifulSoup\n",
    "from html import unescape\n",
    "from sklearn.preprocessing import MinMaxScaler\n",
    "from sklearn.feature_extraction.text import TfidfVectorizer\n",
    "from sklearn.metrics.pairwise import linear_kernel \n",
    "from surprise.model_selection import KFold\n",
    "from sklearn.metrics import mean_squared_error"
   ]
  },
  {
   "cell_type": "code",
   "execution_count": 2,
   "id": "6bd76458",
   "metadata": {},
   "outputs": [],
   "source": [
    "data = pd.read_pickle('data_nov_8.pkl')"
   ]
  },
  {
   "cell_type": "code",
   "execution_count": 3,
   "id": "4c02f59d",
   "metadata": {},
   "outputs": [
    {
     "data": {
      "text/plain": [
       "(815053,)"
      ]
     },
     "execution_count": 3,
     "metadata": {},
     "output_type": "execute_result"
    }
   ],
   "source": [
    "data['reviewerID'].unique().shape"
   ]
  },
  {
   "cell_type": "markdown",
   "id": "9b715117",
   "metadata": {},
   "source": [
    "###### To get Unique item/product\n",
    "explode description as it is list of single entry\n"
   ]
  },
  {
   "cell_type": "code",
   "execution_count": 4,
   "id": "010eda1c",
   "metadata": {},
   "outputs": [],
   "source": [
    "df2 = data.explode(\"description\").drop_duplicates(subset=[\"asin\"])\n",
    "df2.reset_index(drop=True, inplace=True)"
   ]
  },
  {
   "cell_type": "code",
   "execution_count": 5,
   "id": "9d6265aa",
   "metadata": {},
   "outputs": [
    {
     "data": {
      "text/plain": [
       "(6576, 16)"
      ]
     },
     "execution_count": 5,
     "metadata": {},
     "output_type": "execute_result"
    }
   ],
   "source": [
    "df2.shape"
   ]
  },
  {
   "cell_type": "markdown",
   "id": "09be18db",
   "metadata": {},
   "source": [
    "##### create category_str column from list type column 'category', with comma separated categories"
   ]
  },
  {
   "cell_type": "code",
   "execution_count": 6,
   "id": "be5ebd79",
   "metadata": {},
   "outputs": [],
   "source": [
    "category_values=[]\n",
    "for val in data['category']:\n",
    "    category_values.append(val)"
   ]
  },
  {
   "cell_type": "code",
   "execution_count": 7,
   "id": "f0a4c158",
   "metadata": {},
   "outputs": [],
   "source": [
    "#remove &amp from category values\n",
    "for row in category_values:\n",
    "    for i in range (0,len(row)):\n",
    "        row[i]=row[i].replace('&amp;','and').replace('&', 'and').replace('$amp', 'and')"
   ]
  },
  {
   "cell_type": "code",
   "execution_count": 8,
   "id": "34551523",
   "metadata": {},
   "outputs": [],
   "source": [
    "df2['category_str'] = [','.join(map(str, l)) for l in df2['category']]"
   ]
  },
  {
   "cell_type": "code",
   "execution_count": 9,
   "id": "1796f9e5",
   "metadata": {},
   "outputs": [
    {
     "name": "stdout",
     "output_type": "stream",
     "text": [
      "0       Electronics,Accessories and Supplies,Audio and...\n",
      "1       Electronics,Computers and Accessories,Networki...\n",
      "2       Electronics,Computers and Accessories,Computer...\n",
      "3       Electronics,Accessories and Supplies,Audio and...\n",
      "4       Electronics,Accessories and Supplies,Audio and...\n",
      "                              ...                        \n",
      "6571    Electronics,Home Audio,Turntables and Accessor...\n",
      "6572    Electronics,Accessories and Supplies,Audio and...\n",
      "6573    Electronics,Accessories and Supplies,Audio and...\n",
      "6574    Electronics,Accessories and Supplies,Audio and...\n",
      "6575    Electronics,Portable Audio and Video,CB and Tw...\n",
      "Name: category_str, Length: 6576, dtype: object\n"
     ]
    }
   ],
   "source": [
    "print(df2['category_str'])"
   ]
  },
  {
   "cell_type": "markdown",
   "id": "0f0a2e4b",
   "metadata": {},
   "source": [
    "### Recommendation Function"
   ]
  },
  {
   "cell_type": "code",
   "execution_count": 10,
   "id": "c7fe4e16",
   "metadata": {
    "scrolled": true
   },
   "outputs": [],
   "source": [
    "def recommend(res, asin, num):\n",
    "    print(\"-------\")\n",
    "    recs = res[asin][:num]\n",
    "    indexes = [rec[1] for rec in recs]\n",
    "    return df2.iloc[indexes], [rec[0] for rec in recs]"
   ]
  },
  {
   "cell_type": "markdown",
   "id": "825d655b",
   "metadata": {},
   "source": [
    "#### Trying to use description (single column) for content based filtering"
   ]
  },
  {
   "cell_type": "code",
   "execution_count": 11,
   "id": "20563d4d",
   "metadata": {},
   "outputs": [],
   "source": [
    "tf = TfidfVectorizer(analyzer='word', ngram_range=(1, 3), min_df=0, stop_words='english')"
   ]
  },
  {
   "cell_type": "code",
   "execution_count": 12,
   "id": "9aa50d71",
   "metadata": {},
   "outputs": [],
   "source": [
    "tfidf_matrix_d = tf.fit_transform(df2['description'])"
   ]
  },
  {
   "cell_type": "code",
   "execution_count": 13,
   "id": "7fba4ae4",
   "metadata": {},
   "outputs": [
    {
     "data": {
      "text/plain": [
       "(6576, 466750)"
      ]
     },
     "execution_count": 13,
     "metadata": {},
     "output_type": "execute_result"
    }
   ],
   "source": [
    "tfidf_matrix_d.shape"
   ]
  },
  {
   "cell_type": "code",
   "execution_count": 14,
   "id": "15016fd3",
   "metadata": {},
   "outputs": [],
   "source": [
    "cosine_similarities = linear_kernel(tfidf_matrix_d, tfidf_matrix_d) "
   ]
  },
  {
   "cell_type": "code",
   "execution_count": 15,
   "id": "fbf20f2c",
   "metadata": {},
   "outputs": [
    {
     "name": "stdout",
     "output_type": "stream",
     "text": [
      "[[1.         0.00103775 0.         ... 0.00526049 0.00385492 0.        ]\n",
      " [0.00103775 1.         0.         ... 0.         0.01341142 0.        ]\n",
      " [0.         0.         0.         ... 0.         0.         0.        ]\n",
      " ...\n",
      " [0.00526049 0.         0.         ... 1.         0.01746951 0.00127807]\n",
      " [0.00385492 0.01341142 0.         ... 0.01746951 1.         0.00281316]\n",
      " [0.         0.         0.         ... 0.00127807 0.00281316 1.        ]]\n"
     ]
    }
   ],
   "source": [
    "print(cosine_similarities)"
   ]
  },
  {
   "cell_type": "markdown",
   "id": "5517d184",
   "metadata": {},
   "source": [
    "###### Sort the cosine similarities(based on description) in descending order "
   ]
  },
  {
   "cell_type": "code",
   "execution_count": 16,
   "id": "8c16d617",
   "metadata": {},
   "outputs": [],
   "source": [
    "#######computation for cosimilarity based on description#####\n",
    "consine_similarity_sorted=[]\n",
    "results = {}\n",
    "for idx, row in df2.iterrows():\n",
    "    similar_indices = cosine_similarities[idx].argsort()[:-100:-1]\n",
    "    x = []\n",
    "    for i in similar_indices:\n",
    "        x.append((cosine_similarities[idx][i], df2.index[i]))\n",
    "    consine_similarity_sorted = x\n",
    "    results[row['asin']] = consine_similarity_sorted[1:]\n"
   ]
  },
  {
   "cell_type": "markdown",
   "id": "b635b299",
   "metadata": {},
   "source": [
    "###### Get recommendation"
   ]
  },
  {
   "cell_type": "code",
   "execution_count": 17,
   "id": "b2613923",
   "metadata": {},
   "outputs": [
    {
     "name": "stdout",
     "output_type": "stream",
     "text": [
      "-------\n",
      "Recommending 5  products similar to:\n"
     ]
    },
    {
     "data": {
      "text/html": [
       "<div>\n",
       "<style scoped>\n",
       "    .dataframe tbody tr th:only-of-type {\n",
       "        vertical-align: middle;\n",
       "    }\n",
       "\n",
       "    .dataframe tbody tr th {\n",
       "        vertical-align: top;\n",
       "    }\n",
       "\n",
       "    .dataframe thead th {\n",
       "        text-align: right;\n",
       "    }\n",
       "</style>\n",
       "<table border=\"1\" class=\"dataframe\">\n",
       "  <thead>\n",
       "    <tr style=\"text-align: right;\">\n",
       "      <th></th>\n",
       "      <th>title</th>\n",
       "      <th>category_str</th>\n",
       "      <th>description</th>\n",
       "      <th>asin</th>\n",
       "      <th>brand</th>\n",
       "    </tr>\n",
       "  </thead>\n",
       "  <tbody>\n",
       "    <tr>\n",
       "      <th>0</th>\n",
       "      <td>VideoSecu 24\" Long Arm TV Wall Mount Low Profi...</td>\n",
       "      <td>Electronics,Accessories and Supplies,Audio and...</td>\n",
       "      <td>The videosecu TV mount is a mounting solution ...</td>\n",
       "      <td>0972683275</td>\n",
       "      <td>VideoSecu</td>\n",
       "    </tr>\n",
       "  </tbody>\n",
       "</table>\n",
       "</div>"
      ],
      "text/plain": [
       "                                               title  \\\n",
       "0  VideoSecu 24\" Long Arm TV Wall Mount Low Profi...   \n",
       "\n",
       "                                        category_str  \\\n",
       "0  Electronics,Accessories and Supplies,Audio and...   \n",
       "\n",
       "                                         description        asin      brand  \n",
       "0  The videosecu TV mount is a mounting solution ...  0972683275  VideoSecu  "
      ]
     },
     "execution_count": 17,
     "metadata": {},
     "output_type": "execute_result"
    }
   ],
   "source": [
    "asin = '0972683275'\n",
    "recommendation, scores = recommend(results, asin=asin, num=5)\n",
    "print(\"Recommending 5  products similar to:\")\n",
    "df2[df2['asin'] == asin][['title', 'category_str', 'description', 'asin', 'brand']]\n"
   ]
  },
  {
   "cell_type": "code",
   "execution_count": 18,
   "id": "60f6a74c",
   "metadata": {},
   "outputs": [
    {
     "name": "stdout",
     "output_type": "stream",
     "text": [
      "With Scores: \n",
      "0.13492369655954947\n",
      "0.11827004589395142\n",
      "0.10566684617437384\n",
      "0.08763883846681635\n",
      "0.08631794804921392\n"
     ]
    },
    {
     "data": {
      "text/html": [
       "<div>\n",
       "<style scoped>\n",
       "    .dataframe tbody tr th:only-of-type {\n",
       "        vertical-align: middle;\n",
       "    }\n",
       "\n",
       "    .dataframe tbody tr th {\n",
       "        vertical-align: top;\n",
       "    }\n",
       "\n",
       "    .dataframe thead th {\n",
       "        text-align: right;\n",
       "    }\n",
       "</style>\n",
       "<table border=\"1\" class=\"dataframe\">\n",
       "  <thead>\n",
       "    <tr style=\"text-align: right;\">\n",
       "      <th></th>\n",
       "      <th>title</th>\n",
       "      <th>category_str</th>\n",
       "      <th>description</th>\n",
       "      <th>asin</th>\n",
       "      <th>brand</th>\n",
       "    </tr>\n",
       "  </thead>\n",
       "  <tbody>\n",
       "    <tr>\n",
       "      <th>676</th>\n",
       "      <td>VideoSecu Tilt Flat Screen TV Wall Mount Brack...</td>\n",
       "      <td>Electronics,Accessories and Supplies,Audio and...</td>\n",
       "      <td>The VideoSecu TV Mount is compatible with LED,...</td>\n",
       "      <td>B000NMFCIA</td>\n",
       "      <td>VideoSecu</td>\n",
       "    </tr>\n",
       "    <tr>\n",
       "      <th>958</th>\n",
       "      <td>VideoSecu Computer Monitor TV Wall Mount Brack...</td>\n",
       "      <td>Electronics,Accessories and Supplies,Audio and...</td>\n",
       "      <td>This wall mount is designed for LCD Monitor an...</td>\n",
       "      <td>B0017D0ENM</td>\n",
       "      <td>VideoSecu</td>\n",
       "    </tr>\n",
       "    <tr>\n",
       "      <th>3003</th>\n",
       "      <td>Mounting Dream MD2393-MX TV Wall Mount Bracket...</td>\n",
       "      <td>Electronics,Accessories and Supplies,Mounts,Co...</td>\n",
       "      <td>Fits most of 26-55\" &lt;br&gt;TVs This mount fits mo...</td>\n",
       "      <td>B00KXZ79VK</td>\n",
       "      <td>Mounting Dream</td>\n",
       "    </tr>\n",
       "    <tr>\n",
       "      <th>6089</th>\n",
       "      <td>InstallerParts 23&amp;quot;-42&amp;quot; Flat TV &amp;ndas...</td>\n",
       "      <td>Electronics,Accessories and Supplies,Audio and...</td>\n",
       "      <td>&lt;br&gt;&lt;b&gt;Compatibility&lt;/b&gt;&lt;br&gt; InstallerParts Fl...</td>\n",
       "      <td>B00YTZDKC2</td>\n",
       "      <td>InstallerParts</td>\n",
       "    </tr>\n",
       "    <tr>\n",
       "      <th>3519</th>\n",
       "      <td>VIVO TV Ceiling Mount Height Adjustable and Ti...</td>\n",
       "      <td>Electronics,Accessories and Supplies,Audio and...</td>\n",
       "      <td>MOUNT-VC55 is a brand new TV ceiling mount fro...</td>\n",
       "      <td>B01011SZJA</td>\n",
       "      <td>VIVO</td>\n",
       "    </tr>\n",
       "  </tbody>\n",
       "</table>\n",
       "</div>"
      ],
      "text/plain": [
       "                                                  title  \\\n",
       "676   VideoSecu Tilt Flat Screen TV Wall Mount Brack...   \n",
       "958   VideoSecu Computer Monitor TV Wall Mount Brack...   \n",
       "3003  Mounting Dream MD2393-MX TV Wall Mount Bracket...   \n",
       "6089  InstallerParts 23&quot;-42&quot; Flat TV &ndas...   \n",
       "3519  VIVO TV Ceiling Mount Height Adjustable and Ti...   \n",
       "\n",
       "                                           category_str  \\\n",
       "676   Electronics,Accessories and Supplies,Audio and...   \n",
       "958   Electronics,Accessories and Supplies,Audio and...   \n",
       "3003  Electronics,Accessories and Supplies,Mounts,Co...   \n",
       "6089  Electronics,Accessories and Supplies,Audio and...   \n",
       "3519  Electronics,Accessories and Supplies,Audio and...   \n",
       "\n",
       "                                            description        asin  \\\n",
       "676   The VideoSecu TV Mount is compatible with LED,...  B000NMFCIA   \n",
       "958   This wall mount is designed for LCD Monitor an...  B0017D0ENM   \n",
       "3003  Fits most of 26-55\" <br>TVs This mount fits mo...  B00KXZ79VK   \n",
       "6089  <br><b>Compatibility</b><br> InstallerParts Fl...  B00YTZDKC2   \n",
       "3519  MOUNT-VC55 is a brand new TV ceiling mount fro...  B01011SZJA   \n",
       "\n",
       "               brand  \n",
       "676        VideoSecu  \n",
       "958        VideoSecu  \n",
       "3003  Mounting Dream  \n",
       "6089  InstallerParts  \n",
       "3519            VIVO  "
      ]
     },
     "execution_count": 18,
     "metadata": {},
     "output_type": "execute_result"
    }
   ],
   "source": [
    "print(\"With Scores: \")\n",
    "for s in scores:\n",
    "    print(s)\n",
    "recommendation[['title', 'category_str', 'description', 'asin', 'brand']]"
   ]
  },
  {
   "cell_type": "markdown",
   "id": "efa73e7d",
   "metadata": {},
   "source": [
    "#### Trying to use category (single column) for content based filtering"
   ]
  },
  {
   "cell_type": "code",
   "execution_count": 19,
   "id": "02cd7e26",
   "metadata": {},
   "outputs": [],
   "source": [
    "tf = TfidfVectorizer(analyzer='word', ngram_range=(1, 3), min_df=0, stop_words='english')"
   ]
  },
  {
   "cell_type": "code",
   "execution_count": 20,
   "id": "104543c4",
   "metadata": {},
   "outputs": [],
   "source": [
    "tfid_matrix_c = tf.fit_transform(df2['category_str'])"
   ]
  },
  {
   "cell_type": "code",
   "execution_count": 21,
   "id": "b1d45431",
   "metadata": {},
   "outputs": [],
   "source": [
    "cosine_similarities_cat = linear_kernel(tfid_matrix_c, tfid_matrix_c) "
   ]
  },
  {
   "cell_type": "code",
   "execution_count": 22,
   "id": "0bcf7329",
   "metadata": {},
   "outputs": [
    {
     "name": "stdout",
     "output_type": "stream",
     "text": [
      "[[1.         0.00941107 0.01390387 ... 0.13478387 0.16335222 0.02258274]\n",
      " [0.00941107 1.         0.04690622 ... 0.01295096 0.00936858 0.00491649]\n",
      " [0.01390387 0.04690622 1.         ... 0.01839206 0.01330462 0.00636967]\n",
      " ...\n",
      " [0.13478387 0.01295096 0.01839206 ... 1.         0.17419442 0.04743761]\n",
      " [0.16335222 0.00936858 0.01330462 ... 0.17419442 1.         0.02789585]\n",
      " [0.02258274 0.00491649 0.00636967 ... 0.04743761 0.02789585 1.        ]]\n"
     ]
    }
   ],
   "source": [
    "print(cosine_similarities_cat)"
   ]
  },
  {
   "cell_type": "markdown",
   "id": "261cad00",
   "metadata": {},
   "source": [
    "###### Sort the cosine similarities (based on category) in descending order "
   ]
  },
  {
   "cell_type": "code",
   "execution_count": 23,
   "id": "d0dfb3bf",
   "metadata": {},
   "outputs": [],
   "source": [
    "#######computation for cosimilarity based on category#####\n",
    "consine_similarity_cat_sorted=[]\n",
    "results_cat = {}\n",
    "for idx, row in df2.iterrows():\n",
    "    similar_indices = cosine_similarities_cat[idx].argsort()[:-100:-1]\n",
    "    x = []\n",
    "    for i in similar_indices:\n",
    "        x.append((cosine_similarities_cat[idx][i], df2.index[i]))\n",
    "    consine_similarity_cat_sorted = x\n",
    "    results_cat[row['asin']] = consine_similarity_cat_sorted[1:]\n",
    "    "
   ]
  },
  {
   "cell_type": "markdown",
   "id": "1e94d9cd",
   "metadata": {},
   "source": [
    "###### Get recommendation"
   ]
  },
  {
   "cell_type": "code",
   "execution_count": 24,
   "id": "437637e9",
   "metadata": {},
   "outputs": [
    {
     "name": "stdout",
     "output_type": "stream",
     "text": [
      "-------\n",
      "Recommending 5  products similar to:\n"
     ]
    },
    {
     "data": {
      "text/html": [
       "<div>\n",
       "<style scoped>\n",
       "    .dataframe tbody tr th:only-of-type {\n",
       "        vertical-align: middle;\n",
       "    }\n",
       "\n",
       "    .dataframe tbody tr th {\n",
       "        vertical-align: top;\n",
       "    }\n",
       "\n",
       "    .dataframe thead th {\n",
       "        text-align: right;\n",
       "    }\n",
       "</style>\n",
       "<table border=\"1\" class=\"dataframe\">\n",
       "  <thead>\n",
       "    <tr style=\"text-align: right;\">\n",
       "      <th></th>\n",
       "      <th>title</th>\n",
       "      <th>category_str</th>\n",
       "      <th>description</th>\n",
       "      <th>asin</th>\n",
       "      <th>brand</th>\n",
       "    </tr>\n",
       "  </thead>\n",
       "  <tbody>\n",
       "    <tr>\n",
       "      <th>0</th>\n",
       "      <td>VideoSecu 24\" Long Arm TV Wall Mount Low Profi...</td>\n",
       "      <td>Electronics,Accessories and Supplies,Audio and...</td>\n",
       "      <td>The videosecu TV mount is a mounting solution ...</td>\n",
       "      <td>0972683275</td>\n",
       "      <td>VideoSecu</td>\n",
       "    </tr>\n",
       "  </tbody>\n",
       "</table>\n",
       "</div>"
      ],
      "text/plain": [
       "                                               title  \\\n",
       "0  VideoSecu 24\" Long Arm TV Wall Mount Low Profi...   \n",
       "\n",
       "                                        category_str  \\\n",
       "0  Electronics,Accessories and Supplies,Audio and...   \n",
       "\n",
       "                                         description        asin      brand  \n",
       "0  The videosecu TV mount is a mounting solution ...  0972683275  VideoSecu  "
      ]
     },
     "execution_count": 24,
     "metadata": {},
     "output_type": "execute_result"
    }
   ],
   "source": [
    "asin = '0972683275'\n",
    "recommendation, scores = recommend(results_cat, asin=asin, num=5)\n",
    "print(\"Recommending 5  products similar to:\")\n",
    "df2[df2['asin'] == asin][['title', 'category_str', 'description', 'asin', 'brand']]\n"
   ]
  },
  {
   "cell_type": "code",
   "execution_count": 25,
   "id": "5aba538b",
   "metadata": {},
   "outputs": [
    {
     "name": "stdout",
     "output_type": "stream",
     "text": [
      "With Scores: \n",
      "1.0\n",
      "1.0\n",
      "1.0\n",
      "1.0\n",
      "1.0\n"
     ]
    },
    {
     "data": {
      "text/html": [
       "<div>\n",
       "<style scoped>\n",
       "    .dataframe tbody tr th:only-of-type {\n",
       "        vertical-align: middle;\n",
       "    }\n",
       "\n",
       "    .dataframe tbody tr th {\n",
       "        vertical-align: top;\n",
       "    }\n",
       "\n",
       "    .dataframe thead th {\n",
       "        text-align: right;\n",
       "    }\n",
       "</style>\n",
       "<table border=\"1\" class=\"dataframe\">\n",
       "  <thead>\n",
       "    <tr style=\"text-align: right;\">\n",
       "      <th></th>\n",
       "      <th>title</th>\n",
       "      <th>category_str</th>\n",
       "      <th>description</th>\n",
       "      <th>asin</th>\n",
       "      <th>brand</th>\n",
       "    </tr>\n",
       "  </thead>\n",
       "  <tbody>\n",
       "    <tr>\n",
       "      <th>3105</th>\n",
       "      <td>Heavy Duty Dual Arm (32&amp;quot; extension) Artic...</td>\n",
       "      <td>Electronics,Accessories and Supplies,Audio and...</td>\n",
       "      <td>Heavy Duty Dual Arm (32\" extension) Articulati...</td>\n",
       "      <td>B00NBE8TLY</td>\n",
       "      <td>Universalmounts</td>\n",
       "    </tr>\n",
       "    <tr>\n",
       "      <th>3180</th>\n",
       "      <td>Fleximounts Curved TV Wall Mount Bracket for 3...</td>\n",
       "      <td>Electronics,Accessories and Supplies,Audio and...</td>\n",
       "      <td>Specs: &lt;br&gt;Model: FM-CR1&lt;br&gt;Material: Cold-rol...</td>\n",
       "      <td>B00P5R13O0</td>\n",
       "      <td>FLEXIMOUNTS</td>\n",
       "    </tr>\n",
       "    <tr>\n",
       "      <th>2866</th>\n",
       "      <td>Swiveling TV Wall Mount with Two Shelves (Shelf)</td>\n",
       "      <td>Electronics,Accessories and Supplies,Audio and...</td>\n",
       "      <td>&lt;b&gt;TAKE BACK YOUR FLOOR SPACE &lt;/b&gt; &lt;br&gt; We hav...</td>\n",
       "      <td>B00IUPHWYE</td>\n",
       "      <td>Aeon Stands and Mounts</td>\n",
       "    </tr>\n",
       "    <tr>\n",
       "      <th>898</th>\n",
       "      <td>Cheetah APTMM2B TV Wall Mount for 20-70&amp;quot; ...</td>\n",
       "      <td>Electronics,Accessories and Supplies,Audio and...</td>\n",
       "      <td>&lt;strong&gt;FITS 20-80\" TVs up to VESA 600 and 165...</td>\n",
       "      <td>B0012S4APK</td>\n",
       "      <td>Cheetah</td>\n",
       "    </tr>\n",
       "    <tr>\n",
       "      <th>958</th>\n",
       "      <td>VideoSecu Computer Monitor TV Wall Mount Brack...</td>\n",
       "      <td>Electronics,Accessories and Supplies,Audio and...</td>\n",
       "      <td>This wall mount is designed for LCD Monitor an...</td>\n",
       "      <td>B0017D0ENM</td>\n",
       "      <td>VideoSecu</td>\n",
       "    </tr>\n",
       "  </tbody>\n",
       "</table>\n",
       "</div>"
      ],
      "text/plain": [
       "                                                  title  \\\n",
       "3105  Heavy Duty Dual Arm (32&quot; extension) Artic...   \n",
       "3180  Fleximounts Curved TV Wall Mount Bracket for 3...   \n",
       "2866   Swiveling TV Wall Mount with Two Shelves (Shelf)   \n",
       "898   Cheetah APTMM2B TV Wall Mount for 20-70&quot; ...   \n",
       "958   VideoSecu Computer Monitor TV Wall Mount Brack...   \n",
       "\n",
       "                                           category_str  \\\n",
       "3105  Electronics,Accessories and Supplies,Audio and...   \n",
       "3180  Electronics,Accessories and Supplies,Audio and...   \n",
       "2866  Electronics,Accessories and Supplies,Audio and...   \n",
       "898   Electronics,Accessories and Supplies,Audio and...   \n",
       "958   Electronics,Accessories and Supplies,Audio and...   \n",
       "\n",
       "                                            description        asin  \\\n",
       "3105  Heavy Duty Dual Arm (32\" extension) Articulati...  B00NBE8TLY   \n",
       "3180  Specs: <br>Model: FM-CR1<br>Material: Cold-rol...  B00P5R13O0   \n",
       "2866  <b>TAKE BACK YOUR FLOOR SPACE </b> <br> We hav...  B00IUPHWYE   \n",
       "898   <strong>FITS 20-80\" TVs up to VESA 600 and 165...  B0012S4APK   \n",
       "958   This wall mount is designed for LCD Monitor an...  B0017D0ENM   \n",
       "\n",
       "                       brand  \n",
       "3105         Universalmounts  \n",
       "3180             FLEXIMOUNTS  \n",
       "2866  Aeon Stands and Mounts  \n",
       "898                  Cheetah  \n",
       "958                VideoSecu  "
      ]
     },
     "execution_count": 25,
     "metadata": {},
     "output_type": "execute_result"
    }
   ],
   "source": [
    "print(\"With Scores: \")\n",
    "for s in scores:\n",
    "    print(s)\n",
    "recommendation[['title', 'category_str', 'description', 'asin', 'brand']]"
   ]
  },
  {
   "cell_type": "markdown",
   "id": "c11a2128",
   "metadata": {},
   "source": [
    "#### Trying to use Category, descripition, brand, price for content based filtering"
   ]
  },
  {
   "cell_type": "code",
   "execution_count": 26,
   "id": "2c3ead88",
   "metadata": {},
   "outputs": [],
   "source": [
    "tf = TfidfVectorizer(analyzer='word', ngram_range=(1, 3), min_df=0, stop_words='english')"
   ]
  },
  {
   "cell_type": "code",
   "execution_count": 27,
   "id": "632ce4f1",
   "metadata": {},
   "outputs": [],
   "source": [
    "df2['corpus'] = (pd.Series(df2[['category_str', 'description', 'brand', 'price']]\n",
    "                          .fillna('')\n",
    "                          .values.tolist())\n",
    "                 .apply(lambda x: ','.join(map(str, x))))\n"
   ]
  },
  {
   "cell_type": "code",
   "execution_count": 28,
   "id": "caca893d",
   "metadata": {},
   "outputs": [],
   "source": [
    "tfidf_matrix_corpus=tf.fit_transform(df2['corpus'])"
   ]
  },
  {
   "cell_type": "code",
   "execution_count": 29,
   "id": "78c903a4",
   "metadata": {},
   "outputs": [],
   "source": [
    "cosine_similarities_corpus=linear_kernel(tfidf_matrix_corpus,tfidf_matrix_corpus)"
   ]
  },
  {
   "cell_type": "code",
   "execution_count": 30,
   "id": "ae39383a",
   "metadata": {},
   "outputs": [
    {
     "name": "stdout",
     "output_type": "stream",
     "text": [
      "[[1.00000000e+00 1.26119730e-03 1.71339968e-03 ... 8.23557021e-03\n",
      "  8.77037686e-03 8.19640791e-04]\n",
      " [1.26119730e-03 1.00000000e+00 1.28481114e-02 ... 3.92137882e-04\n",
      "  1.18172706e-02 1.58967482e-03]\n",
      " [1.71339968e-03 1.28481114e-02 1.00000000e+00 ... 1.79018567e-03\n",
      "  9.16682398e-04 1.13170120e-03]\n",
      " ...\n",
      " [8.23557021e-03 3.92137882e-04 1.79018567e-03 ... 1.00000000e+00\n",
      "  1.79654903e-02 3.47319737e-03]\n",
      " [8.77037686e-03 1.18172706e-02 9.16682398e-04 ... 1.79654903e-02\n",
      "  1.00000000e+00 3.79103243e-03]\n",
      " [8.19640791e-04 1.58967482e-03 1.13170120e-03 ... 3.47319737e-03\n",
      "  3.79103243e-03 1.00000000e+00]]\n"
     ]
    }
   ],
   "source": [
    "print(cosine_similarities_corpus)"
   ]
  },
  {
   "cell_type": "markdown",
   "id": "15457977",
   "metadata": {},
   "source": [
    "###### Sort the cosine similarities in descending order "
   ]
  },
  {
   "cell_type": "code",
   "execution_count": 31,
   "id": "c9c1623d",
   "metadata": {},
   "outputs": [],
   "source": [
    "consine_similarity_sorted=[]\n",
    "results_corpus = {}\n",
    "for idx, row in df2.iterrows():\n",
    "    similar_indices = cosine_similarities_corpus[idx].argsort()[:-100:-1]\n",
    "    x = []\n",
    "    for i in similar_indices:\n",
    "        x.append((cosine_similarities_corpus[idx][i], df2.index[i]))\n",
    "    consine_similarity_sorted = x\n",
    "#     consine_similarity_sorted = [(cosine_similarities[idx][i], df2['asin'][i]) for i in similar_indices] \n",
    "    results_corpus[row['asin']] = consine_similarity_sorted[1:]\n",
    "    "
   ]
  },
  {
   "cell_type": "markdown",
   "id": "e5b93133",
   "metadata": {},
   "source": [
    "###### Get recommendation"
   ]
  },
  {
   "cell_type": "code",
   "execution_count": 32,
   "id": "f8471bd3",
   "metadata": {},
   "outputs": [
    {
     "name": "stdout",
     "output_type": "stream",
     "text": [
      "-------\n",
      "Recommending 5  products similar to:\n"
     ]
    },
    {
     "data": {
      "text/html": [
       "<div>\n",
       "<style scoped>\n",
       "    .dataframe tbody tr th:only-of-type {\n",
       "        vertical-align: middle;\n",
       "    }\n",
       "\n",
       "    .dataframe tbody tr th {\n",
       "        vertical-align: top;\n",
       "    }\n",
       "\n",
       "    .dataframe thead th {\n",
       "        text-align: right;\n",
       "    }\n",
       "</style>\n",
       "<table border=\"1\" class=\"dataframe\">\n",
       "  <thead>\n",
       "    <tr style=\"text-align: right;\">\n",
       "      <th></th>\n",
       "      <th>title</th>\n",
       "      <th>category_str</th>\n",
       "      <th>description</th>\n",
       "      <th>asin</th>\n",
       "      <th>brand</th>\n",
       "    </tr>\n",
       "  </thead>\n",
       "  <tbody>\n",
       "    <tr>\n",
       "      <th>0</th>\n",
       "      <td>VideoSecu 24\" Long Arm TV Wall Mount Low Profi...</td>\n",
       "      <td>Electronics,Accessories and Supplies,Audio and...</td>\n",
       "      <td>The videosecu TV mount is a mounting solution ...</td>\n",
       "      <td>0972683275</td>\n",
       "      <td>VideoSecu</td>\n",
       "    </tr>\n",
       "  </tbody>\n",
       "</table>\n",
       "</div>"
      ],
      "text/plain": [
       "                                               title  \\\n",
       "0  VideoSecu 24\" Long Arm TV Wall Mount Low Profi...   \n",
       "\n",
       "                                        category_str  \\\n",
       "0  Electronics,Accessories and Supplies,Audio and...   \n",
       "\n",
       "                                         description        asin      brand  \n",
       "0  The videosecu TV mount is a mounting solution ...  0972683275  VideoSecu  "
      ]
     },
     "execution_count": 32,
     "metadata": {},
     "output_type": "execute_result"
    }
   ],
   "source": [
    "asin = '0972683275'\n",
    "recommendation, scores = recommend(results_corpus, asin=asin, num=5)\n",
    "print(\"Recommending 5  products similar to:\")\n",
    "df2[df2['asin'] == asin][['title', 'category_str', 'description', 'asin', 'brand']]\n",
    "\n"
   ]
  },
  {
   "cell_type": "code",
   "execution_count": 33,
   "id": "66497df4",
   "metadata": {},
   "outputs": [
    {
     "name": "stdout",
     "output_type": "stream",
     "text": [
      "With Scores: \n",
      "0.17875194218537926\n",
      "0.15484639884347345\n",
      "0.1463680619673356\n",
      "0.13378005363446765\n",
      "0.11455405239155397\n"
     ]
    },
    {
     "data": {
      "text/html": [
       "<div>\n",
       "<style scoped>\n",
       "    .dataframe tbody tr th:only-of-type {\n",
       "        vertical-align: middle;\n",
       "    }\n",
       "\n",
       "    .dataframe tbody tr th {\n",
       "        vertical-align: top;\n",
       "    }\n",
       "\n",
       "    .dataframe thead th {\n",
       "        text-align: right;\n",
       "    }\n",
       "</style>\n",
       "<table border=\"1\" class=\"dataframe\">\n",
       "  <thead>\n",
       "    <tr style=\"text-align: right;\">\n",
       "      <th></th>\n",
       "      <th>title</th>\n",
       "      <th>category_str</th>\n",
       "      <th>description</th>\n",
       "      <th>asin</th>\n",
       "      <th>brand</th>\n",
       "    </tr>\n",
       "  </thead>\n",
       "  <tbody>\n",
       "    <tr>\n",
       "      <th>676</th>\n",
       "      <td>VideoSecu Tilt Flat Screen TV Wall Mount Brack...</td>\n",
       "      <td>Electronics,Accessories and Supplies,Audio and...</td>\n",
       "      <td>The VideoSecu TV Mount is compatible with LED,...</td>\n",
       "      <td>B000NMFCIA</td>\n",
       "      <td>VideoSecu</td>\n",
       "    </tr>\n",
       "    <tr>\n",
       "      <th>958</th>\n",
       "      <td>VideoSecu Computer Monitor TV Wall Mount Brack...</td>\n",
       "      <td>Electronics,Accessories and Supplies,Audio and...</td>\n",
       "      <td>This wall mount is designed for LCD Monitor an...</td>\n",
       "      <td>B0017D0ENM</td>\n",
       "      <td>VideoSecu</td>\n",
       "    </tr>\n",
       "    <tr>\n",
       "      <th>3049</th>\n",
       "      <td>Mount-It TV Wall Mount Full Motion LCD, LED 4K...</td>\n",
       "      <td>Electronics,Accessories and Supplies,Audio and...</td>\n",
       "      <td></td>\n",
       "      <td>B00M0V02FA</td>\n",
       "      <td>Mount-It!</td>\n",
       "    </tr>\n",
       "    <tr>\n",
       "      <th>4302</th>\n",
       "      <td>Mounting Dream Ultra Slim TV Wall Mounts Brack...</td>\n",
       "      <td>Electronics,Accessories and Supplies,Audio and...</td>\n",
       "      <td></td>\n",
       "      <td>B01CG5BUKK</td>\n",
       "      <td>Mounting Dream</td>\n",
       "    </tr>\n",
       "    <tr>\n",
       "      <th>6089</th>\n",
       "      <td>InstallerParts 23&amp;quot;-42&amp;quot; Flat TV &amp;ndas...</td>\n",
       "      <td>Electronics,Accessories and Supplies,Audio and...</td>\n",
       "      <td>&lt;br&gt;&lt;b&gt;Compatibility&lt;/b&gt;&lt;br&gt; InstallerParts Fl...</td>\n",
       "      <td>B00YTZDKC2</td>\n",
       "      <td>InstallerParts</td>\n",
       "    </tr>\n",
       "  </tbody>\n",
       "</table>\n",
       "</div>"
      ],
      "text/plain": [
       "                                                  title  \\\n",
       "676   VideoSecu Tilt Flat Screen TV Wall Mount Brack...   \n",
       "958   VideoSecu Computer Monitor TV Wall Mount Brack...   \n",
       "3049  Mount-It TV Wall Mount Full Motion LCD, LED 4K...   \n",
       "4302  Mounting Dream Ultra Slim TV Wall Mounts Brack...   \n",
       "6089  InstallerParts 23&quot;-42&quot; Flat TV &ndas...   \n",
       "\n",
       "                                           category_str  \\\n",
       "676   Electronics,Accessories and Supplies,Audio and...   \n",
       "958   Electronics,Accessories and Supplies,Audio and...   \n",
       "3049  Electronics,Accessories and Supplies,Audio and...   \n",
       "4302  Electronics,Accessories and Supplies,Audio and...   \n",
       "6089  Electronics,Accessories and Supplies,Audio and...   \n",
       "\n",
       "                                            description        asin  \\\n",
       "676   The VideoSecu TV Mount is compatible with LED,...  B000NMFCIA   \n",
       "958   This wall mount is designed for LCD Monitor an...  B0017D0ENM   \n",
       "3049                                                     B00M0V02FA   \n",
       "4302                                                     B01CG5BUKK   \n",
       "6089  <br><b>Compatibility</b><br> InstallerParts Fl...  B00YTZDKC2   \n",
       "\n",
       "               brand  \n",
       "676        VideoSecu  \n",
       "958        VideoSecu  \n",
       "3049       Mount-It!  \n",
       "4302  Mounting Dream  \n",
       "6089  InstallerParts  "
      ]
     },
     "execution_count": 33,
     "metadata": {},
     "output_type": "execute_result"
    }
   ],
   "source": [
    "print(\"With Scores: \")\n",
    "for s in scores:\n",
    "    print(s)\n",
    "recommendation[['title', 'category_str', 'description', 'asin', 'brand']]"
   ]
  },
  {
   "cell_type": "markdown",
   "id": "6a0fba91",
   "metadata": {},
   "source": [
    "#### Evaluation"
   ]
  },
  {
   "cell_type": "code",
   "execution_count": 34,
   "id": "ad911edc",
   "metadata": {},
   "outputs": [
    {
     "data": {
      "text/plain": [
       "Index(['0972683275', '980035977X', '9876035371', '998504780X', '9985609034',\n",
       "       'B000001OKY', 'B00000J0AR', 'B00000J0D2', 'B00000J0QI', 'B00000J1U5',\n",
       "       ...\n",
       "       'B01HGAOQZ6', 'B01HGASSU0', 'B01HGDB3V8', 'B01HGDGDEK', 'B01HGOMMD0',\n",
       "       'B01HHNTOV8', 'B01HIS5IBM', 'B01HISA452', 'B01HITUTV0', 'B01HIY64XM'],\n",
       "      dtype='object', name='asin', length=6576)"
      ]
     },
     "execution_count": 34,
     "metadata": {},
     "output_type": "execute_result"
    }
   ],
   "source": [
    "review_df = df2[['reviewerID', 'asin', 'overall']].drop_duplicates()\n",
    "review_df.reset_index(drop=True, inplace=True)\n",
    "pivoted_df = review_df.pivot(index='reviewerID', columns='asin', values='overall').fillna(0)\n",
    "pivoted_df.columns"
   ]
  },
  {
   "cell_type": "code",
   "execution_count": 35,
   "id": "d484b4f7",
   "metadata": {},
   "outputs": [
    {
     "data": {
      "text/html": [
       "<div>\n",
       "<style scoped>\n",
       "    .dataframe tbody tr th:only-of-type {\n",
       "        vertical-align: middle;\n",
       "    }\n",
       "\n",
       "    .dataframe tbody tr th {\n",
       "        vertical-align: top;\n",
       "    }\n",
       "\n",
       "    .dataframe thead th {\n",
       "        text-align: right;\n",
       "    }\n",
       "</style>\n",
       "<table border=\"1\" class=\"dataframe\">\n",
       "  <thead>\n",
       "    <tr style=\"text-align: right;\">\n",
       "      <th></th>\n",
       "      <th>0</th>\n",
       "      <th>1</th>\n",
       "      <th>2</th>\n",
       "      <th>3</th>\n",
       "      <th>4</th>\n",
       "      <th>5</th>\n",
       "      <th>6</th>\n",
       "      <th>7</th>\n",
       "      <th>8</th>\n",
       "      <th>9</th>\n",
       "      <th>...</th>\n",
       "      <th>6566</th>\n",
       "      <th>6567</th>\n",
       "      <th>6568</th>\n",
       "      <th>6569</th>\n",
       "      <th>6570</th>\n",
       "      <th>6571</th>\n",
       "      <th>6572</th>\n",
       "      <th>6573</th>\n",
       "      <th>6574</th>\n",
       "      <th>6575</th>\n",
       "    </tr>\n",
       "  </thead>\n",
       "  <tbody>\n",
       "    <tr>\n",
       "      <th>0</th>\n",
       "      <td>5.000000</td>\n",
       "      <td>1.004957</td>\n",
       "      <td>1.006475</td>\n",
       "      <td>1.028389</td>\n",
       "      <td>1.025735</td>\n",
       "      <td>1.010019</td>\n",
       "      <td>1.012771</td>\n",
       "      <td>1.047785</td>\n",
       "      <td>1.019958</td>\n",
       "      <td>1.017125</td>\n",
       "      <td>...</td>\n",
       "      <td>1.019410</td>\n",
       "      <td>1.006659</td>\n",
       "      <td>1.006478</td>\n",
       "      <td>1.007277</td>\n",
       "      <td>1.007367</td>\n",
       "      <td>1.023964</td>\n",
       "      <td>1.100207</td>\n",
       "      <td>1.032877</td>\n",
       "      <td>1.034988</td>\n",
       "      <td>1.003096</td>\n",
       "    </tr>\n",
       "    <tr>\n",
       "      <th>1</th>\n",
       "      <td>1.004914</td>\n",
       "      <td>5.000000</td>\n",
       "      <td>1.051018</td>\n",
       "      <td>1.002246</td>\n",
       "      <td>1.002235</td>\n",
       "      <td>1.001975</td>\n",
       "      <td>1.004525</td>\n",
       "      <td>1.088477</td>\n",
       "      <td>1.069388</td>\n",
       "      <td>1.004601</td>\n",
       "      <td>...</td>\n",
       "      <td>1.011455</td>\n",
       "      <td>1.002360</td>\n",
       "      <td>1.002296</td>\n",
       "      <td>1.002579</td>\n",
       "      <td>1.002611</td>\n",
       "      <td>1.027632</td>\n",
       "      <td>1.003070</td>\n",
       "      <td>1.001503</td>\n",
       "      <td>1.047176</td>\n",
       "      <td>1.006176</td>\n",
       "    </tr>\n",
       "    <tr>\n",
       "      <th>2</th>\n",
       "      <td>1.006723</td>\n",
       "      <td>1.051306</td>\n",
       "      <td>5.000000</td>\n",
       "      <td>1.011318</td>\n",
       "      <td>1.011150</td>\n",
       "      <td>1.008496</td>\n",
       "      <td>1.021104</td>\n",
       "      <td>1.477050</td>\n",
       "      <td>1.130164</td>\n",
       "      <td>1.021459</td>\n",
       "      <td>...</td>\n",
       "      <td>1.005367</td>\n",
       "      <td>1.011005</td>\n",
       "      <td>1.010705</td>\n",
       "      <td>1.012025</td>\n",
       "      <td>1.012174</td>\n",
       "      <td>1.001962</td>\n",
       "      <td>1.015451</td>\n",
       "      <td>1.007095</td>\n",
       "      <td>1.003573</td>\n",
       "      <td>1.004344</td>\n",
       "    </tr>\n",
       "    <tr>\n",
       "      <th>3</th>\n",
       "      <td>1.028556</td>\n",
       "      <td>1.002457</td>\n",
       "      <td>1.011238</td>\n",
       "      <td>5.000000</td>\n",
       "      <td>3.686418</td>\n",
       "      <td>1.022855</td>\n",
       "      <td>1.026856</td>\n",
       "      <td>1.026580</td>\n",
       "      <td>1.064885</td>\n",
       "      <td>1.069721</td>\n",
       "      <td>...</td>\n",
       "      <td>1.142374</td>\n",
       "      <td>1.026310</td>\n",
       "      <td>1.013623</td>\n",
       "      <td>1.015303</td>\n",
       "      <td>1.015493</td>\n",
       "      <td>1.006255</td>\n",
       "      <td>1.067725</td>\n",
       "      <td>1.094829</td>\n",
       "      <td>1.138027</td>\n",
       "      <td>1.012216</td>\n",
       "    </tr>\n",
       "    <tr>\n",
       "      <th>4</th>\n",
       "      <td>1.025868</td>\n",
       "      <td>1.002413</td>\n",
       "      <td>1.011036</td>\n",
       "      <td>3.686407</td>\n",
       "      <td>5.000000</td>\n",
       "      <td>1.015670</td>\n",
       "      <td>1.026387</td>\n",
       "      <td>1.026112</td>\n",
       "      <td>1.063753</td>\n",
       "      <td>1.058686</td>\n",
       "      <td>...</td>\n",
       "      <td>1.139894</td>\n",
       "      <td>1.034456</td>\n",
       "      <td>1.013385</td>\n",
       "      <td>1.037651</td>\n",
       "      <td>1.038119</td>\n",
       "      <td>1.010451</td>\n",
       "      <td>1.093690</td>\n",
       "      <td>1.109676</td>\n",
       "      <td>1.160961</td>\n",
       "      <td>1.012000</td>\n",
       "    </tr>\n",
       "    <tr>\n",
       "      <th>...</th>\n",
       "      <td>...</td>\n",
       "      <td>...</td>\n",
       "      <td>...</td>\n",
       "      <td>...</td>\n",
       "      <td>...</td>\n",
       "      <td>...</td>\n",
       "      <td>...</td>\n",
       "      <td>...</td>\n",
       "      <td>...</td>\n",
       "      <td>...</td>\n",
       "      <td>...</td>\n",
       "      <td>...</td>\n",
       "      <td>...</td>\n",
       "      <td>...</td>\n",
       "      <td>...</td>\n",
       "      <td>...</td>\n",
       "      <td>...</td>\n",
       "      <td>...</td>\n",
       "      <td>...</td>\n",
       "      <td>...</td>\n",
       "      <td>...</td>\n",
       "    </tr>\n",
       "    <tr>\n",
       "      <th>6571</th>\n",
       "      <td>1.024000</td>\n",
       "      <td>1.027710</td>\n",
       "      <td>1.001750</td>\n",
       "      <td>1.006123</td>\n",
       "      <td>1.010353</td>\n",
       "      <td>1.030313</td>\n",
       "      <td>1.008944</td>\n",
       "      <td>1.002454</td>\n",
       "      <td>1.021162</td>\n",
       "      <td>1.001698</td>\n",
       "      <td>...</td>\n",
       "      <td>1.024944</td>\n",
       "      <td>1.004647</td>\n",
       "      <td>1.014980</td>\n",
       "      <td>1.005078</td>\n",
       "      <td>1.005141</td>\n",
       "      <td>5.000000</td>\n",
       "      <td>1.080904</td>\n",
       "      <td>1.024288</td>\n",
       "      <td>1.053322</td>\n",
       "      <td>1.012905</td>\n",
       "    </tr>\n",
       "    <tr>\n",
       "      <th>6572</th>\n",
       "      <td>1.100304</td>\n",
       "      <td>1.003213</td>\n",
       "      <td>1.015302</td>\n",
       "      <td>1.067657</td>\n",
       "      <td>1.093655</td>\n",
       "      <td>1.029579</td>\n",
       "      <td>1.029380</td>\n",
       "      <td>1.019968</td>\n",
       "      <td>1.005752</td>\n",
       "      <td>1.048813</td>\n",
       "      <td>...</td>\n",
       "      <td>1.022909</td>\n",
       "      <td>1.056210</td>\n",
       "      <td>1.035264</td>\n",
       "      <td>1.061422</td>\n",
       "      <td>1.062185</td>\n",
       "      <td>1.080967</td>\n",
       "      <td>5.000000</td>\n",
       "      <td>1.030712</td>\n",
       "      <td>1.024049</td>\n",
       "      <td>1.035218</td>\n",
       "    </tr>\n",
       "    <tr>\n",
       "      <th>6573</th>\n",
       "      <td>1.032812</td>\n",
       "      <td>1.001481</td>\n",
       "      <td>1.006782</td>\n",
       "      <td>1.094601</td>\n",
       "      <td>1.109482</td>\n",
       "      <td>1.028741</td>\n",
       "      <td>1.016507</td>\n",
       "      <td>1.008957</td>\n",
       "      <td>1.002549</td>\n",
       "      <td>1.016784</td>\n",
       "      <td>...</td>\n",
       "      <td>1.033082</td>\n",
       "      <td>1.013837</td>\n",
       "      <td>1.013461</td>\n",
       "      <td>1.015121</td>\n",
       "      <td>1.015308</td>\n",
       "      <td>1.024188</td>\n",
       "      <td>1.030548</td>\n",
       "      <td>5.000000</td>\n",
       "      <td>1.071770</td>\n",
       "      <td>1.013711</td>\n",
       "    </tr>\n",
       "    <tr>\n",
       "      <th>6574</th>\n",
       "      <td>1.034952</td>\n",
       "      <td>1.047182</td>\n",
       "      <td>1.003288</td>\n",
       "      <td>1.137829</td>\n",
       "      <td>1.160797</td>\n",
       "      <td>1.022093</td>\n",
       "      <td>1.008392</td>\n",
       "      <td>1.004441</td>\n",
       "      <td>1.077946</td>\n",
       "      <td>1.008533</td>\n",
       "      <td>...</td>\n",
       "      <td>1.050353</td>\n",
       "      <td>1.012259</td>\n",
       "      <td>1.011926</td>\n",
       "      <td>1.013396</td>\n",
       "      <td>1.013563</td>\n",
       "      <td>1.053251</td>\n",
       "      <td>1.023913</td>\n",
       "      <td>1.071798</td>\n",
       "      <td>5.000000</td>\n",
       "      <td>1.014982</td>\n",
       "    </tr>\n",
       "    <tr>\n",
       "      <th>6575</th>\n",
       "      <td>1.003148</td>\n",
       "      <td>1.006271</td>\n",
       "      <td>1.004148</td>\n",
       "      <td>1.012100</td>\n",
       "      <td>1.011918</td>\n",
       "      <td>1.001605</td>\n",
       "      <td>1.003691</td>\n",
       "      <td>1.005553</td>\n",
       "      <td>1.001559</td>\n",
       "      <td>1.003753</td>\n",
       "      <td>...</td>\n",
       "      <td>1.007034</td>\n",
       "      <td>1.075529</td>\n",
       "      <td>1.073474</td>\n",
       "      <td>1.090509</td>\n",
       "      <td>1.091633</td>\n",
       "      <td>1.012921</td>\n",
       "      <td>1.035171</td>\n",
       "      <td>1.013827</td>\n",
       "      <td>1.015070</td>\n",
       "      <td>5.000000</td>\n",
       "    </tr>\n",
       "  </tbody>\n",
       "</table>\n",
       "<p>6576 rows × 6576 columns</p>\n",
       "</div>"
      ],
      "text/plain": [
       "          0         1         2         3         4         5         6     \\\n",
       "0     5.000000  1.004957  1.006475  1.028389  1.025735  1.010019  1.012771   \n",
       "1     1.004914  5.000000  1.051018  1.002246  1.002235  1.001975  1.004525   \n",
       "2     1.006723  1.051306  5.000000  1.011318  1.011150  1.008496  1.021104   \n",
       "3     1.028556  1.002457  1.011238  5.000000  3.686418  1.022855  1.026856   \n",
       "4     1.025868  1.002413  1.011036  3.686407  5.000000  1.015670  1.026387   \n",
       "...        ...       ...       ...       ...       ...       ...       ...   \n",
       "6571  1.024000  1.027710  1.001750  1.006123  1.010353  1.030313  1.008944   \n",
       "6572  1.100304  1.003213  1.015302  1.067657  1.093655  1.029579  1.029380   \n",
       "6573  1.032812  1.001481  1.006782  1.094601  1.109482  1.028741  1.016507   \n",
       "6574  1.034952  1.047182  1.003288  1.137829  1.160797  1.022093  1.008392   \n",
       "6575  1.003148  1.006271  1.004148  1.012100  1.011918  1.001605  1.003691   \n",
       "\n",
       "          7         8         9     ...      6566      6567      6568  \\\n",
       "0     1.047785  1.019958  1.017125  ...  1.019410  1.006659  1.006478   \n",
       "1     1.088477  1.069388  1.004601  ...  1.011455  1.002360  1.002296   \n",
       "2     1.477050  1.130164  1.021459  ...  1.005367  1.011005  1.010705   \n",
       "3     1.026580  1.064885  1.069721  ...  1.142374  1.026310  1.013623   \n",
       "4     1.026112  1.063753  1.058686  ...  1.139894  1.034456  1.013385   \n",
       "...        ...       ...       ...  ...       ...       ...       ...   \n",
       "6571  1.002454  1.021162  1.001698  ...  1.024944  1.004647  1.014980   \n",
       "6572  1.019968  1.005752  1.048813  ...  1.022909  1.056210  1.035264   \n",
       "6573  1.008957  1.002549  1.016784  ...  1.033082  1.013837  1.013461   \n",
       "6574  1.004441  1.077946  1.008533  ...  1.050353  1.012259  1.011926   \n",
       "6575  1.005553  1.001559  1.003753  ...  1.007034  1.075529  1.073474   \n",
       "\n",
       "          6569      6570      6571      6572      6573      6574      6575  \n",
       "0     1.007277  1.007367  1.023964  1.100207  1.032877  1.034988  1.003096  \n",
       "1     1.002579  1.002611  1.027632  1.003070  1.001503  1.047176  1.006176  \n",
       "2     1.012025  1.012174  1.001962  1.015451  1.007095  1.003573  1.004344  \n",
       "3     1.015303  1.015493  1.006255  1.067725  1.094829  1.138027  1.012216  \n",
       "4     1.037651  1.038119  1.010451  1.093690  1.109676  1.160961  1.012000  \n",
       "...        ...       ...       ...       ...       ...       ...       ...  \n",
       "6571  1.005078  1.005141  5.000000  1.080904  1.024288  1.053322  1.012905  \n",
       "6572  1.061422  1.062185  1.080967  5.000000  1.030712  1.024049  1.035218  \n",
       "6573  1.015121  1.015308  1.024188  1.030548  5.000000  1.071770  1.013711  \n",
       "6574  1.013396  1.013563  1.053251  1.023913  1.071798  5.000000  1.014982  \n",
       "6575  1.090509  1.091633  1.012921  1.035171  1.013827  1.015070  5.000000  \n",
       "\n",
       "[6576 rows x 6576 columns]"
      ]
     },
     "execution_count": 35,
     "metadata": {},
     "output_type": "execute_result"
    }
   ],
   "source": [
    "min_max_scalar = MinMaxScaler(feature_range=(1, 5))\n",
    "min_max_scalar.fit(cosine_similarities_corpus)\n",
    "rating_pred_matrix = min_max_scalar.transform(cosine_similarities_corpus)\n",
    "rating_pred_df = pd.DataFrame(rating_pred_matrix)\n",
    "rating_pred_df"
   ]
  },
  {
   "cell_type": "code",
   "execution_count": 36,
   "id": "8c6d8995",
   "metadata": {},
   "outputs": [
    {
     "name": "stdout",
     "output_type": "stream",
     "text": [
      "1.4594055349765187\n"
     ]
    }
   ],
   "source": [
    "mean_squared_error(pivoted_df, rating_pred_df)"
   ]
  },
  {
   "cell_type": "code",
   "execution_count": null,
   "id": "81c59082",
   "metadata": {},
   "outputs": [],
   "source": []
  }
 ],
 "metadata": {
  "kernelspec": {
   "display_name": "Python 3 (ipykernel)",
   "language": "python",
   "name": "python3"
  },
  "language_info": {
   "codemirror_mode": {
    "name": "ipython",
    "version": 3
   },
   "file_extension": ".py",
   "mimetype": "text/x-python",
   "name": "python",
   "nbconvert_exporter": "python",
   "pygments_lexer": "ipython3",
   "version": "3.9.7"
  }
 },
 "nbformat": 4,
 "nbformat_minor": 5
}
