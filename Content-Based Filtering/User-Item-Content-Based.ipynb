{
 "cells": [
  {
   "cell_type": "markdown",
   "id": "a34058dc",
   "metadata": {},
   "source": [
    "# Content-Based Recommendation Using User Rated Content"
   ]
  },
  {
   "cell_type": "code",
   "execution_count": 1,
   "id": "d464345c",
   "metadata": {},
   "outputs": [],
   "source": [
    "import pandas as pd\n",
    "import pickle as pickle\n",
    "import numpy as np\n",
    "import matplotlib.pyplot as plt\n",
    "from bs4 import BeautifulSoup\n",
    "from html import unescape\n",
    "from sklearn.preprocessing import MinMaxScaler\n",
    "from sklearn.feature_extraction.text import TfidfVectorizer\n",
    "from sklearn.metrics.pairwise import linear_kernel\n",
    "from sklearn.model_selection import train_test_split\n",
    "from sklearn.metrics import mean_squared_error, confusion_matrix, accuracy_score, precision_score, recall_score, f1_score, plot_confusion_matrix"
   ]
  },
  {
   "cell_type": "code",
   "execution_count": 2,
   "id": "5f19d59a",
   "metadata": {},
   "outputs": [],
   "source": [
    "data = pd.read_pickle('data_nov_8.pkl')"
   ]
  },
  {
   "cell_type": "markdown",
   "id": "6e8f3b69",
   "metadata": {},
   "source": [
    "###### To get Unique user-item pair\n",
    "explode description as it is list of single entry\n"
   ]
  },
  {
   "cell_type": "code",
   "execution_count": 3,
   "id": "e00c2f69",
   "metadata": {},
   "outputs": [],
   "source": [
    "df2 = data[['title', 'overall', 'category', 'description', 'asin', 'reviewerID', 'brand', 'price']].explode(\"description\").drop_duplicates(subset=[\"reviewerID\", \"asin\"])\n",
    "df2.reset_index(drop=True, inplace=True)\n"
   ]
  },
  {
   "cell_type": "code",
   "execution_count": 4,
   "id": "c0daaf37",
   "metadata": {},
   "outputs": [
    {
     "data": {
      "text/plain": [
       "815053"
      ]
     },
     "execution_count": 4,
     "metadata": {},
     "output_type": "execute_result"
    }
   ],
   "source": [
    "len(df2['reviewerID'].unique())"
   ]
  },
  {
   "cell_type": "markdown",
   "id": "bcbb9d80",
   "metadata": {},
   "source": [
    "create category_str column from list type column 'category', with comma separated categories"
   ]
  },
  {
   "cell_type": "code",
   "execution_count": 5,
   "id": "8fb2ee34",
   "metadata": {},
   "outputs": [],
   "source": [
    "category_values=[]\n",
    "for val in data['category']:\n",
    "    category_values.append(val)"
   ]
  },
  {
   "cell_type": "code",
   "execution_count": 6,
   "id": "534e69c5",
   "metadata": {},
   "outputs": [],
   "source": [
    "#remove &amp from category values\n",
    "for row in category_values:\n",
    "    for i in range (0,len(row)):\n",
    "        row[i]=row[i].replace('&amp;','and').replace('&', 'and').replace('$amp', 'and')"
   ]
  },
  {
   "cell_type": "code",
   "execution_count": 7,
   "id": "fab41a87",
   "metadata": {},
   "outputs": [],
   "source": [
    "df2['price'] = df2['price'].apply(lambda row: float(str(row).replace('$','').replace(',', '').replace(' ', '')))"
   ]
  },
  {
   "cell_type": "code",
   "execution_count": 8,
   "id": "3c1d1a73",
   "metadata": {},
   "outputs": [],
   "source": [
    "df2['category_str'] = [','.join(map(str, l)) for l in df2['category']]"
   ]
  },
  {
   "cell_type": "code",
   "execution_count": 9,
   "id": "60ce08bc",
   "metadata": {},
   "outputs": [
    {
     "data": {
      "text/plain": [
       "(965074, 9)"
      ]
     },
     "execution_count": 9,
     "metadata": {},
     "output_type": "execute_result"
    }
   ],
   "source": [
    "df2.shape"
   ]
  },
  {
   "cell_type": "code",
   "execution_count": 10,
   "id": "b1d3ceb9",
   "metadata": {},
   "outputs": [
    {
     "data": {
      "text/html": [
       "<div>\n",
       "<style scoped>\n",
       "    .dataframe tbody tr th:only-of-type {\n",
       "        vertical-align: middle;\n",
       "    }\n",
       "\n",
       "    .dataframe tbody tr th {\n",
       "        vertical-align: top;\n",
       "    }\n",
       "\n",
       "    .dataframe thead th {\n",
       "        text-align: right;\n",
       "    }\n",
       "</style>\n",
       "<table border=\"1\" class=\"dataframe\">\n",
       "  <thead>\n",
       "    <tr style=\"text-align: right;\">\n",
       "      <th></th>\n",
       "      <th>title</th>\n",
       "      <th>overall</th>\n",
       "      <th>category</th>\n",
       "      <th>description</th>\n",
       "      <th>asin</th>\n",
       "      <th>reviewerID</th>\n",
       "      <th>brand</th>\n",
       "      <th>price</th>\n",
       "      <th>category_str</th>\n",
       "    </tr>\n",
       "  </thead>\n",
       "  <tbody>\n",
       "    <tr>\n",
       "      <th>0</th>\n",
       "      <td>VideoSecu 24\" Long Arm TV Wall Mount Low Profi...</td>\n",
       "      <td>4.0</td>\n",
       "      <td>[Electronics, Accessories and Supplies, Audio ...</td>\n",
       "      <td>The videosecu TV mount is a mounting solution ...</td>\n",
       "      <td>0972683275</td>\n",
       "      <td>A1KECIKIWDB4HH</td>\n",
       "      <td>VideoSecu</td>\n",
       "      <td>34.99</td>\n",
       "      <td>Electronics,Accessories and Supplies,Audio and...</td>\n",
       "    </tr>\n",
       "    <tr>\n",
       "      <th>1</th>\n",
       "      <td>VideoSecu 24\" Long Arm TV Wall Mount Low Profi...</td>\n",
       "      <td>5.0</td>\n",
       "      <td>[Electronics, Accessories and Supplies, Audio ...</td>\n",
       "      <td>The videosecu TV mount is a mounting solution ...</td>\n",
       "      <td>0972683275</td>\n",
       "      <td>A2MQ47BBL7F6B6</td>\n",
       "      <td>VideoSecu</td>\n",
       "      <td>34.99</td>\n",
       "      <td>Electronics,Accessories and Supplies,Audio and...</td>\n",
       "    </tr>\n",
       "    <tr>\n",
       "      <th>2</th>\n",
       "      <td>VideoSecu 24\" Long Arm TV Wall Mount Low Profi...</td>\n",
       "      <td>5.0</td>\n",
       "      <td>[Electronics, Accessories and Supplies, Audio ...</td>\n",
       "      <td>The videosecu TV mount is a mounting solution ...</td>\n",
       "      <td>0972683275</td>\n",
       "      <td>ANWW7PT6Z6MHD</td>\n",
       "      <td>VideoSecu</td>\n",
       "      <td>34.99</td>\n",
       "      <td>Electronics,Accessories and Supplies,Audio and...</td>\n",
       "    </tr>\n",
       "    <tr>\n",
       "      <th>3</th>\n",
       "      <td>VideoSecu 24\" Long Arm TV Wall Mount Low Profi...</td>\n",
       "      <td>5.0</td>\n",
       "      <td>[Electronics, Accessories and Supplies, Audio ...</td>\n",
       "      <td>The videosecu TV mount is a mounting solution ...</td>\n",
       "      <td>0972683275</td>\n",
       "      <td>A2DEU0B3AUINV9</td>\n",
       "      <td>VideoSecu</td>\n",
       "      <td>34.99</td>\n",
       "      <td>Electronics,Accessories and Supplies,Audio and...</td>\n",
       "    </tr>\n",
       "    <tr>\n",
       "      <th>4</th>\n",
       "      <td>VideoSecu 24\" Long Arm TV Wall Mount Low Profi...</td>\n",
       "      <td>4.0</td>\n",
       "      <td>[Electronics, Accessories and Supplies, Audio ...</td>\n",
       "      <td>The videosecu TV mount is a mounting solution ...</td>\n",
       "      <td>0972683275</td>\n",
       "      <td>AE8R1JSMJYIU</td>\n",
       "      <td>VideoSecu</td>\n",
       "      <td>34.99</td>\n",
       "      <td>Electronics,Accessories and Supplies,Audio and...</td>\n",
       "    </tr>\n",
       "    <tr>\n",
       "      <th>5</th>\n",
       "      <td>VideoSecu 24\" Long Arm TV Wall Mount Low Profi...</td>\n",
       "      <td>4.0</td>\n",
       "      <td>[Electronics, Accessories and Supplies, Audio ...</td>\n",
       "      <td>The videosecu TV mount is a mounting solution ...</td>\n",
       "      <td>0972683275</td>\n",
       "      <td>AQCEXDZDNVJUG</td>\n",
       "      <td>VideoSecu</td>\n",
       "      <td>34.99</td>\n",
       "      <td>Electronics,Accessories and Supplies,Audio and...</td>\n",
       "    </tr>\n",
       "    <tr>\n",
       "      <th>6</th>\n",
       "      <td>VideoSecu 24\" Long Arm TV Wall Mount Low Profi...</td>\n",
       "      <td>4.0</td>\n",
       "      <td>[Electronics, Accessories and Supplies, Audio ...</td>\n",
       "      <td>The videosecu TV mount is a mounting solution ...</td>\n",
       "      <td>0972683275</td>\n",
       "      <td>A3AKVALGT4Y02G</td>\n",
       "      <td>VideoSecu</td>\n",
       "      <td>34.99</td>\n",
       "      <td>Electronics,Accessories and Supplies,Audio and...</td>\n",
       "    </tr>\n",
       "    <tr>\n",
       "      <th>7</th>\n",
       "      <td>VideoSecu 24\" Long Arm TV Wall Mount Low Profi...</td>\n",
       "      <td>3.0</td>\n",
       "      <td>[Electronics, Accessories and Supplies, Audio ...</td>\n",
       "      <td>The videosecu TV mount is a mounting solution ...</td>\n",
       "      <td>0972683275</td>\n",
       "      <td>AGDAA8RUL1RWB</td>\n",
       "      <td>VideoSecu</td>\n",
       "      <td>34.99</td>\n",
       "      <td>Electronics,Accessories and Supplies,Audio and...</td>\n",
       "    </tr>\n",
       "    <tr>\n",
       "      <th>8</th>\n",
       "      <td>VideoSecu 24\" Long Arm TV Wall Mount Low Profi...</td>\n",
       "      <td>4.0</td>\n",
       "      <td>[Electronics, Accessories and Supplies, Audio ...</td>\n",
       "      <td>The videosecu TV mount is a mounting solution ...</td>\n",
       "      <td>0972683275</td>\n",
       "      <td>A2NY5V6HLQWNZB</td>\n",
       "      <td>VideoSecu</td>\n",
       "      <td>34.99</td>\n",
       "      <td>Electronics,Accessories and Supplies,Audio and...</td>\n",
       "    </tr>\n",
       "    <tr>\n",
       "      <th>9</th>\n",
       "      <td>VideoSecu 24\" Long Arm TV Wall Mount Low Profi...</td>\n",
       "      <td>5.0</td>\n",
       "      <td>[Electronics, Accessories and Supplies, Audio ...</td>\n",
       "      <td>The videosecu TV mount is a mounting solution ...</td>\n",
       "      <td>0972683275</td>\n",
       "      <td>AD491FXTF1SNI</td>\n",
       "      <td>VideoSecu</td>\n",
       "      <td>34.99</td>\n",
       "      <td>Electronics,Accessories and Supplies,Audio and...</td>\n",
       "    </tr>\n",
       "  </tbody>\n",
       "</table>\n",
       "</div>"
      ],
      "text/plain": [
       "                                               title  overall  \\\n",
       "0  VideoSecu 24\" Long Arm TV Wall Mount Low Profi...      4.0   \n",
       "1  VideoSecu 24\" Long Arm TV Wall Mount Low Profi...      5.0   \n",
       "2  VideoSecu 24\" Long Arm TV Wall Mount Low Profi...      5.0   \n",
       "3  VideoSecu 24\" Long Arm TV Wall Mount Low Profi...      5.0   \n",
       "4  VideoSecu 24\" Long Arm TV Wall Mount Low Profi...      4.0   \n",
       "5  VideoSecu 24\" Long Arm TV Wall Mount Low Profi...      4.0   \n",
       "6  VideoSecu 24\" Long Arm TV Wall Mount Low Profi...      4.0   \n",
       "7  VideoSecu 24\" Long Arm TV Wall Mount Low Profi...      3.0   \n",
       "8  VideoSecu 24\" Long Arm TV Wall Mount Low Profi...      4.0   \n",
       "9  VideoSecu 24\" Long Arm TV Wall Mount Low Profi...      5.0   \n",
       "\n",
       "                                            category  \\\n",
       "0  [Electronics, Accessories and Supplies, Audio ...   \n",
       "1  [Electronics, Accessories and Supplies, Audio ...   \n",
       "2  [Electronics, Accessories and Supplies, Audio ...   \n",
       "3  [Electronics, Accessories and Supplies, Audio ...   \n",
       "4  [Electronics, Accessories and Supplies, Audio ...   \n",
       "5  [Electronics, Accessories and Supplies, Audio ...   \n",
       "6  [Electronics, Accessories and Supplies, Audio ...   \n",
       "7  [Electronics, Accessories and Supplies, Audio ...   \n",
       "8  [Electronics, Accessories and Supplies, Audio ...   \n",
       "9  [Electronics, Accessories and Supplies, Audio ...   \n",
       "\n",
       "                                         description        asin  \\\n",
       "0  The videosecu TV mount is a mounting solution ...  0972683275   \n",
       "1  The videosecu TV mount is a mounting solution ...  0972683275   \n",
       "2  The videosecu TV mount is a mounting solution ...  0972683275   \n",
       "3  The videosecu TV mount is a mounting solution ...  0972683275   \n",
       "4  The videosecu TV mount is a mounting solution ...  0972683275   \n",
       "5  The videosecu TV mount is a mounting solution ...  0972683275   \n",
       "6  The videosecu TV mount is a mounting solution ...  0972683275   \n",
       "7  The videosecu TV mount is a mounting solution ...  0972683275   \n",
       "8  The videosecu TV mount is a mounting solution ...  0972683275   \n",
       "9  The videosecu TV mount is a mounting solution ...  0972683275   \n",
       "\n",
       "       reviewerID      brand  price  \\\n",
       "0  A1KECIKIWDB4HH  VideoSecu  34.99   \n",
       "1  A2MQ47BBL7F6B6  VideoSecu  34.99   \n",
       "2   ANWW7PT6Z6MHD  VideoSecu  34.99   \n",
       "3  A2DEU0B3AUINV9  VideoSecu  34.99   \n",
       "4    AE8R1JSMJYIU  VideoSecu  34.99   \n",
       "5   AQCEXDZDNVJUG  VideoSecu  34.99   \n",
       "6  A3AKVALGT4Y02G  VideoSecu  34.99   \n",
       "7   AGDAA8RUL1RWB  VideoSecu  34.99   \n",
       "8  A2NY5V6HLQWNZB  VideoSecu  34.99   \n",
       "9   AD491FXTF1SNI  VideoSecu  34.99   \n",
       "\n",
       "                                        category_str  \n",
       "0  Electronics,Accessories and Supplies,Audio and...  \n",
       "1  Electronics,Accessories and Supplies,Audio and...  \n",
       "2  Electronics,Accessories and Supplies,Audio and...  \n",
       "3  Electronics,Accessories and Supplies,Audio and...  \n",
       "4  Electronics,Accessories and Supplies,Audio and...  \n",
       "5  Electronics,Accessories and Supplies,Audio and...  \n",
       "6  Electronics,Accessories and Supplies,Audio and...  \n",
       "7  Electronics,Accessories and Supplies,Audio and...  \n",
       "8  Electronics,Accessories and Supplies,Audio and...  \n",
       "9  Electronics,Accessories and Supplies,Audio and...  "
      ]
     },
     "execution_count": 10,
     "metadata": {},
     "output_type": "execute_result"
    }
   ],
   "source": [
    "df2.head(10)"
   ]
  },
  {
   "cell_type": "code",
   "execution_count": 11,
   "id": "0d12cf3a",
   "metadata": {},
   "outputs": [],
   "source": [
    "tf_corpus = TfidfVectorizer(analyzer='word', ngram_range=(1, 3), min_df=0, stop_words='english')"
   ]
  },
  {
   "cell_type": "markdown",
   "id": "90f7a10d",
   "metadata": {},
   "source": [
    "### Item Profile\n",
    "###### combine the attributes providing description of the items (to be vectorized using TF-IDF)"
   ]
  },
  {
   "cell_type": "code",
   "execution_count": 21,
   "id": "800389d4",
   "metadata": {},
   "outputs": [],
   "source": [
    "# add description later"
   ]
  },
  {
   "cell_type": "code",
   "execution_count": 12,
   "id": "5eecc676",
   "metadata": {},
   "outputs": [],
   "source": [
    "df2['corpus'] = pd.Series(df2[['category_str', 'description', 'brand', 'price']].fillna('').values.tolist()).apply(lambda x: ','.join(map(str, x)))\n",
    "item_df = df2.drop_duplicates(subset=[\"asin\"])\n"
   ]
  },
  {
   "cell_type": "code",
   "execution_count": 13,
   "id": "94d7fdab",
   "metadata": {},
   "outputs": [
    {
     "data": {
      "text/plain": [
       "'Electronics,Accessories and Supplies,Audio and Video Accessories,TV Accessories and Parts,TV Ceiling and Wall Mounts,The videosecu TV mount is a mounting solution for most 22\"-47\" LCD LED Plasma TV and some LED up to 55\" with VESA 600x400mm (24\"x16\"), 400x400mm (16\"x16\"),600x300mm(24\"x12\"), 400x200mm (16\"x8\"),300x300mm (12\"x12\"),300x200mm(12\"x8\"),200x200mm (8\"x8\"),200x100mm (8\"x4\") mounting hole pattern .Heavy gauge steel construction provides safety loading up to 66lbs display .It can tilt 15 degree forward or backward and swivel 180 degree. The removable VESA plate can be taken off for easy installation. Post-installation level adjustment allows the TV to perfectly level. The on arm cable management ring system design, guides wires and prevent cable pinching. Standard hardware and user manual included. <br />Notice: This mount fits most 22-47\" TVs (VESA 200x200mm (8x8\")/200x100mm(8x4\")/100x100mm(4x4\") without extender, fits VESA 600x400(24x16\")/400x400mm(16x16\")/600x300mm(24x12\")/400x200mm(16x8\")/300x300mm(12x12\")/300x200mm(12x8\")with 4 plate extender), some up to 50 55 inch TVs manufactured in recent 3 years.,VideoSecu,34.99'"
      ]
     },
     "execution_count": 13,
     "metadata": {},
     "output_type": "execute_result"
    }
   ],
   "source": [
    "item_df['corpus'][0]"
   ]
  },
  {
   "cell_type": "code",
   "execution_count": 14,
   "id": "c244e01a",
   "metadata": {},
   "outputs": [
    {
     "data": {
      "text/html": [
       "<div>\n",
       "<style scoped>\n",
       "    .dataframe tbody tr th:only-of-type {\n",
       "        vertical-align: middle;\n",
       "    }\n",
       "\n",
       "    .dataframe tbody tr th {\n",
       "        vertical-align: top;\n",
       "    }\n",
       "\n",
       "    .dataframe thead th {\n",
       "        text-align: right;\n",
       "    }\n",
       "</style>\n",
       "<table border=\"1\" class=\"dataframe\">\n",
       "  <thead>\n",
       "    <tr style=\"text-align: right;\">\n",
       "      <th></th>\n",
       "      <th>title</th>\n",
       "      <th>overall</th>\n",
       "      <th>category</th>\n",
       "      <th>description</th>\n",
       "      <th>asin</th>\n",
       "      <th>reviewerID</th>\n",
       "      <th>brand</th>\n",
       "      <th>price</th>\n",
       "      <th>category_str</th>\n",
       "      <th>corpus</th>\n",
       "    </tr>\n",
       "  </thead>\n",
       "  <tbody>\n",
       "    <tr>\n",
       "      <th>0</th>\n",
       "      <td>VideoSecu 24\" Long Arm TV Wall Mount Low Profi...</td>\n",
       "      <td>4.0</td>\n",
       "      <td>[Electronics, Accessories and Supplies, Audio ...</td>\n",
       "      <td>The videosecu TV mount is a mounting solution ...</td>\n",
       "      <td>0972683275</td>\n",
       "      <td>A1KECIKIWDB4HH</td>\n",
       "      <td>VideoSecu</td>\n",
       "      <td>34.99</td>\n",
       "      <td>Electronics,Accessories and Supplies,Audio and...</td>\n",
       "      <td>Electronics,Accessories and Supplies,Audio and...</td>\n",
       "    </tr>\n",
       "  </tbody>\n",
       "</table>\n",
       "</div>"
      ],
      "text/plain": [
       "                                               title  overall  \\\n",
       "0  VideoSecu 24\" Long Arm TV Wall Mount Low Profi...      4.0   \n",
       "\n",
       "                                            category  \\\n",
       "0  [Electronics, Accessories and Supplies, Audio ...   \n",
       "\n",
       "                                         description        asin  \\\n",
       "0  The videosecu TV mount is a mounting solution ...  0972683275   \n",
       "\n",
       "       reviewerID      brand  price  \\\n",
       "0  A1KECIKIWDB4HH  VideoSecu  34.99   \n",
       "\n",
       "                                        category_str  \\\n",
       "0  Electronics,Accessories and Supplies,Audio and...   \n",
       "\n",
       "                                              corpus  \n",
       "0  Electronics,Accessories and Supplies,Audio and...  "
      ]
     },
     "execution_count": 14,
     "metadata": {},
     "output_type": "execute_result"
    }
   ],
   "source": [
    "item_df.head(1)"
   ]
  },
  {
   "cell_type": "code",
   "execution_count": 15,
   "id": "b5ac81cd",
   "metadata": {},
   "outputs": [],
   "source": [
    "tfid_matrix_corpus=tf_corpus.fit_transform(item_df['corpus'])"
   ]
  },
  {
   "cell_type": "markdown",
   "id": "2fae9766",
   "metadata": {},
   "source": [
    "### User Profile"
   ]
  },
  {
   "cell_type": "code",
   "execution_count": 16,
   "id": "2815eca7",
   "metadata": {},
   "outputs": [
    {
     "name": "stderr",
     "output_type": "stream",
     "text": [
      "/var/folders/nd/n16_t_0d3m3dr2cqfzym1czm0000gn/T/ipykernel_23769/3894469562.py:1: FutureWarning: Indexing with multiple keys (implicitly converted to a tuple of keys) will be deprecated, use a list instead.\n",
      "  user_group_df = df2.groupby('reviewerID', as_index=False)['category_str','brand','price'].agg(lambda row: list(row))\n"
     ]
    }
   ],
   "source": [
    "user_group_df = df2.groupby('reviewerID', as_index=False)['category_str', 'description','brand','price'].agg(lambda row: list(row))\n",
    "user_group_df['corpus'] = pd.Series(user_group_df[['category_str', 'description','brand','price']].fillna('').values.tolist()).apply(lambda row: ','.join(map(str,[sitem for item in row for sitem in item])))\n"
   ]
  },
  {
   "cell_type": "code",
   "execution_count": 17,
   "id": "cb9b4699",
   "metadata": {},
   "outputs": [
    {
     "data": {
      "text/html": [
       "<div>\n",
       "<style scoped>\n",
       "    .dataframe tbody tr th:only-of-type {\n",
       "        vertical-align: middle;\n",
       "    }\n",
       "\n",
       "    .dataframe tbody tr th {\n",
       "        vertical-align: top;\n",
       "    }\n",
       "\n",
       "    .dataframe thead th {\n",
       "        text-align: right;\n",
       "    }\n",
       "</style>\n",
       "<table border=\"1\" class=\"dataframe\">\n",
       "  <thead>\n",
       "    <tr style=\"text-align: right;\">\n",
       "      <th></th>\n",
       "      <th>reviewerID</th>\n",
       "      <th>category_str</th>\n",
       "      <th>description</th>\n",
       "      <th>brand</th>\n",
       "      <th>price</th>\n",
       "      <th>corpus</th>\n",
       "    </tr>\n",
       "  </thead>\n",
       "  <tbody>\n",
       "    <tr>\n",
       "      <th>0</th>\n",
       "      <td>A0219337RHNC3U3T12TP</td>\n",
       "      <td>[Electronics,Accessories and Supplies,Audio an...</td>\n",
       "      <td>[Premium 50 Foot High Speed HDMI Cable for you...</td>\n",
       "      <td>[A Days Tech]</td>\n",
       "      <td>[11.99]</td>\n",
       "      <td>Electronics,Accessories and Supplies,Audio and...</td>\n",
       "    </tr>\n",
       "  </tbody>\n",
       "</table>\n",
       "</div>"
      ],
      "text/plain": [
       "             reviewerID                                       category_str  \\\n",
       "0  A0219337RHNC3U3T12TP  [Electronics,Accessories and Supplies,Audio an...   \n",
       "\n",
       "                                         description          brand    price  \\\n",
       "0  [Premium 50 Foot High Speed HDMI Cable for you...  [A Days Tech]  [11.99]   \n",
       "\n",
       "                                              corpus  \n",
       "0  Electronics,Accessories and Supplies,Audio and...  "
      ]
     },
     "execution_count": 17,
     "metadata": {},
     "output_type": "execute_result"
    }
   ],
   "source": [
    "user_group_df.head(1)"
   ]
  },
  {
   "cell_type": "code",
   "execution_count": 18,
   "id": "a73664f5",
   "metadata": {},
   "outputs": [],
   "source": [
    "tfuid_matrix_corpus=tf_corpus.transform(user_group_df['corpus'])"
   ]
  },
  {
   "cell_type": "code",
   "execution_count": 19,
   "id": "555fbe14",
   "metadata": {},
   "outputs": [],
   "source": [
    "cosine_similarities_corpus=linear_kernel(tfuid_matrix_corpus,tfid_matrix_corpus)"
   ]
  },
  {
   "cell_type": "code",
   "execution_count": 20,
   "id": "0f4b1a4a",
   "metadata": {},
   "outputs": [
    {
     "data": {
      "text/plain": [
       "array([[0.18852634, 0.0083847 , 0.01193411, ..., 0.00853624, 0.08396877,\n",
       "        0.00866367],\n",
       "       [1.        , 0.00983016, 0.0145995 , ..., 0.01000783, 0.01916488,\n",
       "        0.01015722],\n",
       "       [0.2464739 , 0.01257064, 0.01789204, ..., 0.01279784, 0.07468798,\n",
       "        0.01298888],\n",
       "       ...,\n",
       "       [0.18852634, 0.0083847 , 0.01193411, ..., 0.00853624, 0.08396877,\n",
       "        0.00866367],\n",
       "       [0.02048877, 0.03670506, 0.10043684, ..., 0.06289292, 0.27123897,\n",
       "        0.06383177],\n",
       "       [0.02349154, 0.04208443, 0.11515654, ..., 0.07211029, 0.28337831,\n",
       "        0.07318675]])"
      ]
     },
     "execution_count": 20,
     "metadata": {},
     "output_type": "execute_result"
    }
   ],
   "source": [
    "cosine_similarities_corpus"
   ]
  },
  {
   "cell_type": "code",
   "execution_count": 21,
   "id": "af27c27b",
   "metadata": {},
   "outputs": [
    {
     "name": "stdout",
     "output_type": "stream",
     "text": [
      "Electronics,Accessories and Supplies,Audio and Video Accessories,Cables and Interconnects,Video Cables,HDMI Cables,Premium 50 Foot High Speed HDMI Cable for your Sony Bravia KDL-40EX400 HDTV ! Supports: 1080p-2160p, 4K, 3D, Deep Color, TrueHD, CL3, and 800Hz technologies.,A Days Tech,11.99\n",
      "\n",
      " [0.09895639 0.0918017  0.08625209 ... 0.03348263 0.04770469 0.09285144]\n",
      "\n",
      " Electronics,Accessories and Supplies,Audio and Video Accessories,TV Accessories and Parts,TV Ceiling and Wall Mounts,The videosecu TV mount is a mounting solution for most 22\"-47\" LCD LED Plasma TV and some LED up to 55\" with VESA 600x400mm (24\"x16\"), 400x400mm (16\"x16\"),600x300mm(24\"x12\"), 400x200mm (16\"x8\"),300x300mm (12\"x12\"),300x200mm(12\"x8\"),200x200mm (8\"x8\"),200x100mm (8\"x4\") mounting hole pattern .Heavy gauge steel construction provides safety loading up to 66lbs display .It can tilt 15 degree forward or backward and swivel 180 degree. The removable VESA plate can be taken off for easy installation. Post-installation level adjustment allows the TV to perfectly level. The on arm cable management ring system design, guides wires and prevent cable pinching. Standard hardware and user manual included. <br />Notice: This mount fits most 22-47\" TVs (VESA 200x200mm (8x8\")/200x100mm(8x4\")/100x100mm(4x4\") without extender, fits VESA 600x400(24x16\")/400x400mm(16x16\")/600x300mm(24x12\")/400x200mm(16x8\")/300x300mm(12x12\")/300x200mm(12x8\")with 4 plate extender), some up to 50 55 inch TVs manufactured in recent 3 years.,VideoSecu,34.99\n",
      "\n",
      " [0.04558398 0.04558398 0.04558398 ... 0.05812418 0.04799602 0.04261412]\n"
     ]
    }
   ],
   "source": [
    "print(user_group_df['corpus'][0])\n",
    "print('\\n', tfuid_matrix_corpus.data)\n",
    "print('\\n', item_df['corpus'][0])\n",
    "print('\\n', tfid_matrix_corpus.data)"
   ]
  },
  {
   "cell_type": "markdown",
   "id": "69b78ac1",
   "metadata": {},
   "source": [
    "### Get Recommendation"
   ]
  },
  {
   "cell_type": "markdown",
   "id": "3455394f",
   "metadata": {},
   "source": [
    "###### Sort the cosine similarities in descending order "
   ]
  },
  {
   "cell_type": "code",
   "execution_count": 22,
   "id": "316aae28",
   "metadata": {},
   "outputs": [
    {
     "data": {
      "text/plain": [
       "[(1.0000000000000002, 5170),\n",
       " (0.6855795580224974, 5777),\n",
       " (0.3116618658564585, 5705),\n",
       " (0.31075355144849126, 5814),\n",
       " (0.2574970469198158, 3506)]"
      ]
     },
     "execution_count": 22,
     "metadata": {},
     "output_type": "execute_result"
    }
   ],
   "source": [
    "#######computation for cosimilarity based on corpus#####\n",
    "consine_similarity_corpus_sorted=[]\n",
    "results_corpus = {}\n",
    "for idx, row in df2.iterrows():\n",
    "    if idx < len(cosine_similarities_corpus):\n",
    "        similar_indices = cosine_similarities_corpus[idx].argsort()[::-1][:5]\n",
    "        x = []\n",
    "        for i in similar_indices:\n",
    "            x.append((cosine_similarities_corpus[idx][i], item_df.index[i]))\n",
    "        consine_similarity_corpus_sorted = x\n",
    "        results_corpus[row['reviewerID']] = consine_similarity_corpus_sorted\n",
    "results_corpus['A1EJKPTGO474WN']\n"
   ]
  },
  {
   "cell_type": "code",
   "execution_count": 23,
   "id": "d58594a0",
   "metadata": {},
   "outputs": [],
   "source": [
    "def item_id_match(id):\n",
    "    return df2.loc[df2.index == id]['title'].tolist()[0]\n",
    "\n",
    "# Just reads the results out of the dictionary.def\n",
    "def recommend(res, user, num):\n",
    "    print(\"Recommending \" + str(num) + \" products for user \" + user)\n",
    "    recs = res[user][:num]\n",
    "    print(\"With Score\")\n",
    "    for rec in recs:\n",
    "        print(rec[0])\n",
    "    indexes = [rec[1] for rec in recs]\n",
    "    return df2.iloc[indexes]"
   ]
  },
  {
   "cell_type": "code",
   "execution_count": 24,
   "id": "6d94ac35",
   "metadata": {
    "scrolled": true
   },
   "outputs": [
    {
     "data": {
      "text/html": [
       "<div>\n",
       "<style scoped>\n",
       "    .dataframe tbody tr th:only-of-type {\n",
       "        vertical-align: middle;\n",
       "    }\n",
       "\n",
       "    .dataframe tbody tr th {\n",
       "        vertical-align: top;\n",
       "    }\n",
       "\n",
       "    .dataframe thead th {\n",
       "        text-align: right;\n",
       "    }\n",
       "</style>\n",
       "<table border=\"1\" class=\"dataframe\">\n",
       "  <thead>\n",
       "    <tr style=\"text-align: right;\">\n",
       "      <th></th>\n",
       "      <th>title</th>\n",
       "      <th>category_str</th>\n",
       "      <th>description</th>\n",
       "      <th>asin</th>\n",
       "      <th>brand</th>\n",
       "      <th>price</th>\n",
       "    </tr>\n",
       "  </thead>\n",
       "  <tbody>\n",
       "    <tr>\n",
       "      <th>7799</th>\n",
       "      <td>Belkin Pro Series USB Device Cable 16 Feet</td>\n",
       "      <td>Electronics,Computers and Accessories,Computer...</td>\n",
       "      <td>The Hi-Speed USB 2.0 cable helps you achieve m...</td>\n",
       "      <td>B00004Z5PY</td>\n",
       "      <td>Belkin</td>\n",
       "      <td>10.79</td>\n",
       "    </tr>\n",
       "    <tr>\n",
       "      <th>9995</th>\n",
       "      <td>Antec Cyclone Blower, Expansion Slot Cooling Fan</td>\n",
       "      <td>Electronics,Computers and Accessories,Computer...</td>\n",
       "      <td>Cyclone blower - exhaust fan.</td>\n",
       "      <td>B000051299</td>\n",
       "      <td>Antec</td>\n",
       "      <td>9.38</td>\n",
       "    </tr>\n",
       "  </tbody>\n",
       "</table>\n",
       "</div>"
      ],
      "text/plain": [
       "                                                 title  \\\n",
       "7799        Belkin Pro Series USB Device Cable 16 Feet   \n",
       "9995  Antec Cyclone Blower, Expansion Slot Cooling Fan   \n",
       "\n",
       "                                           category_str  \\\n",
       "7799  Electronics,Computers and Accessories,Computer...   \n",
       "9995  Electronics,Computers and Accessories,Computer...   \n",
       "\n",
       "                                            description        asin   brand  \\\n",
       "7799  The Hi-Speed USB 2.0 cable helps you achieve m...  B00004Z5PY  Belkin   \n",
       "9995                      Cyclone blower - exhaust fan.  B000051299   Antec   \n",
       "\n",
       "      price  \n",
       "7799  10.79  \n",
       "9995   9.38  "
      ]
     },
     "execution_count": 24,
     "metadata": {},
     "output_type": "execute_result"
    }
   ],
   "source": [
    "df2[df2['reviewerID']=='A2OOXVZ6B1VZ9A'][['title', 'category_str', 'description', 'asin', 'brand', 'price']]"
   ]
  },
  {
   "cell_type": "code",
   "execution_count": 25,
   "id": "dc83bf69",
   "metadata": {},
   "outputs": [
    {
     "name": "stdout",
     "output_type": "stream",
     "text": [
      "Recommending 5 products for user A2OOXVZ6B1VZ9A\n",
      "With Score\n",
      "0.9999999999999999\n",
      "0.8254093943680548\n",
      "0.5799295978608917\n",
      "0.36249459879486007\n",
      "0.31615803729838554\n"
     ]
    },
    {
     "data": {
      "text/html": [
       "<div>\n",
       "<style scoped>\n",
       "    .dataframe tbody tr th:only-of-type {\n",
       "        vertical-align: middle;\n",
       "    }\n",
       "\n",
       "    .dataframe tbody tr th {\n",
       "        vertical-align: top;\n",
       "    }\n",
       "\n",
       "    .dataframe thead th {\n",
       "        text-align: right;\n",
       "    }\n",
       "</style>\n",
       "<table border=\"1\" class=\"dataframe\">\n",
       "  <thead>\n",
       "    <tr style=\"text-align: right;\">\n",
       "      <th></th>\n",
       "      <th>title</th>\n",
       "      <th>category_str</th>\n",
       "      <th>description</th>\n",
       "      <th>asin</th>\n",
       "      <th>brand</th>\n",
       "      <th>price</th>\n",
       "    </tr>\n",
       "  </thead>\n",
       "  <tbody>\n",
       "    <tr>\n",
       "      <th>9011</th>\n",
       "      <td>StarTech.com Expansion Slot Rear Exhaust Cooli...</td>\n",
       "      <td>Electronics,Computers and Accessories,Computer...</td>\n",
       "      <td>This high quality PCI Fan is an add-in cooling...</td>\n",
       "      <td>B0000510SS</td>\n",
       "      <td>StarTech</td>\n",
       "      <td>10.32</td>\n",
       "    </tr>\n",
       "    <tr>\n",
       "      <th>8850</th>\n",
       "      <td>StarTech.com 80x25mm Dual Ball Bearing Compute...</td>\n",
       "      <td>Electronics,Computers and Accessories,Computer...</td>\n",
       "      <td>This versatile PC case fan measures 8cm x 8cm ...</td>\n",
       "      <td>B000050ZTQ</td>\n",
       "      <td>StarTech</td>\n",
       "      <td>8.81</td>\n",
       "    </tr>\n",
       "    <tr>\n",
       "      <th>9767</th>\n",
       "      <td>Antec Cyclone Blower, Expansion Slot Cooling Fan</td>\n",
       "      <td>Electronics,Computers and Accessories,Computer...</td>\n",
       "      <td>Cyclone blower - exhaust fan.</td>\n",
       "      <td>B000051299</td>\n",
       "      <td>Antec</td>\n",
       "      <td>9.38</td>\n",
       "    </tr>\n",
       "    <tr>\n",
       "      <th>9601</th>\n",
       "      <td>Startech 10/100Mbps PCI Fast Enet Network Card</td>\n",
       "      <td>Electronics,Computers and Accessories,Computer...</td>\n",
       "      <td>This 1 Port PCI Fast Ethernet Network Adapter ...</td>\n",
       "      <td>B00005125T</td>\n",
       "      <td>StarTech</td>\n",
       "      <td>9.06</td>\n",
       "    </tr>\n",
       "    <tr>\n",
       "      <th>4880</th>\n",
       "      <td>D-Link DFE-530TX+ 10/100 Fast Ethernet Desktop...</td>\n",
       "      <td>Electronics,Computers and Accessories,Computer...</td>\n",
       "      <td>D-Link DFE-530TX+ 10/100 Fast Ethernet Desktop...</td>\n",
       "      <td>B00004SYNX</td>\n",
       "      <td>D-Link</td>\n",
       "      <td>12.99</td>\n",
       "    </tr>\n",
       "  </tbody>\n",
       "</table>\n",
       "</div>"
      ],
      "text/plain": [
       "                                                  title  \\\n",
       "9011  StarTech.com Expansion Slot Rear Exhaust Cooli...   \n",
       "8850  StarTech.com 80x25mm Dual Ball Bearing Compute...   \n",
       "9767   Antec Cyclone Blower, Expansion Slot Cooling Fan   \n",
       "9601     Startech 10/100Mbps PCI Fast Enet Network Card   \n",
       "4880  D-Link DFE-530TX+ 10/100 Fast Ethernet Desktop...   \n",
       "\n",
       "                                           category_str  \\\n",
       "9011  Electronics,Computers and Accessories,Computer...   \n",
       "8850  Electronics,Computers and Accessories,Computer...   \n",
       "9767  Electronics,Computers and Accessories,Computer...   \n",
       "9601  Electronics,Computers and Accessories,Computer...   \n",
       "4880  Electronics,Computers and Accessories,Computer...   \n",
       "\n",
       "                                            description        asin     brand  \\\n",
       "9011  This high quality PCI Fan is an add-in cooling...  B0000510SS  StarTech   \n",
       "8850  This versatile PC case fan measures 8cm x 8cm ...  B000050ZTQ  StarTech   \n",
       "9767                      Cyclone blower - exhaust fan.  B000051299     Antec   \n",
       "9601  This 1 Port PCI Fast Ethernet Network Adapter ...  B00005125T  StarTech   \n",
       "4880  D-Link DFE-530TX+ 10/100 Fast Ethernet Desktop...  B00004SYNX    D-Link   \n",
       "\n",
       "      price  \n",
       "9011  10.32  \n",
       "8850   8.81  \n",
       "9767   9.38  \n",
       "9601   9.06  \n",
       "4880  12.99  "
      ]
     },
     "execution_count": 25,
     "metadata": {},
     "output_type": "execute_result"
    }
   ],
   "source": [
    "recommend(results_corpus, user='A2OOXVZ6B1VZ9A', num=5)[['title', 'category_str', 'description', 'asin', 'brand', 'price']]\n"
   ]
  },
  {
   "cell_type": "markdown",
   "id": "f56babe0",
   "metadata": {},
   "source": [
    "## Evaluation\n"
   ]
  },
  {
   "cell_type": "markdown",
   "id": "b3d47ee6",
   "metadata": {},
   "source": [
    "##### normalise similarity score between 1 and 5"
   ]
  },
  {
   "cell_type": "code",
   "execution_count": 26,
   "id": "0d684092",
   "metadata": {
    "scrolled": false
   },
   "outputs": [
    {
     "data": {
      "text/html": [
       "<div>\n",
       "<style scoped>\n",
       "    .dataframe tbody tr th:only-of-type {\n",
       "        vertical-align: middle;\n",
       "    }\n",
       "\n",
       "    .dataframe tbody tr th {\n",
       "        vertical-align: top;\n",
       "    }\n",
       "\n",
       "    .dataframe thead th {\n",
       "        text-align: right;\n",
       "    }\n",
       "</style>\n",
       "<table border=\"1\" class=\"dataframe\">\n",
       "  <thead>\n",
       "    <tr style=\"text-align: right;\">\n",
       "      <th></th>\n",
       "      <th>0</th>\n",
       "      <th>1</th>\n",
       "      <th>2</th>\n",
       "      <th>3</th>\n",
       "      <th>4</th>\n",
       "      <th>5</th>\n",
       "      <th>6</th>\n",
       "      <th>7</th>\n",
       "      <th>8</th>\n",
       "      <th>9</th>\n",
       "      <th>...</th>\n",
       "      <th>48</th>\n",
       "      <th>49</th>\n",
       "      <th>50</th>\n",
       "      <th>51</th>\n",
       "      <th>52</th>\n",
       "      <th>53</th>\n",
       "      <th>54</th>\n",
       "      <th>55</th>\n",
       "      <th>56</th>\n",
       "      <th>57</th>\n",
       "    </tr>\n",
       "  </thead>\n",
       "  <tbody>\n",
       "    <tr>\n",
       "      <th>0</th>\n",
       "      <td>1.726949</td>\n",
       "      <td>1.022184</td>\n",
       "      <td>1.038364</td>\n",
       "      <td>5.000000</td>\n",
       "      <td>4.194864</td>\n",
       "      <td>1.489664</td>\n",
       "      <td>1.351710</td>\n",
       "      <td>1.053380</td>\n",
       "      <td>1.397990</td>\n",
       "      <td>1.403085</td>\n",
       "      <td>...</td>\n",
       "      <td>1.019845</td>\n",
       "      <td>1.456339</td>\n",
       "      <td>1.018716</td>\n",
       "      <td>1.988421</td>\n",
       "      <td>1.340096</td>\n",
       "      <td>1.321725</td>\n",
       "      <td>1.212206</td>\n",
       "      <td>1.022586</td>\n",
       "      <td>1.324460</td>\n",
       "      <td>1.022924</td>\n",
       "    </tr>\n",
       "    <tr>\n",
       "      <th>1</th>\n",
       "      <td>5.000000</td>\n",
       "      <td>1.027982</td>\n",
       "      <td>1.049050</td>\n",
       "      <td>1.730970</td>\n",
       "      <td>1.665415</td>\n",
       "      <td>1.434452</td>\n",
       "      <td>1.325914</td>\n",
       "      <td>1.068250</td>\n",
       "      <td>1.079040</td>\n",
       "      <td>1.367854</td>\n",
       "      <td>...</td>\n",
       "      <td>1.025032</td>\n",
       "      <td>1.068826</td>\n",
       "      <td>1.023608</td>\n",
       "      <td>1.823341</td>\n",
       "      <td>1.067542</td>\n",
       "      <td>1.063894</td>\n",
       "      <td>1.189867</td>\n",
       "      <td>1.028490</td>\n",
       "      <td>1.064437</td>\n",
       "      <td>1.028916</td>\n",
       "    </tr>\n",
       "    <tr>\n",
       "      <th>2</th>\n",
       "      <td>1.960678</td>\n",
       "      <td>1.038976</td>\n",
       "      <td>1.062252</td>\n",
       "      <td>2.776420</td>\n",
       "      <td>2.764572</td>\n",
       "      <td>1.569123</td>\n",
       "      <td>1.533954</td>\n",
       "      <td>1.161392</td>\n",
       "      <td>1.438905</td>\n",
       "      <td>1.476952</td>\n",
       "      <td>...</td>\n",
       "      <td>1.034866</td>\n",
       "      <td>1.361647</td>\n",
       "      <td>1.032882</td>\n",
       "      <td>2.418871</td>\n",
       "      <td>1.301062</td>\n",
       "      <td>1.284800</td>\n",
       "      <td>1.322513</td>\n",
       "      <td>1.039682</td>\n",
       "      <td>1.287221</td>\n",
       "      <td>1.040276</td>\n",
       "    </tr>\n",
       "    <tr>\n",
       "      <th>3</th>\n",
       "      <td>1.056517</td>\n",
       "      <td>1.148872</td>\n",
       "      <td>1.428993</td>\n",
       "      <td>1.485370</td>\n",
       "      <td>1.482133</td>\n",
       "      <td>1.054180</td>\n",
       "      <td>1.089971</td>\n",
       "      <td>1.715577</td>\n",
       "      <td>2.636446</td>\n",
       "      <td>1.080366</td>\n",
       "      <td>...</td>\n",
       "      <td>1.231136</td>\n",
       "      <td>2.421031</td>\n",
       "      <td>1.217985</td>\n",
       "      <td>1.058401</td>\n",
       "      <td>2.229077</td>\n",
       "      <td>2.162687</td>\n",
       "      <td>1.030703</td>\n",
       "      <td>1.263063</td>\n",
       "      <td>2.172570</td>\n",
       "      <td>1.267002</td>\n",
       "    </tr>\n",
       "    <tr>\n",
       "      <th>4</th>\n",
       "      <td>1.165465</td>\n",
       "      <td>1.161966</td>\n",
       "      <td>1.464807</td>\n",
       "      <td>1.515012</td>\n",
       "      <td>1.394768</td>\n",
       "      <td>1.251215</td>\n",
       "      <td>1.098409</td>\n",
       "      <td>1.775101</td>\n",
       "      <td>3.893356</td>\n",
       "      <td>1.235612</td>\n",
       "      <td>...</td>\n",
       "      <td>1.250851</td>\n",
       "      <td>3.256188</td>\n",
       "      <td>1.236579</td>\n",
       "      <td>1.066196</td>\n",
       "      <td>2.211235</td>\n",
       "      <td>2.145809</td>\n",
       "      <td>1.033925</td>\n",
       "      <td>1.285502</td>\n",
       "      <td>2.155548</td>\n",
       "      <td>1.289776</td>\n",
       "    </tr>\n",
       "    <tr>\n",
       "      <th>5</th>\n",
       "      <td>1.061286</td>\n",
       "      <td>1.157369</td>\n",
       "      <td>1.452232</td>\n",
       "      <td>1.386127</td>\n",
       "      <td>1.383551</td>\n",
       "      <td>1.057869</td>\n",
       "      <td>1.095446</td>\n",
       "      <td>1.754202</td>\n",
       "      <td>5.000000</td>\n",
       "      <td>1.085257</td>\n",
       "      <td>...</td>\n",
       "      <td>1.243929</td>\n",
       "      <td>3.196021</td>\n",
       "      <td>1.230051</td>\n",
       "      <td>1.063459</td>\n",
       "      <td>2.178777</td>\n",
       "      <td>2.115105</td>\n",
       "      <td>1.032793</td>\n",
       "      <td>1.277623</td>\n",
       "      <td>2.124583</td>\n",
       "      <td>1.281780</td>\n",
       "    </tr>\n",
       "    <tr>\n",
       "      <th>6</th>\n",
       "      <td>1.165465</td>\n",
       "      <td>1.161966</td>\n",
       "      <td>1.464807</td>\n",
       "      <td>1.515012</td>\n",
       "      <td>1.394768</td>\n",
       "      <td>1.251215</td>\n",
       "      <td>1.098409</td>\n",
       "      <td>1.775101</td>\n",
       "      <td>3.893356</td>\n",
       "      <td>1.235612</td>\n",
       "      <td>...</td>\n",
       "      <td>1.250851</td>\n",
       "      <td>3.256188</td>\n",
       "      <td>1.236579</td>\n",
       "      <td>1.066196</td>\n",
       "      <td>2.211235</td>\n",
       "      <td>2.145809</td>\n",
       "      <td>1.033925</td>\n",
       "      <td>1.285502</td>\n",
       "      <td>2.155548</td>\n",
       "      <td>1.289776</td>\n",
       "    </tr>\n",
       "    <tr>\n",
       "      <th>7</th>\n",
       "      <td>5.000000</td>\n",
       "      <td>1.027982</td>\n",
       "      <td>1.049050</td>\n",
       "      <td>1.730970</td>\n",
       "      <td>1.665415</td>\n",
       "      <td>1.434452</td>\n",
       "      <td>1.325914</td>\n",
       "      <td>1.068250</td>\n",
       "      <td>1.079040</td>\n",
       "      <td>1.367854</td>\n",
       "      <td>...</td>\n",
       "      <td>1.025032</td>\n",
       "      <td>1.068826</td>\n",
       "      <td>1.023608</td>\n",
       "      <td>1.823341</td>\n",
       "      <td>1.067542</td>\n",
       "      <td>1.063894</td>\n",
       "      <td>1.189867</td>\n",
       "      <td>1.028490</td>\n",
       "      <td>1.064437</td>\n",
       "      <td>1.028916</td>\n",
       "    </tr>\n",
       "    <tr>\n",
       "      <th>8</th>\n",
       "      <td>1.165465</td>\n",
       "      <td>1.161966</td>\n",
       "      <td>1.464807</td>\n",
       "      <td>1.515012</td>\n",
       "      <td>1.394768</td>\n",
       "      <td>1.251215</td>\n",
       "      <td>1.098409</td>\n",
       "      <td>1.775101</td>\n",
       "      <td>3.893356</td>\n",
       "      <td>1.235612</td>\n",
       "      <td>...</td>\n",
       "      <td>1.250851</td>\n",
       "      <td>3.256188</td>\n",
       "      <td>1.236579</td>\n",
       "      <td>1.066196</td>\n",
       "      <td>2.211235</td>\n",
       "      <td>2.145809</td>\n",
       "      <td>1.033925</td>\n",
       "      <td>1.285502</td>\n",
       "      <td>2.155548</td>\n",
       "      <td>1.289776</td>\n",
       "    </tr>\n",
       "    <tr>\n",
       "      <th>9</th>\n",
       "      <td>1.960678</td>\n",
       "      <td>1.038976</td>\n",
       "      <td>1.062252</td>\n",
       "      <td>2.776420</td>\n",
       "      <td>2.764572</td>\n",
       "      <td>1.569123</td>\n",
       "      <td>1.533954</td>\n",
       "      <td>1.161392</td>\n",
       "      <td>1.438905</td>\n",
       "      <td>1.476952</td>\n",
       "      <td>...</td>\n",
       "      <td>1.034866</td>\n",
       "      <td>1.361647</td>\n",
       "      <td>1.032882</td>\n",
       "      <td>2.418871</td>\n",
       "      <td>1.301062</td>\n",
       "      <td>1.284800</td>\n",
       "      <td>1.322513</td>\n",
       "      <td>1.039682</td>\n",
       "      <td>1.287221</td>\n",
       "      <td>1.040276</td>\n",
       "    </tr>\n",
       "  </tbody>\n",
       "</table>\n",
       "<p>10 rows × 58 columns</p>\n",
       "</div>"
      ],
      "text/plain": [
       "         0         1         2         3         4         5         6   \\\n",
       "0  1.726949  1.022184  1.038364  5.000000  4.194864  1.489664  1.351710   \n",
       "1  5.000000  1.027982  1.049050  1.730970  1.665415  1.434452  1.325914   \n",
       "2  1.960678  1.038976  1.062252  2.776420  2.764572  1.569123  1.533954   \n",
       "3  1.056517  1.148872  1.428993  1.485370  1.482133  1.054180  1.089971   \n",
       "4  1.165465  1.161966  1.464807  1.515012  1.394768  1.251215  1.098409   \n",
       "5  1.061286  1.157369  1.452232  1.386127  1.383551  1.057869  1.095446   \n",
       "6  1.165465  1.161966  1.464807  1.515012  1.394768  1.251215  1.098409   \n",
       "7  5.000000  1.027982  1.049050  1.730970  1.665415  1.434452  1.325914   \n",
       "8  1.165465  1.161966  1.464807  1.515012  1.394768  1.251215  1.098409   \n",
       "9  1.960678  1.038976  1.062252  2.776420  2.764572  1.569123  1.533954   \n",
       "\n",
       "         7         8         9   ...        48        49        50        51  \\\n",
       "0  1.053380  1.397990  1.403085  ...  1.019845  1.456339  1.018716  1.988421   \n",
       "1  1.068250  1.079040  1.367854  ...  1.025032  1.068826  1.023608  1.823341   \n",
       "2  1.161392  1.438905  1.476952  ...  1.034866  1.361647  1.032882  2.418871   \n",
       "3  1.715577  2.636446  1.080366  ...  1.231136  2.421031  1.217985  1.058401   \n",
       "4  1.775101  3.893356  1.235612  ...  1.250851  3.256188  1.236579  1.066196   \n",
       "5  1.754202  5.000000  1.085257  ...  1.243929  3.196021  1.230051  1.063459   \n",
       "6  1.775101  3.893356  1.235612  ...  1.250851  3.256188  1.236579  1.066196   \n",
       "7  1.068250  1.079040  1.367854  ...  1.025032  1.068826  1.023608  1.823341   \n",
       "8  1.775101  3.893356  1.235612  ...  1.250851  3.256188  1.236579  1.066196   \n",
       "9  1.161392  1.438905  1.476952  ...  1.034866  1.361647  1.032882  2.418871   \n",
       "\n",
       "         52        53        54        55        56        57  \n",
       "0  1.340096  1.321725  1.212206  1.022586  1.324460  1.022924  \n",
       "1  1.067542  1.063894  1.189867  1.028490  1.064437  1.028916  \n",
       "2  1.301062  1.284800  1.322513  1.039682  1.287221  1.040276  \n",
       "3  2.229077  2.162687  1.030703  1.263063  2.172570  1.267002  \n",
       "4  2.211235  2.145809  1.033925  1.285502  2.155548  1.289776  \n",
       "5  2.178777  2.115105  1.032793  1.277623  2.124583  1.281780  \n",
       "6  2.211235  2.145809  1.033925  1.285502  2.155548  1.289776  \n",
       "7  1.067542  1.063894  1.189867  1.028490  1.064437  1.028916  \n",
       "8  2.211235  2.145809  1.033925  1.285502  2.155548  1.289776  \n",
       "9  1.301062  1.284800  1.322513  1.039682  1.287221  1.040276  \n",
       "\n",
       "[10 rows x 58 columns]"
      ]
     },
     "execution_count": 26,
     "metadata": {},
     "output_type": "execute_result"
    }
   ],
   "source": [
    "min_max_scalar = MinMaxScaler(feature_range=(1, 5))\n",
    "min_max_scalar.fit(cosine_similarities_corpus)\n",
    "rating_pred_matrix = min_max_scalar.transform(cosine_similarities_corpus)\n",
    "rating_pred_df = pd.DataFrame(rating_pred_matrix)\n",
    "rating_pred_df.head(10)"
   ]
  },
  {
   "cell_type": "code",
   "execution_count": 27,
   "id": "3aa89309",
   "metadata": {},
   "outputs": [
    {
     "data": {
      "text/html": [
       "<div>\n",
       "<style scoped>\n",
       "    .dataframe tbody tr th:only-of-type {\n",
       "        vertical-align: middle;\n",
       "    }\n",
       "\n",
       "    .dataframe tbody tr th {\n",
       "        vertical-align: top;\n",
       "    }\n",
       "\n",
       "    .dataframe thead th {\n",
       "        text-align: right;\n",
       "    }\n",
       "</style>\n",
       "<table border=\"1\" class=\"dataframe\">\n",
       "  <thead>\n",
       "    <tr style=\"text-align: right;\">\n",
       "      <th>asin</th>\n",
       "      <th>0972683275</th>\n",
       "      <th>980035977X</th>\n",
       "      <th>9876035371</th>\n",
       "      <th>998504780X</th>\n",
       "      <th>9985609034</th>\n",
       "      <th>B00000J0AR</th>\n",
       "      <th>B00000J0D2</th>\n",
       "      <th>B00000J0QI</th>\n",
       "      <th>B00000J1U5</th>\n",
       "      <th>B00000J1U8</th>\n",
       "      <th>...</th>\n",
       "      <th>B00005111M</th>\n",
       "      <th>B00005115S</th>\n",
       "      <th>B000051189</th>\n",
       "      <th>B00005118F</th>\n",
       "      <th>B0000511D7</th>\n",
       "      <th>B0000511E5</th>\n",
       "      <th>B0000511NM</th>\n",
       "      <th>B0000511TN</th>\n",
       "      <th>B00005125T</th>\n",
       "      <th>B000051299</th>\n",
       "    </tr>\n",
       "    <tr>\n",
       "      <th>reviewerID</th>\n",
       "      <th></th>\n",
       "      <th></th>\n",
       "      <th></th>\n",
       "      <th></th>\n",
       "      <th></th>\n",
       "      <th></th>\n",
       "      <th></th>\n",
       "      <th></th>\n",
       "      <th></th>\n",
       "      <th></th>\n",
       "      <th></th>\n",
       "      <th></th>\n",
       "      <th></th>\n",
       "      <th></th>\n",
       "      <th></th>\n",
       "      <th></th>\n",
       "      <th></th>\n",
       "      <th></th>\n",
       "      <th></th>\n",
       "      <th></th>\n",
       "      <th></th>\n",
       "    </tr>\n",
       "  </thead>\n",
       "  <tbody>\n",
       "    <tr>\n",
       "      <th>A0219337RHNC3U3T12TP</th>\n",
       "      <td>0.0</td>\n",
       "      <td>0.0</td>\n",
       "      <td>0.0</td>\n",
       "      <td>0.0</td>\n",
       "      <td>5.0</td>\n",
       "      <td>0.0</td>\n",
       "      <td>0.0</td>\n",
       "      <td>0.0</td>\n",
       "      <td>0.0</td>\n",
       "      <td>0.0</td>\n",
       "      <td>...</td>\n",
       "      <td>0.0</td>\n",
       "      <td>0.0</td>\n",
       "      <td>0.0</td>\n",
       "      <td>0.0</td>\n",
       "      <td>0.0</td>\n",
       "      <td>0.0</td>\n",
       "      <td>0.0</td>\n",
       "      <td>0.0</td>\n",
       "      <td>0.0</td>\n",
       "      <td>0.0</td>\n",
       "    </tr>\n",
       "    <tr>\n",
       "      <th>A0293130VTX2ZXA70JQS</th>\n",
       "      <td>5.0</td>\n",
       "      <td>0.0</td>\n",
       "      <td>0.0</td>\n",
       "      <td>0.0</td>\n",
       "      <td>0.0</td>\n",
       "      <td>0.0</td>\n",
       "      <td>0.0</td>\n",
       "      <td>0.0</td>\n",
       "      <td>0.0</td>\n",
       "      <td>0.0</td>\n",
       "      <td>...</td>\n",
       "      <td>0.0</td>\n",
       "      <td>0.0</td>\n",
       "      <td>0.0</td>\n",
       "      <td>0.0</td>\n",
       "      <td>0.0</td>\n",
       "      <td>0.0</td>\n",
       "      <td>0.0</td>\n",
       "      <td>0.0</td>\n",
       "      <td>0.0</td>\n",
       "      <td>0.0</td>\n",
       "    </tr>\n",
       "    <tr>\n",
       "      <th>A0380485C177Q6QQNJIX</th>\n",
       "      <td>0.0</td>\n",
       "      <td>0.0</td>\n",
       "      <td>0.0</td>\n",
       "      <td>0.0</td>\n",
       "      <td>0.0</td>\n",
       "      <td>0.0</td>\n",
       "      <td>0.0</td>\n",
       "      <td>0.0</td>\n",
       "      <td>0.0</td>\n",
       "      <td>0.0</td>\n",
       "      <td>...</td>\n",
       "      <td>0.0</td>\n",
       "      <td>0.0</td>\n",
       "      <td>0.0</td>\n",
       "      <td>0.0</td>\n",
       "      <td>0.0</td>\n",
       "      <td>0.0</td>\n",
       "      <td>0.0</td>\n",
       "      <td>0.0</td>\n",
       "      <td>0.0</td>\n",
       "      <td>0.0</td>\n",
       "    </tr>\n",
       "    <tr>\n",
       "      <th>A100LQ882JSFB5</th>\n",
       "      <td>0.0</td>\n",
       "      <td>0.0</td>\n",
       "      <td>0.0</td>\n",
       "      <td>0.0</td>\n",
       "      <td>0.0</td>\n",
       "      <td>0.0</td>\n",
       "      <td>0.0</td>\n",
       "      <td>0.0</td>\n",
       "      <td>0.0</td>\n",
       "      <td>0.0</td>\n",
       "      <td>...</td>\n",
       "      <td>0.0</td>\n",
       "      <td>0.0</td>\n",
       "      <td>0.0</td>\n",
       "      <td>0.0</td>\n",
       "      <td>0.0</td>\n",
       "      <td>0.0</td>\n",
       "      <td>0.0</td>\n",
       "      <td>0.0</td>\n",
       "      <td>0.0</td>\n",
       "      <td>0.0</td>\n",
       "    </tr>\n",
       "    <tr>\n",
       "      <th>A100UD67AHFODS</th>\n",
       "      <td>0.0</td>\n",
       "      <td>0.0</td>\n",
       "      <td>0.0</td>\n",
       "      <td>0.0</td>\n",
       "      <td>0.0</td>\n",
       "      <td>0.0</td>\n",
       "      <td>0.0</td>\n",
       "      <td>0.0</td>\n",
       "      <td>0.0</td>\n",
       "      <td>0.0</td>\n",
       "      <td>...</td>\n",
       "      <td>0.0</td>\n",
       "      <td>0.0</td>\n",
       "      <td>0.0</td>\n",
       "      <td>0.0</td>\n",
       "      <td>0.0</td>\n",
       "      <td>0.0</td>\n",
       "      <td>0.0</td>\n",
       "      <td>0.0</td>\n",
       "      <td>0.0</td>\n",
       "      <td>0.0</td>\n",
       "    </tr>\n",
       "    <tr>\n",
       "      <th>A101OU5ZZAA1NG</th>\n",
       "      <td>0.0</td>\n",
       "      <td>0.0</td>\n",
       "      <td>0.0</td>\n",
       "      <td>0.0</td>\n",
       "      <td>0.0</td>\n",
       "      <td>0.0</td>\n",
       "      <td>0.0</td>\n",
       "      <td>0.0</td>\n",
       "      <td>0.0</td>\n",
       "      <td>5.0</td>\n",
       "      <td>...</td>\n",
       "      <td>0.0</td>\n",
       "      <td>0.0</td>\n",
       "      <td>0.0</td>\n",
       "      <td>0.0</td>\n",
       "      <td>0.0</td>\n",
       "      <td>0.0</td>\n",
       "      <td>0.0</td>\n",
       "      <td>0.0</td>\n",
       "      <td>0.0</td>\n",
       "      <td>0.0</td>\n",
       "    </tr>\n",
       "    <tr>\n",
       "      <th>A102HWC7IQSJE4</th>\n",
       "      <td>0.0</td>\n",
       "      <td>0.0</td>\n",
       "      <td>0.0</td>\n",
       "      <td>0.0</td>\n",
       "      <td>0.0</td>\n",
       "      <td>0.0</td>\n",
       "      <td>0.0</td>\n",
       "      <td>0.0</td>\n",
       "      <td>0.0</td>\n",
       "      <td>0.0</td>\n",
       "      <td>...</td>\n",
       "      <td>0.0</td>\n",
       "      <td>0.0</td>\n",
       "      <td>0.0</td>\n",
       "      <td>0.0</td>\n",
       "      <td>0.0</td>\n",
       "      <td>0.0</td>\n",
       "      <td>0.0</td>\n",
       "      <td>0.0</td>\n",
       "      <td>0.0</td>\n",
       "      <td>0.0</td>\n",
       "    </tr>\n",
       "    <tr>\n",
       "      <th>A1038957GWRBP375RU5T</th>\n",
       "      <td>5.0</td>\n",
       "      <td>0.0</td>\n",
       "      <td>0.0</td>\n",
       "      <td>0.0</td>\n",
       "      <td>0.0</td>\n",
       "      <td>0.0</td>\n",
       "      <td>0.0</td>\n",
       "      <td>0.0</td>\n",
       "      <td>0.0</td>\n",
       "      <td>0.0</td>\n",
       "      <td>...</td>\n",
       "      <td>0.0</td>\n",
       "      <td>0.0</td>\n",
       "      <td>0.0</td>\n",
       "      <td>0.0</td>\n",
       "      <td>0.0</td>\n",
       "      <td>0.0</td>\n",
       "      <td>0.0</td>\n",
       "      <td>0.0</td>\n",
       "      <td>0.0</td>\n",
       "      <td>0.0</td>\n",
       "    </tr>\n",
       "    <tr>\n",
       "      <th>A103GU73JTD8LS</th>\n",
       "      <td>0.0</td>\n",
       "      <td>0.0</td>\n",
       "      <td>0.0</td>\n",
       "      <td>0.0</td>\n",
       "      <td>0.0</td>\n",
       "      <td>0.0</td>\n",
       "      <td>0.0</td>\n",
       "      <td>0.0</td>\n",
       "      <td>0.0</td>\n",
       "      <td>0.0</td>\n",
       "      <td>...</td>\n",
       "      <td>0.0</td>\n",
       "      <td>0.0</td>\n",
       "      <td>0.0</td>\n",
       "      <td>0.0</td>\n",
       "      <td>0.0</td>\n",
       "      <td>0.0</td>\n",
       "      <td>0.0</td>\n",
       "      <td>0.0</td>\n",
       "      <td>0.0</td>\n",
       "      <td>0.0</td>\n",
       "    </tr>\n",
       "    <tr>\n",
       "      <th>A1049YR5LL0YN9</th>\n",
       "      <td>0.0</td>\n",
       "      <td>0.0</td>\n",
       "      <td>0.0</td>\n",
       "      <td>0.0</td>\n",
       "      <td>0.0</td>\n",
       "      <td>0.0</td>\n",
       "      <td>0.0</td>\n",
       "      <td>0.0</td>\n",
       "      <td>0.0</td>\n",
       "      <td>0.0</td>\n",
       "      <td>...</td>\n",
       "      <td>0.0</td>\n",
       "      <td>0.0</td>\n",
       "      <td>0.0</td>\n",
       "      <td>0.0</td>\n",
       "      <td>0.0</td>\n",
       "      <td>0.0</td>\n",
       "      <td>0.0</td>\n",
       "      <td>0.0</td>\n",
       "      <td>0.0</td>\n",
       "      <td>0.0</td>\n",
       "    </tr>\n",
       "  </tbody>\n",
       "</table>\n",
       "<p>10 rows × 58 columns</p>\n",
       "</div>"
      ],
      "text/plain": [
       "asin                  0972683275  980035977X  9876035371  998504780X  \\\n",
       "reviewerID                                                             \n",
       "A0219337RHNC3U3T12TP         0.0         0.0         0.0         0.0   \n",
       "A0293130VTX2ZXA70JQS         5.0         0.0         0.0         0.0   \n",
       "A0380485C177Q6QQNJIX         0.0         0.0         0.0         0.0   \n",
       "A100LQ882JSFB5               0.0         0.0         0.0         0.0   \n",
       "A100UD67AHFODS               0.0         0.0         0.0         0.0   \n",
       "A101OU5ZZAA1NG               0.0         0.0         0.0         0.0   \n",
       "A102HWC7IQSJE4               0.0         0.0         0.0         0.0   \n",
       "A1038957GWRBP375RU5T         5.0         0.0         0.0         0.0   \n",
       "A103GU73JTD8LS               0.0         0.0         0.0         0.0   \n",
       "A1049YR5LL0YN9               0.0         0.0         0.0         0.0   \n",
       "\n",
       "asin                  9985609034  B00000J0AR  B00000J0D2  B00000J0QI  \\\n",
       "reviewerID                                                             \n",
       "A0219337RHNC3U3T12TP         5.0         0.0         0.0         0.0   \n",
       "A0293130VTX2ZXA70JQS         0.0         0.0         0.0         0.0   \n",
       "A0380485C177Q6QQNJIX         0.0         0.0         0.0         0.0   \n",
       "A100LQ882JSFB5               0.0         0.0         0.0         0.0   \n",
       "A100UD67AHFODS               0.0         0.0         0.0         0.0   \n",
       "A101OU5ZZAA1NG               0.0         0.0         0.0         0.0   \n",
       "A102HWC7IQSJE4               0.0         0.0         0.0         0.0   \n",
       "A1038957GWRBP375RU5T         0.0         0.0         0.0         0.0   \n",
       "A103GU73JTD8LS               0.0         0.0         0.0         0.0   \n",
       "A1049YR5LL0YN9               0.0         0.0         0.0         0.0   \n",
       "\n",
       "asin                  B00000J1U5  B00000J1U8  ...  B00005111M  B00005115S  \\\n",
       "reviewerID                                    ...                           \n",
       "A0219337RHNC3U3T12TP         0.0         0.0  ...         0.0         0.0   \n",
       "A0293130VTX2ZXA70JQS         0.0         0.0  ...         0.0         0.0   \n",
       "A0380485C177Q6QQNJIX         0.0         0.0  ...         0.0         0.0   \n",
       "A100LQ882JSFB5               0.0         0.0  ...         0.0         0.0   \n",
       "A100UD67AHFODS               0.0         0.0  ...         0.0         0.0   \n",
       "A101OU5ZZAA1NG               0.0         5.0  ...         0.0         0.0   \n",
       "A102HWC7IQSJE4               0.0         0.0  ...         0.0         0.0   \n",
       "A1038957GWRBP375RU5T         0.0         0.0  ...         0.0         0.0   \n",
       "A103GU73JTD8LS               0.0         0.0  ...         0.0         0.0   \n",
       "A1049YR5LL0YN9               0.0         0.0  ...         0.0         0.0   \n",
       "\n",
       "asin                  B000051189  B00005118F  B0000511D7  B0000511E5  \\\n",
       "reviewerID                                                             \n",
       "A0219337RHNC3U3T12TP         0.0         0.0         0.0         0.0   \n",
       "A0293130VTX2ZXA70JQS         0.0         0.0         0.0         0.0   \n",
       "A0380485C177Q6QQNJIX         0.0         0.0         0.0         0.0   \n",
       "A100LQ882JSFB5               0.0         0.0         0.0         0.0   \n",
       "A100UD67AHFODS               0.0         0.0         0.0         0.0   \n",
       "A101OU5ZZAA1NG               0.0         0.0         0.0         0.0   \n",
       "A102HWC7IQSJE4               0.0         0.0         0.0         0.0   \n",
       "A1038957GWRBP375RU5T         0.0         0.0         0.0         0.0   \n",
       "A103GU73JTD8LS               0.0         0.0         0.0         0.0   \n",
       "A1049YR5LL0YN9               0.0         0.0         0.0         0.0   \n",
       "\n",
       "asin                  B0000511NM  B0000511TN  B00005125T  B000051299  \n",
       "reviewerID                                                            \n",
       "A0219337RHNC3U3T12TP         0.0         0.0         0.0         0.0  \n",
       "A0293130VTX2ZXA70JQS         0.0         0.0         0.0         0.0  \n",
       "A0380485C177Q6QQNJIX         0.0         0.0         0.0         0.0  \n",
       "A100LQ882JSFB5               0.0         0.0         0.0         0.0  \n",
       "A100UD67AHFODS               0.0         0.0         0.0         0.0  \n",
       "A101OU5ZZAA1NG               0.0         0.0         0.0         0.0  \n",
       "A102HWC7IQSJE4               0.0         0.0         0.0         0.0  \n",
       "A1038957GWRBP375RU5T         0.0         0.0         0.0         0.0  \n",
       "A103GU73JTD8LS               0.0         0.0         0.0         0.0  \n",
       "A1049YR5LL0YN9               0.0         0.0         0.0         0.0  \n",
       "\n",
       "[10 rows x 58 columns]"
      ]
     },
     "execution_count": 27,
     "metadata": {},
     "output_type": "execute_result"
    }
   ],
   "source": [
    "actual_rating_df = df2[['reviewerID', 'asin', 'overall']].pivot(index='reviewerID', columns='asin', values='overall').fillna(0)\n",
    "actual_rating_df.columns\n",
    "actual_rating_df.head(10)\n"
   ]
  },
  {
   "cell_type": "markdown",
   "id": "b733efad",
   "metadata": {},
   "source": [
    "### RMSE"
   ]
  },
  {
   "cell_type": "code",
   "execution_count": 29,
   "id": "1e5cf4e1",
   "metadata": {},
   "outputs": [
    {
     "name": "stdout",
     "output_type": "stream",
     "text": [
      "1.6624213628414362\n"
     ]
    }
   ],
   "source": [
    "np.sqrt(mean_squared_error(rating_pred_df, actual_rating_df))\n"
   ]
  },
  {
   "cell_type": "markdown",
   "id": "acb57508",
   "metadata": {},
   "source": [
    "##### reset the actual rating data into categorical data of positive and negative rating"
   ]
  },
  {
   "cell_type": "code",
   "execution_count": 30,
   "id": "f9769716",
   "metadata": {},
   "outputs": [],
   "source": [
    "actual_binary_rating_df = actual_rating_df.replace({0: 'negative', 1: 'negative', 2: 'negative', 3: 'positive', 4: 'positive', 5:'positive'})\n",
    "actual_binary_rating_df\n",
    "actual_rating_list = actual_binary_rating_df.values.reshape(1,-1)[0]\n"
   ]
  },
  {
   "cell_type": "markdown",
   "id": "08f854b5",
   "metadata": {},
   "source": [
    "#### Calculate the threshold under which the rating would be negative"
   ]
  },
  {
   "cell_type": "code",
   "execution_count": 31,
   "id": "a477b993",
   "metadata": {},
   "outputs": [],
   "source": [
    "threshold = []\n",
    "p = []\n",
    "r = []\n",
    "for i in np.arange(1, 5.01, 0.01):\n",
    "    pred_binary_rating_df = pd.DataFrame(np.where(rating_pred_df>=i, 'positive', 'negative'))\n",
    "    pred_rating_list = pred_binary_rating_df.values.reshape(1,-1)[0]\n",
    "    threshold.append(i)\n",
    "    tn, fp, fn, tp = confusion_matrix(actual_rating_list, pred_rating_list).ravel()\n",
    "    p.append(tp/(tp+fp))\n",
    "    r.append(tp/(tp+fn))"
   ]
  },
  {
   "cell_type": "code",
   "execution_count": 32,
   "id": "5887ebb7",
   "metadata": {},
   "outputs": [
    {
     "name": "stdout",
     "output_type": "stream",
     "text": [
      "0.2508560655611558 3.570000000000002\n"
     ]
    }
   ],
   "source": [
    "for i in range(len(threshold)):\n",
    "    if r[i] == 0.7225177304964538:\n",
    "        print(p[i], threshold[i])\n"
   ]
  },
  {
   "cell_type": "code",
   "execution_count": 33,
   "id": "d15d825e",
   "metadata": {},
   "outputs": [],
   "source": [
    "pred_binary_rating_df = pd.DataFrame(np.where(rating_pred_df>=3.57, 'positive', 'negative'))\n",
    "pred_rating_list = pred_binary_rating_df.values.reshape(1,-1)[0]"
   ]
  },
  {
   "cell_type": "code",
   "execution_count": 34,
   "id": "0c145344",
   "metadata": {},
   "outputs": [
    {
     "data": {
      "text/plain": [
       "array([[544371,  19471],\n",
       "       [  2504,   6520]])"
      ]
     },
     "execution_count": 34,
     "metadata": {},
     "output_type": "execute_result"
    }
   ],
   "source": [
    "confusion_matrix(actual_rating_list, pred_rating_list)"
   ]
  },
  {
   "cell_type": "code",
   "execution_count": 35,
   "id": "e113f893",
   "metadata": {},
   "outputs": [
    {
     "data": {
      "text/plain": [
       "[[6520, 2504], [19471, 544371]]"
      ]
     },
     "execution_count": 35,
     "metadata": {},
     "output_type": "execute_result"
    }
   ],
   "source": [
    "tn, fp, fn, tp = confusion_matrix(actual_rating_list, pred_rating_list).ravel()\n",
    "[[tp, fn], [fp, tn]]"
   ]
  },
  {
   "cell_type": "code",
   "execution_count": 71,
   "id": "3fed5ae5",
   "metadata": {},
   "outputs": [
    {
     "data": {
      "text/plain": [
       "[[5272, 3752], [6325, 557517]]"
      ]
     },
     "execution_count": 71,
     "metadata": {},
     "output_type": "execute_result"
    }
   ],
   "source": [
    "# tn, fp, fn, tp = confusion_matrix(actual_rating_list, pred_rating_list).ravel()\n",
    "# [[tp, fn], [fp, tn]]"
   ]
  },
  {
   "cell_type": "code",
   "execution_count": 36,
   "id": "acae5a5f",
   "metadata": {},
   "outputs": [
    {
     "name": "stdout",
     "output_type": "stream",
     "text": [
      "[[19471, 544371], [6520, 2504]]\n"
     ]
    },
    {
     "data": {
      "image/png": "[encoded data removed]",
      "text/plain": [
       "<Figure size 432x288 with 2 Axes>"
      ]
     },
     "metadata": {
      "needs_background": "light"
     },
     "output_type": "display_data"
    }
   ],
   "source": [
    "data = [[fp, tn], [tp, fn]]\n",
    "print(data)\n",
    "heatmap = plt.pcolor(data, cmap=\"OrRd\", ec='white')\n",
    "plt.colorbar(heatmap)\n",
    "# annot=True,cmap=\"OrRd\"\n",
    "plt.title(\"Confusion Matrix\")\n",
    "plt.show()"
   ]
  },
  {
   "cell_type": "code",
   "execution_count": 37,
   "id": "7dbb0059",
   "metadata": {},
   "outputs": [
    {
     "data": {
      "text/plain": [
       "0.2508560655611558"
      ]
     },
     "execution_count": 37,
     "metadata": {},
     "output_type": "execute_result"
    }
   ],
   "source": [
    "precision_score(actual_rating_list, pred_rating_list, pos_label='positive')"
   ]
  },
  {
   "cell_type": "code",
   "execution_count": 38,
   "id": "531be2dd",
   "metadata": {},
   "outputs": [
    {
     "data": {
      "text/plain": [
       "0.7225177304964538"
      ]
     },
     "execution_count": 38,
     "metadata": {},
     "output_type": "execute_result"
    }
   ],
   "source": [
    "recall_score(actual_rating_list, pred_rating_list, pos_label='positive')"
   ]
  },
  {
   "cell_type": "code",
   "execution_count": 39,
   "id": "700c643e",
   "metadata": {},
   "outputs": [
    {
     "data": {
      "text/plain": [
       "0.3724118235042125"
      ]
     },
     "execution_count": 39,
     "metadata": {},
     "output_type": "execute_result"
    }
   ],
   "source": [
    "f1_score(actual_rating_list, pred_rating_list, pos_label='positive')"
   ]
  },
  {
   "cell_type": "code",
   "execution_count": null,
   "id": "74684916",
   "metadata": {},
   "outputs": [],
   "source": []
  }
 ],
 "metadata": {
  "kernelspec": {
   "display_name": "Python 3 (ipykernel)",
   "language": "python",
   "name": "python3"
  },
  "language_info": {
   "codemirror_mode": {
    "name": "ipython",
    "version": 3
   },
   "file_extension": ".py",
   "mimetype": "text/x-python",
   "name": "python",
   "nbconvert_exporter": "python",
   "pygments_lexer": "ipython3",
   "version": "3.9.7"
  }
 },
 "nbformat": 4,
 "nbformat_minor": 5
}
